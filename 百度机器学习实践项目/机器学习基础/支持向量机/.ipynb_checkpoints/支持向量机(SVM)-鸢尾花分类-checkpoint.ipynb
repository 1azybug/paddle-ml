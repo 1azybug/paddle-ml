{
 "cells": [
  {
   "cell_type": "code",
   "execution_count": 43,
   "metadata": {
    "ExecuteTime": {
     "end_time": "2022-07-07T03:07:22.709724Z",
     "start_time": "2022-07-07T03:07:22.694213Z"
    }
   },
   "outputs": [],
   "source": [
    "import numpy as np\n",
    "from matplotlib import colors\n",
    "from sklearn import svm\n",
    "from sklearn import model_selection\n",
    "import matplotlib.pyplot as plt\n",
    "import matplotlib as mpl"
   ]
  },
  {
   "cell_type": "markdown",
   "metadata": {
    "ExecuteTime": {
     "end_time": "2022-07-07T02:29:55.192085Z",
     "start_time": "2022-07-07T02:29:55.178400Z"
    }
   },
   "source": [
    "## 数据处理"
   ]
  },
  {
   "cell_type": "code",
   "execution_count": 5,
   "metadata": {
    "ExecuteTime": {
     "end_time": "2022-07-07T02:17:57.120094Z",
     "start_time": "2022-07-07T02:17:57.104787Z"
    }
   },
   "outputs": [],
   "source": [
    "def conver(s):\n",
    "    d={b'Iris-setosa':0,b'Iris-versicolor':1,b'Iris-virginica':2}\n",
    "    return d[s]"
   ]
  },
  {
   "cell_type": "code",
   "execution_count": 8,
   "metadata": {
    "ExecuteTime": {
     "end_time": "2022-07-07T02:20:58.376278Z",
     "start_time": "2022-07-07T02:20:58.367927Z"
    }
   },
   "outputs": [],
   "source": [
    "data=np.loadtxt(\"Iris.data\",dtype=float,delimiter=',',converters={4:conver})"
   ]
  },
  {
   "cell_type": "code",
   "execution_count": 13,
   "metadata": {
    "ExecuteTime": {
     "end_time": "2022-07-07T02:28:16.714287Z",
     "start_time": "2022-07-07T02:28:16.702298Z"
    }
   },
   "outputs": [],
   "source": [
    "subdata=np.split(data,(2,4),axis=1)"
   ]
  },
  {
   "cell_type": "code",
   "execution_count": 15,
   "metadata": {
    "ExecuteTime": {
     "end_time": "2022-07-07T02:28:40.355104Z",
     "start_time": "2022-07-07T02:28:40.350704Z"
    }
   },
   "outputs": [],
   "source": [
    "x=subdata[0]\n",
    "y=subdata[2]"
   ]
  },
  {
   "cell_type": "code",
   "execution_count": 19,
   "metadata": {
    "ExecuteTime": {
     "end_time": "2022-07-07T02:32:46.526112Z",
     "start_time": "2022-07-07T02:32:46.512755Z"
    }
   },
   "outputs": [],
   "source": [
    "train_x,test_x,train_y,test_y=model_selection.train_test_split(x,y,random_state=1,test_size=0.2)"
   ]
  },
  {
   "cell_type": "markdown",
   "metadata": {
    "ExecuteTime": {
     "end_time": "2022-07-07T02:29:29.305617Z",
     "start_time": "2022-07-07T02:29:29.296094Z"
    }
   },
   "source": [
    "## 模型配置与训练"
   ]
  },
  {
   "cell_type": "code",
   "execution_count": 26,
   "metadata": {
    "ExecuteTime": {
     "end_time": "2022-07-07T02:38:35.568155Z",
     "start_time": "2022-07-07T02:38:35.560027Z"
    }
   },
   "outputs": [],
   "source": [
    "clf=svm.SVC(C=0.8,kernel='linear',decision_function_shape='ovr')"
   ]
  },
  {
   "cell_type": "code",
   "execution_count": 27,
   "metadata": {
    "ExecuteTime": {
     "end_time": "2022-07-07T02:38:35.894108Z",
     "start_time": "2022-07-07T02:38:35.877653Z"
    }
   },
   "outputs": [
    {
     "data": {
      "text/plain": [
       "SVC(C=0.8, cache_size=200, class_weight=None, coef0=0.0,\n",
       "  decision_function_shape='ovr', degree=3, gamma='auto', kernel='linear',\n",
       "  max_iter=-1, probability=False, random_state=None, shrinking=True,\n",
       "  tol=0.001, verbose=False)"
      ]
     },
     "execution_count": 27,
     "metadata": {},
     "output_type": "execute_result"
    }
   ],
   "source": [
    "clf.fit(train_x,train_y.ravel())"
   ]
  },
  {
   "cell_type": "code",
   "execution_count": 28,
   "metadata": {
    "ExecuteTime": {
     "end_time": "2022-07-07T02:39:11.045600Z",
     "start_time": "2022-07-07T02:39:11.026926Z"
    }
   },
   "outputs": [],
   "source": [
    "pred=clf.predict(test_x)"
   ]
  },
  {
   "cell_type": "code",
   "execution_count": 30,
   "metadata": {
    "ExecuteTime": {
     "end_time": "2022-07-07T02:40:33.130264Z",
     "start_time": "2022-07-07T02:40:33.121019Z"
    }
   },
   "outputs": [
    {
     "name": "stdout",
     "output_type": "stream",
     "text": [
      "0.7666666666666667\n"
     ]
    }
   ],
   "source": [
    "print(np.mean(pred.ravel()==test_y.ravel()))"
   ]
  },
  {
   "cell_type": "code",
   "execution_count": 31,
   "metadata": {
    "ExecuteTime": {
     "end_time": "2022-07-07T02:41:35.011869Z",
     "start_time": "2022-07-07T02:41:35.004090Z"
    }
   },
   "outputs": [
    {
     "data": {
      "text/plain": [
       "0.7666666666666667"
      ]
     },
     "execution_count": 31,
     "metadata": {},
     "output_type": "execute_result"
    }
   ],
   "source": [
    "clf.score(test_x,test_y)"
   ]
  },
  {
   "cell_type": "code",
   "execution_count": 32,
   "metadata": {
    "ExecuteTime": {
     "end_time": "2022-07-07T02:41:53.000952Z",
     "start_time": "2022-07-07T02:41:52.996949Z"
    }
   },
   "outputs": [
    {
     "data": {
      "text/plain": [
       "0.8083333333333333"
      ]
     },
     "execution_count": 32,
     "metadata": {},
     "output_type": "execute_result"
    }
   ],
   "source": [
    "clf.score(train_x,train_y)"
   ]
  },
  {
   "cell_type": "code",
   "execution_count": 34,
   "metadata": {
    "ExecuteTime": {
     "end_time": "2022-07-07T02:43:34.873220Z",
     "start_time": "2022-07-07T02:43:34.852207Z"
    }
   },
   "outputs": [
    {
     "name": "stdout",
     "output_type": "stream",
     "text": [
      "[[-0.13846857  1.07309809  2.06537048]\n",
      " [-0.43697192  1.15110095  2.28587097]\n",
      " [-0.12397137  2.12467127  0.99930009]\n",
      " [-0.22595198  1.11810326  2.10784873]\n",
      " [-0.11401323  2.08885218  1.02516104]\n",
      " [ 2.12108225 -0.07223206  0.95114981]\n",
      " [-0.13682895  2.15017573  0.98665322]\n",
      " [ 2.09246765  0.96846221 -0.06092986]\n",
      " [-0.24460844  1.12297844  2.12163001]\n",
      " [-0.32919242  1.17829824  2.15089418]\n",
      " [-0.26906378  1.10722434  2.16183944]\n",
      " [ 2.12688113  0.94839722 -0.07527835]\n",
      " [-0.24586826  2.18974144  1.05612683]\n",
      " [-0.1915385   1.09803826  2.09350024]\n",
      " [-0.24750788  1.1126638   2.13484409]\n",
      " [-0.5         1.21186021  2.28813979]\n",
      " [ 2.06221343 -0.06792116  1.00570773]\n",
      " [ 2.16129461  0.92833222 -0.08962683]\n",
      " [ 2.10406541  1.00972076 -0.11378617]\n",
      " [ 0.98216851  2.07479093 -0.05695944]\n",
      " [ 2.11112411  0.96358703 -0.07471114]\n",
      " [ 2.05225529 -0.03210207  0.97984678]\n",
      " [-0.31091576  1.02958242  2.28133334]\n",
      " [-0.27196322  1.0969097   2.17505352]\n",
      " [-0.3781031   1.14679005  2.23131305]\n",
      " [-0.22595198  1.11810326  2.10784873]\n",
      " [-0.18863906  1.1083529   2.08028617]\n",
      " [-0.05678403  1.00746364  2.04932038]\n",
      " [-0.46848596  1.18148058  2.28700538]\n",
      " [-0.06384273  2.05359737  1.01024536]\n",
      " [ 2.16709349  0.9489615  -0.11605499]\n",
      " [-0.14262783  2.12954645  1.01308137]\n",
      " [-0.22305254  1.12841789  2.09463465]\n",
      " [ 2.10406541  1.00972076 -0.11378617]\n",
      " [ 2.15423591  0.97446595 -0.12870186]\n",
      " [-0.2130944   1.0925988   2.1204956 ]\n",
      " [ 2.20440641  0.93921114 -0.14361755]\n",
      " [-0.13846857  1.07309809  2.06537048]\n",
      " [-0.18158036  1.06221917  2.11936119]\n",
      " [-0.2346503   1.08715934  2.14749096]\n",
      " [-0.09535677  2.083977    1.01137976]\n",
      " [-0.20313626  1.05677971  2.14635655]\n",
      " [-0.11981211  1.06822291  2.0515892 ]\n",
      " [ 2.17415219 -0.09717223  0.92302004]\n",
      " [-0.24586826  2.18974144  1.05612683]\n",
      " [-0.21019496  1.10291344  2.10728152]\n",
      " [-0.2130944   1.0925988   2.1204956 ]\n",
      " [ 0.95645335  2.12579983 -0.08225319]\n",
      " [-0.12851043  1.037279    2.09123143]\n",
      " [-0.10531491  2.11979609  0.98551881]\n",
      " [ 2.10242579 -0.06735688  0.96493109]\n",
      " [ 2.10116597  0.99940612 -0.10057209]\n",
      " [ 2.20276679 -0.1378665   0.93509971]\n",
      " [-0.20313626  1.05677971  2.14635655]\n",
      " [ 2.17869125  0.99022005 -0.1689113 ]\n",
      " [-0.16708316  2.11379236  1.05329081]\n",
      " [-0.241709    1.13329307  2.10841593]\n",
      " [-0.10115565  1.06334773  2.03780792]\n",
      " [ 2.10822467  0.95327239 -0.06149707]\n",
      " [ 2.09536709  0.97877685 -0.07414394]\n",
      " [-0.12977025  2.104042    1.02572825]\n",
      " [ 2.10116597  0.99940612 -0.10057209]\n",
      " [-0.41251658  1.16685505  2.24566154]\n",
      " [-0.17288204  1.09316308  2.07971896]\n",
      " [-0.41831546  1.14622577  2.27208969]\n",
      " [-0.25040732  1.10234916  2.14805816]\n",
      " [-0.28608062  2.18917716  1.09690346]\n",
      " [-0.09409695  1.017214    2.07688295]\n",
      " [-0.2491475   1.03558616  2.21356135]\n",
      " [-0.06094329  2.06391201  0.99703128]\n",
      " [ 2.15675555 -0.15906006  1.00230451]\n",
      " [-0.12977025  2.104042    1.02572825]\n",
      " [ 2.04973565  1.10142394 -0.15115959]\n",
      " [-0.12107193  2.13498591  0.98608601]\n",
      " [-0.27196322  1.0969097   2.17505352]\n",
      " [ 2.12978057  0.95871185 -0.08849242]\n",
      " [-0.30057782  1.13760397  2.16297385]\n",
      " [ 2.14553759  0.94352204 -0.08905963]\n",
      " [ 2.16709349  0.9489615  -0.11605499]\n",
      " [-0.11275341  1.02208918  2.09066423]\n",
      " [-0.07670031  2.07910182  0.99759848]\n",
      " [-0.23754974  1.07684471  2.16070504]\n",
      " [ 2.11402355  0.97390167 -0.08792522]\n",
      " [ 2.15839517  0.91801758 -0.07641275]\n",
      " [-0.06964161  1.0329681   2.03667351]\n",
      " [ 2.15713535  0.98478059 -0.14191594]\n",
      " [-0.12977025  2.104042    1.02572825]\n",
      " [ 2.11982243  0.99453094 -0.11435338]\n",
      " [-0.2130944   1.0925988   2.1204956 ]\n",
      " [ 1.00662385  2.09054502 -0.09716887]\n",
      " [ 2.17289237  0.96959077 -0.14248314]\n",
      " [-0.1629239   1.05734399  2.10557991]\n",
      " [ 2.19734771  0.98534487 -0.18269258]\n",
      " [-0.04518627  2.04872219  0.99646407]\n",
      " [ 2.16293423  1.00540986 -0.16834409]\n",
      " [-0.12107193  2.13498591  0.98608601]\n",
      " [-0.09081771  2.17136928  0.91944842]\n",
      " [ 2.12688113  0.94839722 -0.07527835]\n",
      " [ 2.08540895  1.01459594 -0.10000489]\n",
      " [ 0.99086683  2.10573484 -0.09660167]\n",
      " [ 2.23592045  0.90883151 -0.14475195]\n",
      " [-0.10115565  1.06334773  2.03780792]\n",
      " [-0.15422559  1.0882879   2.06593768]\n",
      " [ 2.12978057  0.95871185 -0.08849242]\n",
      " [-0.2346503   1.08715934  2.14749096]\n",
      " [-0.07959975  2.06878719  1.01081256]\n",
      " [-0.28318118  2.1994918   1.08368939]\n",
      " [-0.27486266  1.08659506  2.1882676 ]\n",
      " [-0.12977025  2.104042    1.02572825]\n",
      " [ 2.05515473  0.97821257 -0.0333673 ]\n",
      " [ 2.06675249  1.01947112 -0.08622361]\n",
      " [-0.20149664  2.13385735  1.06763929]\n",
      " [-0.1699826   1.10347772  2.06650489]\n",
      " [-0.34368962  1.12672505  2.21696457]\n",
      " [-0.12687081  2.11435664  1.01251417]\n",
      " [-0.20729552  1.11322808  2.09406745]\n",
      " [-0.17868092  1.07253381  2.10614712]\n",
      " [-0.25456658  2.15879753  1.09576906]\n",
      " [-0.2346503   1.08715934  2.14749096]\n",
      " [ 2.10116597  0.99940612 -0.10057209]]\n"
     ]
    }
   ],
   "source": [
    "print(clf.decision_function(train_x))"
   ]
  },
  {
   "cell_type": "markdown",
   "metadata": {},
   "source": [
    "## 绘图"
   ]
  },
  {
   "cell_type": "code",
   "execution_count": 35,
   "metadata": {
    "ExecuteTime": {
     "end_time": "2022-07-07T02:47:27.063775Z",
     "start_time": "2022-07-07T02:47:27.054669Z"
    }
   },
   "outputs": [],
   "source": [
    "x1_min=x[:,0].min()\n",
    "x1_max=x[:,0].max()\n",
    "x2_min=x[:,1].min()\n",
    "x2_max=x[:,1].max()"
   ]
  },
  {
   "cell_type": "code",
   "execution_count": 39,
   "metadata": {
    "ExecuteTime": {
     "end_time": "2022-07-07T02:54:59.714549Z",
     "start_time": "2022-07-07T02:54:59.683762Z"
    }
   },
   "outputs": [],
   "source": [
    "x1,x2=np.mgrid[x1_min:x1_max:200j,x2_min:x2_max:200j]\n",
    "grid_x=np.stack((x1.flat,x2.flat),axis=1)\n",
    "grid_y=clf.predict(grid_x)"
   ]
  },
  {
   "cell_type": "code",
   "execution_count": 64,
   "metadata": {
    "ExecuteTime": {
     "end_time": "2022-07-07T03:19:24.387044Z",
     "start_time": "2022-07-07T03:19:24.217523Z"
    }
   },
   "outputs": [
    {
     "name": "stderr",
     "output_type": "stream",
     "text": [
      "C:\\Users\\lazybug\\Anaconda3\\lib\\site-packages\\ipykernel_launcher.py:3: MatplotlibDeprecationWarning: shading='flat' when X and Y have the same dimensions as C is deprecated since 3.3.  Either specify the corners of the quadrilaterals with X and Y, or pass shading='auto', 'nearest' or 'gouraud', or set rcParams['pcolor.shading'].  This will become an error two minor releases later.\n",
      "  This is separate from the ipykernel package so we can avoid doing imports until\n"
     ]
    },
    {
     "data": {
      "text/plain": [
       "<matplotlib.collections.PathCollection at 0x1529049f828>"
      ]
     },
     "execution_count": 64,
     "metadata": {},
     "output_type": "execute_result"
    },
    {
     "data": {
      "image/png": "[encoded data removed]",
      "text/plain": [
       "<Figure size 432x288 with 1 Axes>"
      ]
     },
     "metadata": {
      "needs_background": "light"
     },
     "output_type": "display_data"
    }
   ],
   "source": [
    "cm_light=mpl.colors.ListedColormap(['#A0FFA0','#FFA0A0','#A0A0FF'])\n",
    "cm_dark=mpl.colors.ListedColormap(['g','b','r'])\n",
    "plt.pcolormesh(x1,x2,grid_y.reshape(x1.shape),cmap=cm_light)\n",
    "\n",
    "plt.scatter(x[:,0],x[:,1],c=y.flat,edgecolor='k',s=100,cmap=cm_dark)\n",
    "plt.scatter(test_x[:,0],test_x[:,1],s=50,facecolor='none',zorder=10)\n"
   ]
  },
  {
   "cell_type": "code",
   "execution_count": null,
   "metadata": {},
   "outputs": [],
   "source": []
  }
 ],
 "metadata": {
  "kernelspec": {
   "display_name": "Python 3",
   "language": "python",
   "name": "python3"
  },
  "language_info": {
   "codemirror_mode": {
    "name": "ipython",
    "version": 3
   },
   "file_extension": ".py",
   "mimetype": "text/x-python",
   "name": "python",
   "nbconvert_exporter": "python",
   "pygments_lexer": "ipython3",
   "version": "3.6.4"
  }
 },
 "nbformat": 4,
 "nbformat_minor": 2
}
