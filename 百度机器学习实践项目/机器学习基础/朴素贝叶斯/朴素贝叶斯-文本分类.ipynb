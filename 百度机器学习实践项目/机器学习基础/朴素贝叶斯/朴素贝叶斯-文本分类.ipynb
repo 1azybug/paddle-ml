{
 "cells": [
  {
   "cell_type": "code",
   "execution_count": 1,
   "metadata": {
    "ExecuteTime": {
     "end_time": "2022-07-06T07:56:07.882874Z",
     "start_time": "2022-07-06T07:56:07.435686Z"
    }
   },
   "outputs": [],
   "source": [
    "import jieba\n",
    "import re\n",
    "from sklearn import model_selection\n",
    "from sklearn.naive_bayes import MultinomialNB\n",
    "from sklearn.metrics import accuracy_score,classification_report"
   ]
  },
  {
   "cell_type": "code",
   "execution_count": 2,
   "metadata": {
    "ExecuteTime": {
     "end_time": "2022-07-06T07:56:07.898353Z",
     "start_time": "2022-07-06T07:56:07.883377Z"
    }
   },
   "outputs": [],
   "source": [
    "def read_stop(path):\n",
    "    stop_word=[line.strip() for line in open(path,'r',encoding='UTF-8').readlines()]\n",
    "    return stop_word"
   ]
  },
  {
   "cell_type": "code",
   "execution_count": 3,
   "metadata": {
    "ExecuteTime": {
     "end_time": "2022-07-06T07:56:07.913711Z",
     "start_time": "2022-07-06T07:56:07.899858Z"
    }
   },
   "outputs": [],
   "source": [
    "stop_word=read_stop(\"stop.txt\")"
   ]
  },
  {
   "cell_type": "code",
   "execution_count": 4,
   "metadata": {
    "ExecuteTime": {
     "end_time": "2022-07-06T07:56:07.929428Z",
     "start_time": "2022-07-06T07:56:07.914214Z"
    }
   },
   "outputs": [],
   "source": [
    "def load_data(path):\n",
    "    lbs=[]\n",
    "    sentences=[]\n",
    "    with open(path,'r',encoding='utf8') as f:\n",
    "        for line in f.readlines():\n",
    "            x=line.split('_!_')\n",
    "            lbs.append(x[1])\n",
    "            sentence = re.sub(\"[\\s+\\.\\!\\/_,$%^*(+\\\"\\')]+|[+——()?【】“”！，。？、~@#￥%……&*（）《》：]+\", \"\",x[3]) #去除标点符号\n",
    "            words=jieba.lcut(sentence)\n",
    "            sentences.append(words)\n",
    "        f.close()\n",
    "    return sentences,lbs"
   ]
  },
  {
   "cell_type": "code",
   "execution_count": 5,
   "metadata": {
    "ExecuteTime": {
     "end_time": "2022-07-06T07:56:13.217700Z",
     "start_time": "2022-07-06T07:56:07.930455Z"
    }
   },
   "outputs": [
    {
     "name": "stderr",
     "output_type": "stream",
     "text": [
      "Building prefix dict from the default dictionary ...\n",
      "Loading model from cache C:\\Users\\lazybug\\AppData\\Local\\Temp\\jieba.cache\n",
      "Loading model cost 0.557 seconds.\n",
      "Prefix dict has been built successfully.\n"
     ]
    }
   ],
   "source": [
    "sentences,lbs=load_data(\"news_classify_data.txt\")"
   ]
  },
  {
   "cell_type": "code",
   "execution_count": 6,
   "metadata": {
    "ExecuteTime": {
     "end_time": "2022-07-06T07:56:13.233544Z",
     "start_time": "2022-07-06T07:56:13.218725Z"
    }
   },
   "outputs": [],
   "source": [
    "def get_dict(sentences,stop_word):\n",
    "    word_dict={}\n",
    "    for sentence in sentences:\n",
    "        for word in sentence:\n",
    "            if word!='' and word.isalpha(): \n",
    "                if word not in stop_word:\n",
    "                    word_dict[word]=word_dict.get(word,1)+1\n",
    "    \n",
    "    word_dict=sorted(word_dict.items(),key=lambda x:x[1],reverse=True)\n",
    "    return word_dict[:10000]"
   ]
  },
  {
   "cell_type": "code",
   "execution_count": 7,
   "metadata": {
    "ExecuteTime": {
     "end_time": "2022-07-06T07:56:21.888339Z",
     "start_time": "2022-07-06T07:56:13.234546Z"
    }
   },
   "outputs": [],
   "source": [
    "word_dict=get_dict(sentences,stop_word)"
   ]
  },
  {
   "cell_type": "code",
   "execution_count": 10,
   "metadata": {
    "ExecuteTime": {
     "end_time": "2022-07-06T07:58:34.127787Z",
     "start_time": "2022-07-06T07:58:34.117608Z"
    }
   },
   "outputs": [],
   "source": [
    "def get_first(arr_list):\n",
    "    first_list=[]\n",
    "    for i in arr_list:\n",
    "        first_list.append(i[0])\n",
    "    return first_list"
   ]
  },
  {
   "cell_type": "code",
   "execution_count": 12,
   "metadata": {
    "ExecuteTime": {
     "end_time": "2022-07-06T07:59:34.041725Z",
     "start_time": "2022-07-06T07:59:34.023401Z"
    }
   },
   "outputs": [],
   "source": [
    "word_dict=get_first(word_dict)"
   ]
  },
  {
   "cell_type": "code",
   "execution_count": 14,
   "metadata": {
    "ExecuteTime": {
     "end_time": "2022-07-06T08:02:30.829496Z",
     "start_time": "2022-07-06T08:02:30.816265Z"
    }
   },
   "outputs": [],
   "source": [
    "def to_onehot(sentence,word_dict):\n",
    "    return [1 if word in sentence else 0 for word in word_dict]"
   ]
  },
  {
   "cell_type": "code",
   "execution_count": 15,
   "metadata": {
    "ExecuteTime": {
     "end_time": "2022-07-06T08:04:53.680209Z",
     "start_time": "2022-07-06T08:04:53.665028Z"
    }
   },
   "outputs": [],
   "source": [
    "def get_onehot(sentences,word_dict):\n",
    "    return [to_onehot(sentence,word_dict) for sentence in sentences]"
   ]
  },
  {
   "cell_type": "code",
   "execution_count": 17,
   "metadata": {
    "ExecuteTime": {
     "end_time": "2022-07-06T08:07:19.439457Z",
     "start_time": "2022-07-06T08:05:58.023940Z"
    }
   },
   "outputs": [],
   "source": [
    "sentences=get_onehot(sentences,word_dict)"
   ]
  },
  {
   "cell_type": "code",
   "execution_count": 20,
   "metadata": {
    "ExecuteTime": {
     "end_time": "2022-07-06T08:19:28.525597Z",
     "start_time": "2022-07-06T08:19:28.486091Z"
    }
   },
   "outputs": [],
   "source": [
    "train_x,test_x,train_y,test_y=model_selection.train_test_split(sentences,lbs,test_size=0.1)"
   ]
  },
  {
   "cell_type": "code",
   "execution_count": 30,
   "metadata": {
    "ExecuteTime": {
     "end_time": "2022-07-06T08:23:49.472542Z",
     "start_time": "2022-07-06T08:23:49.456665Z"
    }
   },
   "outputs": [],
   "source": [
    "model=MultinomialNB()"
   ]
  },
  {
   "cell_type": "code",
   "execution_count": 31,
   "metadata": {
    "ExecuteTime": {
     "end_time": "2022-07-06T08:24:39.721216Z",
     "start_time": "2022-07-06T08:24:09.900179Z"
    }
   },
   "outputs": [
    {
     "data": {
      "text/plain": [
       "MultinomialNB(alpha=1.0, class_prior=None, fit_prior=True)"
      ]
     },
     "execution_count": 31,
     "metadata": {},
     "output_type": "execute_result"
    }
   ],
   "source": [
    "model.fit(train_x,train_y)"
   ]
  },
  {
   "cell_type": "code",
   "execution_count": 34,
   "metadata": {
    "ExecuteTime": {
     "end_time": "2022-07-06T08:29:22.955863Z",
     "start_time": "2022-07-06T08:29:17.169351Z"
    }
   },
   "outputs": [
    {
     "name": "stdout",
     "output_type": "stream",
     "text": [
      "0.7737110680978356\n",
      "             precision    recall  f1-score   support\n",
      "\n",
      "          0       0.78      0.71      0.74       505\n",
      "          1       0.76      0.85      0.80       577\n",
      "          2       0.88      0.82      0.85       455\n",
      "          3       0.64      0.63      0.63       780\n",
      "          4       0.81      0.80      0.80       370\n",
      "          5       0.87      0.85      0.86       783\n",
      "          6       0.82      0.86      0.84       820\n",
      "          7       0.69      0.69      0.69       585\n",
      "          8       0.78      0.70      0.74       434\n",
      "          9       0.73      0.81      0.77       374\n",
      "\n",
      "avg / total       0.77      0.77      0.77      5683\n",
      "\n"
     ]
    }
   ],
   "source": [
    "print(model.score(test_x,test_y))\n",
    "pred=model.predict(test_x)\n",
    "print(classification_report(test_y,pred))"
   ]
  },
  {
   "cell_type": "code",
   "execution_count": 33,
   "metadata": {
    "ExecuteTime": {
     "end_time": "2022-07-06T08:27:14.118767Z",
     "start_time": "2022-07-06T08:27:14.109748Z"
    }
   },
   "outputs": [],
   "source": []
  },
  {
   "cell_type": "code",
   "execution_count": null,
   "metadata": {},
   "outputs": [],
   "source": []
  }
 ],
 "metadata": {
  "kernelspec": {
   "display_name": "Python 3",
   "language": "python",
   "name": "python3"
  },
  "language_info": {
   "codemirror_mode": {
    "name": "ipython",
    "version": 3
   },
   "file_extension": ".py",
   "mimetype": "text/x-python",
   "name": "python",
   "nbconvert_exporter": "python",
   "pygments_lexer": "ipython3",
   "version": "3.6.4"
  }
 },
 "nbformat": 4,
 "nbformat_minor": 2
}
