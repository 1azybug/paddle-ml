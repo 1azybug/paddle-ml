{
 "cells": [
  {
   "cell_type": "code",
   "execution_count": 131,
   "metadata": {
    "ExecuteTime": {
     "end_time": "2022-07-07T06:44:58.333884Z",
     "start_time": "2022-07-07T06:44:58.331376Z"
    }
   },
   "outputs": [],
   "source": [
    "import matplotlib.pyplot as plt\n",
    "import numpy as np\n",
    "from sklearn.cluster import KMeans\n",
    "from sklearn import datasets"
   ]
  },
  {
   "cell_type": "code",
   "execution_count": 132,
   "metadata": {
    "ExecuteTime": {
     "end_time": "2022-07-07T06:44:58.905669Z",
     "start_time": "2022-07-07T06:44:58.890887Z"
    }
   },
   "outputs": [],
   "source": [
    "iris=datasets.load_iris()"
   ]
  },
  {
   "cell_type": "code",
   "execution_count": 133,
   "metadata": {
    "ExecuteTime": {
     "end_time": "2022-07-07T06:44:58.936155Z",
     "start_time": "2022-07-07T06:44:58.919850Z"
    }
   },
   "outputs": [],
   "source": [
    "X=iris.data[:,:4]"
   ]
  },
  {
   "cell_type": "markdown",
   "metadata": {},
   "source": [
    "## 手动实现K-means"
   ]
  },
  {
   "cell_type": "code",
   "execution_count": 134,
   "metadata": {
    "ExecuteTime": {
     "end_time": "2022-07-07T06:44:58.984105Z",
     "start_time": "2022-07-07T06:44:58.980075Z"
    }
   },
   "outputs": [],
   "source": [
    "n,m=X.shape"
   ]
  },
  {
   "cell_type": "code",
   "execution_count": 135,
   "metadata": {
    "ExecuteTime": {
     "end_time": "2022-07-07T06:44:59.015602Z",
     "start_time": "2022-07-07T06:44:59.012072Z"
    }
   },
   "outputs": [],
   "source": [
    "k=3"
   ]
  },
  {
   "cell_type": "code",
   "execution_count": 136,
   "metadata": {
    "ExecuteTime": {
     "end_time": "2022-07-07T06:44:59.046251Z",
     "start_time": "2022-07-07T06:44:59.041241Z"
    },
    "scrolled": true
   },
   "outputs": [],
   "source": [
    "center=[]\n",
    "for i in range(k):\n",
    "    ind=int(np.random.uniform(0,n))\n",
    "    center.append(X[i])\n",
    "center=np.array(center)"
   ]
  },
  {
   "cell_type": "code",
   "execution_count": 137,
   "metadata": {
    "ExecuteTime": {
     "end_time": "2022-07-07T06:44:59.077290Z",
     "start_time": "2022-07-07T06:44:59.070749Z"
    }
   },
   "outputs": [
    {
     "data": {
      "text/plain": [
       "array([[5.1, 3.5, 1.4, 0.2],\n",
       "       [4.9, 3. , 1.4, 0.2],\n",
       "       [4.7, 3.2, 1.3, 0.2]])"
      ]
     },
     "execution_count": 137,
     "metadata": {},
     "output_type": "execute_result"
    }
   ],
   "source": [
    "center"
   ]
  },
  {
   "cell_type": "code",
   "execution_count": 138,
   "metadata": {
    "ExecuteTime": {
     "end_time": "2022-07-07T06:44:59.109289Z",
     "start_time": "2022-07-07T06:44:59.100791Z"
    }
   },
   "outputs": [],
   "source": [
    "def dist(x,y):\n",
    "#     print(x,y)\n",
    "    return np.sqrt(np.sum((x-y)**2))"
   ]
  },
  {
   "cell_type": "code",
   "execution_count": 139,
   "metadata": {
    "ExecuteTime": {
     "end_time": "2022-07-07T06:44:59.219327Z",
     "start_time": "2022-07-07T06:44:59.130847Z"
    }
   },
   "outputs": [],
   "source": [
    "changed=True\n",
    "belong=np.zeros(n)\n",
    "while changed:\n",
    "    \n",
    "    changed=False\n",
    "    \n",
    "    #聚类\n",
    "    for i in range(n):\n",
    "        mind=1000000\n",
    "        minj=-1\n",
    "        for j in range(k):\n",
    "            if dist(X[i],center[j])<mind:\n",
    "                mind=dist(X[i],center[j])\n",
    "                minj=j\n",
    "        if belong[i]!=minj:\n",
    "            changed=True\n",
    "            belong[i]=minj\n",
    "        \n",
    "#         print(mind,minj)\n",
    "    \n",
    "#     print(belong)\n",
    "    #更新簇心\n",
    "    for j in range(k):\n",
    "        \n",
    "        center[j]=np.mean(X[np.nonzero(belong==j)],axis=0)\n",
    "        \n",
    "    "
   ]
  },
  {
   "cell_type": "markdown",
   "metadata": {},
   "source": [
    "## 绘图"
   ]
  },
  {
   "cell_type": "code",
   "execution_count": 163,
   "metadata": {
    "ExecuteTime": {
     "end_time": "2022-07-07T06:52:23.731993Z",
     "start_time": "2022-07-07T06:52:23.706824Z"
    },
    "scrolled": false
   },
   "outputs": [],
   "source": [
    "def draw(X,belong,center,x1,x2):\n",
    "    \n",
    "    data0=X[np.nonzero(belong==0)]\n",
    "    data1=X[np.nonzero(belong==1)]\n",
    "    data2=X[np.nonzero(belong==2)]\n",
    "    \n",
    "    plt.scatter(data0[:,x1],data0[:,x2],c='g',marker='^')\n",
    "    plt.scatter(data1[:,x1],data1[:,x2],c='b',marker='+')\n",
    "    plt.scatter(data2[:,x1],data2[:,x2],c='r',marker='*')\n",
    "#     print(x1,x2)\n",
    "#     print(type(center))\n",
    "#     print(center[:,x1])\n",
    "    plt.scatter(center[:,x1],center[:,x2],c='k')\n",
    "    "
   ]
  },
  {
   "cell_type": "code",
   "execution_count": 164,
   "metadata": {
    "ExecuteTime": {
     "end_time": "2022-07-07T06:52:24.053970Z",
     "start_time": "2022-07-07T06:52:23.945880Z"
    }
   },
   "outputs": [
    {
     "data": {
      "image/png": "[encoded data removed]",
      "text/plain": [
       "<Figure size 432x288 with 1 Axes>"
      ]
     },
     "metadata": {
      "needs_background": "light"
     },
     "output_type": "display_data"
    }
   ],
   "source": [
    "draw(X,belong,center,2,3)"
   ]
  },
  {
   "cell_type": "markdown",
   "metadata": {},
   "source": [
    "## 调用sklearn库的klearn"
   ]
  },
  {
   "cell_type": "code",
   "execution_count": 165,
   "metadata": {
    "ExecuteTime": {
     "end_time": "2022-07-07T06:52:27.361258Z",
     "start_time": "2022-07-07T06:52:27.347164Z"
    }
   },
   "outputs": [],
   "source": [
    "model=KMeans(n_clusters=k)"
   ]
  },
  {
   "cell_type": "code",
   "execution_count": 166,
   "metadata": {
    "ExecuteTime": {
     "end_time": "2022-07-07T06:52:28.872972Z",
     "start_time": "2022-07-07T06:52:28.851932Z"
    }
   },
   "outputs": [
    {
     "data": {
      "text/plain": [
       "KMeans(algorithm='auto', copy_x=True, init='k-means++', max_iter=300,\n",
       "    n_clusters=3, n_init=10, n_jobs=1, precompute_distances='auto',\n",
       "    random_state=None, tol=0.0001, verbose=0)"
      ]
     },
     "execution_count": 166,
     "metadata": {},
     "output_type": "execute_result"
    }
   ],
   "source": [
    "model.fit(X)"
   ]
  },
  {
   "cell_type": "code",
   "execution_count": 167,
   "metadata": {
    "ExecuteTime": {
     "end_time": "2022-07-07T06:52:31.524728Z",
     "start_time": "2022-07-07T06:52:31.511015Z"
    }
   },
   "outputs": [],
   "source": [
    "y=model.labels_"
   ]
  },
  {
   "cell_type": "code",
   "execution_count": 169,
   "metadata": {
    "ExecuteTime": {
     "end_time": "2022-07-07T06:52:50.404092Z",
     "start_time": "2022-07-07T06:52:50.295497Z"
    },
    "scrolled": true
   },
   "outputs": [
    {
     "data": {
      "image/png": "[encoded data removed]",
      "text/plain": [
       "<Figure size 432x288 with 1 Axes>"
      ]
     },
     "metadata": {
      "needs_background": "light"
     },
     "output_type": "display_data"
    }
   ],
   "source": [
    "draw(X,y,center,2,3)"
   ]
  },
  {
   "cell_type": "code",
   "execution_count": null,
   "metadata": {},
   "outputs": [],
   "source": []
  },
  {
   "cell_type": "code",
   "execution_count": null,
   "metadata": {},
   "outputs": [],
   "source": []
  },
  {
   "cell_type": "code",
   "execution_count": null,
   "metadata": {},
   "outputs": [],
   "source": []
  },
  {
   "cell_type": "code",
   "execution_count": null,
   "metadata": {},
   "outputs": [],
   "source": []
  },
  {
   "cell_type": "code",
   "execution_count": null,
   "metadata": {},
   "outputs": [],
   "source": []
  },
  {
   "cell_type": "code",
   "execution_count": null,
   "metadata": {},
   "outputs": [],
   "source": []
  },
  {
   "cell_type": "code",
   "execution_count": null,
   "metadata": {},
   "outputs": [],
   "source": []
  },
  {
   "cell_type": "code",
   "execution_count": null,
   "metadata": {},
   "outputs": [],
   "source": []
  },
  {
   "cell_type": "code",
   "execution_count": null,
   "metadata": {},
   "outputs": [],
   "source": []
  },
  {
   "cell_type": "code",
   "execution_count": null,
   "metadata": {},
   "outputs": [],
   "source": []
  },
  {
   "cell_type": "code",
   "execution_count": null,
   "metadata": {},
   "outputs": [],
   "source": []
  },
  {
   "cell_type": "code",
   "execution_count": null,
   "metadata": {},
   "outputs": [],
   "source": []
  },
  {
   "cell_type": "code",
   "execution_count": null,
   "metadata": {},
   "outputs": [],
   "source": []
  },
  {
   "cell_type": "code",
   "execution_count": null,
   "metadata": {},
   "outputs": [],
   "source": []
  },
  {
   "cell_type": "code",
   "execution_count": null,
   "metadata": {},
   "outputs": [],
   "source": []
  },
  {
   "cell_type": "code",
   "execution_count": null,
   "metadata": {},
   "outputs": [],
   "source": []
  },
  {
   "cell_type": "code",
   "execution_count": null,
   "metadata": {},
   "outputs": [],
   "source": []
  },
  {
   "cell_type": "code",
   "execution_count": null,
   "metadata": {},
   "outputs": [],
   "source": []
  }
 ],
 "metadata": {
  "kernelspec": {
   "display_name": "Python 3",
   "language": "python",
   "name": "python3"
  },
  "language_info": {
   "codemirror_mode": {
    "name": "ipython",
    "version": 3
   },
   "file_extension": ".py",
   "mimetype": "text/x-python",
   "name": "python",
   "nbconvert_exporter": "python",
   "pygments_lexer": "ipython3",
   "version": "3.6.4"
  }
 },
 "nbformat": 4,
 "nbformat_minor": 2
}
