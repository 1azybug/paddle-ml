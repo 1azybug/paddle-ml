{
 "cells": [
  {
   "cell_type": "code",
   "execution_count": 1,
   "metadata": {
    "ExecuteTime": {
     "end_time": "2022-07-05T07:11:24.345156Z",
     "start_time": "2022-07-05T07:11:22.356177Z"
    }
   },
   "outputs": [
    {
     "name": "stderr",
     "output_type": "stream",
     "text": [
      "--2022-07-05 15:11:22--  https://archive.ics.uci.edu/ml/machine-learning-databases/housing/housing.data\n",
      "Resolving archive.ics.uci.edu (archive.ics.uci.edu)... 128.195.10.252\n",
      "Connecting to archive.ics.uci.edu (archive.ics.uci.edu)|128.195.10.252|:443... connected.\n",
      "HTTP request sent, awaiting response... 200 OK\n",
      "Length: 49082 (48K) [application/x-httpd-php]\n",
      "Saving to: 'housing.data'\n",
      "\n",
      "     0K .......... .......... .......... .......... .......   100%  119K=0.4s\n",
      "\n",
      "2022-07-05 15:11:24 (119 KB/s) - 'housing.data' saved [49082/49082]\n",
      "\n"
     ]
    }
   ],
   "source": [
    "# !wget https://archive.ics.uci.edu/ml/machine-learning-databases/housing/housing.data -O housing.data"
   ]
  },
  {
   "cell_type": "code",
   "execution_count": 41,
   "metadata": {
    "ExecuteTime": {
     "end_time": "2022-07-05T07:47:34.049529Z",
     "start_time": "2022-07-05T07:47:33.200913Z"
    }
   },
   "outputs": [],
   "source": [
    "import numpy as np\n",
    "import os\n",
    "from sklearn import linear_model"
   ]
  },
  {
   "cell_type": "code",
   "execution_count": 6,
   "metadata": {
    "ExecuteTime": {
     "end_time": "2022-07-05T07:19:53.715876Z",
     "start_time": "2022-07-05T07:19:53.689714Z"
    }
   },
   "outputs": [],
   "source": [
    "house_data=np.fromfile(\"housing.data\",sep=' ')"
   ]
  },
  {
   "cell_type": "code",
   "execution_count": 9,
   "metadata": {
    "ExecuteTime": {
     "end_time": "2022-07-05T07:20:17.223036Z",
     "start_time": "2022-07-05T07:20:17.215740Z"
    }
   },
   "outputs": [
    {
     "data": {
      "text/plain": [
       "(7084,)"
      ]
     },
     "execution_count": 9,
     "metadata": {},
     "output_type": "execute_result"
    }
   ],
   "source": [
    "house_data.shape"
   ]
  },
  {
   "cell_type": "code",
   "execution_count": 13,
   "metadata": {
    "ExecuteTime": {
     "end_time": "2022-07-05T07:23:07.664850Z",
     "start_time": "2022-07-05T07:23:07.655780Z"
    }
   },
   "outputs": [],
   "source": [
    "house_data=house_data.reshape(int(7084/14),14)"
   ]
  },
  {
   "cell_type": "code",
   "execution_count": 32,
   "metadata": {
    "ExecuteTime": {
     "end_time": "2022-07-05T07:39:04.415837Z",
     "start_time": "2022-07-05T07:39:04.405668Z"
    }
   },
   "outputs": [],
   "source": [
    "mins=house_data.min(axis=0)\n",
    "maxs=house_data.max(axis=0)\n",
    "avgs=house_data.sum(axis=0)/house_data.shape[0]"
   ]
  },
  {
   "cell_type": "code",
   "execution_count": 36,
   "metadata": {
    "ExecuteTime": {
     "end_time": "2022-07-05T07:44:28.166140Z",
     "start_time": "2022-07-05T07:44:28.138812Z"
    }
   },
   "outputs": [],
   "source": [
    "for i in range(house_data.shape[0]):\n",
    "    for j in range(13):\n",
    "        house_data[i][j]=(house_data[i][j]-avgs[j])/(maxs[j]-mins[j])"
   ]
  },
  {
   "cell_type": "code",
   "execution_count": 50,
   "metadata": {
    "ExecuteTime": {
     "end_time": "2022-07-05T07:56:23.037278Z",
     "start_time": "2022-07-05T07:56:23.023059Z"
    }
   },
   "outputs": [],
   "source": [
    "house_data=house_data.astype(np.float32)\n",
    "ratio=0.8\n",
    "offset=int(ratio*house_data.shape[0])\n",
    "train_data=house_data[:offset]\n",
    "test_data=house_data[offset:]"
   ]
  },
  {
   "cell_type": "code",
   "execution_count": 60,
   "metadata": {
    "ExecuteTime": {
     "end_time": "2022-07-05T07:58:36.031890Z",
     "start_time": "2022-07-05T07:58:36.014391Z"
    }
   },
   "outputs": [
    {
     "data": {
      "text/plain": [
       "array([[-4.0544100e-02,  6.6363633e-02, -3.2356226e-01, ...,\n",
       "         1.0143217e-01, -2.1172912e-01,  2.4000000e+01],\n",
       "       [-4.0308177e-02, -1.1363637e-01, -1.4907546e-01, ...,\n",
       "         1.0143217e-01, -9.6938834e-02,  2.1600000e+01],\n",
       "       [-4.0308401e-02, -1.1363637e-01, -1.4907546e-01, ...,\n",
       "         9.1169417e-02, -2.3794325e-01,  3.4700001e+01],\n",
       "       ...,\n",
       "       [-3.9932206e-02, -1.1363637e-01,  2.9077029e-02, ...,\n",
       "         1.0143217e-01, -1.9351719e-01,  2.3900000e+01],\n",
       "       [-3.9383367e-02, -1.1363637e-01,  2.9077029e-02, ...,\n",
       "         9.2732787e-02, -1.7033839e-01,  2.2000000e+01],\n",
       "       [-4.0082257e-02, -1.1363637e-01,  2.9077029e-02, ...,\n",
       "         1.0143217e-01, -1.3170704e-01,  1.1900000e+01]], dtype=float32)"
      ]
     },
     "execution_count": 60,
     "metadata": {},
     "output_type": "execute_result"
    }
   ],
   "source": [
    "house_data"
   ]
  },
  {
   "cell_type": "code",
   "execution_count": 52,
   "metadata": {
    "ExecuteTime": {
     "end_time": "2022-07-05T07:56:24.737899Z",
     "start_time": "2022-07-05T07:56:24.732331Z"
    }
   },
   "outputs": [],
   "source": [
    "x=train_data[:,:-1]\n",
    "y=train_data[:,-1:]"
   ]
  },
  {
   "cell_type": "code",
   "execution_count": 56,
   "metadata": {
    "ExecuteTime": {
     "end_time": "2022-07-05T07:57:23.512851Z",
     "start_time": "2022-07-05T07:57:23.500351Z"
    }
   },
   "outputs": [],
   "source": [
    "model=linear_model.LinearRegression()"
   ]
  },
  {
   "cell_type": "code",
   "execution_count": 57,
   "metadata": {
    "ExecuteTime": {
     "end_time": "2022-07-05T07:57:31.467980Z",
     "start_time": "2022-07-05T07:57:31.438823Z"
    }
   },
   "outputs": [
    {
     "data": {
      "text/plain": [
       "LinearRegression(copy_X=True, fit_intercept=True, n_jobs=1, normalize=False)"
      ]
     },
     "execution_count": 57,
     "metadata": {},
     "output_type": "execute_result"
    }
   ],
   "source": [
    "model.fit(x,y)"
   ]
  },
  {
   "cell_type": "code",
   "execution_count": 58,
   "metadata": {
    "ExecuteTime": {
     "end_time": "2022-07-05T07:58:17.541725Z",
     "start_time": "2022-07-05T07:58:17.533722Z"
    }
   },
   "outputs": [],
   "source": [
    "tx=test_data[:,:-1]\n",
    "ty=test_data[:,-1:]"
   ]
  },
  {
   "cell_type": "code",
   "execution_count": 62,
   "metadata": {
    "ExecuteTime": {
     "end_time": "2022-07-05T07:59:36.218463Z",
     "start_time": "2022-07-05T07:59:36.201682Z"
    }
   },
   "outputs": [],
   "source": [
    "pred=model.predict(tx)"
   ]
  },
  {
   "cell_type": "code",
   "execution_count": 63,
   "metadata": {
    "ExecuteTime": {
     "end_time": "2022-07-05T07:59:40.391185Z",
     "start_time": "2022-07-05T07:59:40.381961Z"
    }
   },
   "outputs": [
    {
     "data": {
      "text/plain": [
       "array([[ 5.8867874],\n",
       "       [ 3.7870426],\n",
       "       [ 6.640541 ],\n",
       "       [21.312765 ],\n",
       "       [15.41271  ],\n",
       "       [23.652296 ],\n",
       "       [16.58567  ],\n",
       "       [22.239817 ],\n",
       "       [ 4.597374 ],\n",
       "       [12.316943 ],\n",
       "       [-4.4412804],\n",
       "       [14.586985 ],\n",
       "       [19.448774 ],\n",
       "       [ 8.91709  ],\n",
       "       [ 5.658064 ],\n",
       "       [20.431107 ],\n",
       "       [22.17126  ],\n",
       "       [20.666588 ],\n",
       "       [20.2849   ],\n",
       "       [19.040382 ],\n",
       "       [19.7396   ],\n",
       "       [14.883816 ],\n",
       "       [21.13128  ],\n",
       "       [17.177696 ],\n",
       "       [19.282711 ],\n",
       "       [18.49086  ],\n",
       "       [23.173586 ],\n",
       "       [24.055525 ],\n",
       "       [26.686916 ],\n",
       "       [22.64112  ],\n",
       "       [20.571716 ],\n",
       "       [18.525284 ],\n",
       "       [20.162361 ],\n",
       "       [14.237521 ],\n",
       "       [ 9.447418 ],\n",
       "       [14.152517 ],\n",
       "       [12.855174 ],\n",
       "       [19.290646 ],\n",
       "       [20.847548 ],\n",
       "       [20.093649 ],\n",
       "       [14.273332 ],\n",
       "       [17.74701  ],\n",
       "       [20.71931  ],\n",
       "       [19.972042 ],\n",
       "       [19.188643 ],\n",
       "       [20.310638 ],\n",
       "       [23.452337 ],\n",
       "       [22.383724 ],\n",
       "       [20.901154 ],\n",
       "       [25.692282 ],\n",
       "       [21.878725 ],\n",
       "       [22.152737 ],\n",
       "       [18.983269 ],\n",
       "       [18.914356 ],\n",
       "       [20.595367 ],\n",
       "       [20.396168 ],\n",
       "       [23.285688 ],\n",
       "       [22.673239 ],\n",
       "       [21.90108  ],\n",
       "       [24.910683 ],\n",
       "       [22.074656 ],\n",
       "       [20.332752 ],\n",
       "       [20.495344 ],\n",
       "       [19.296726 ],\n",
       "       [17.81302  ],\n",
       "       [19.111599 ],\n",
       "       [22.028498 ],\n",
       "       [24.860062 ],\n",
       "       [24.657757 ],\n",
       "       [28.442543 ],\n",
       "       [17.617208 ],\n",
       "       [18.674831 ],\n",
       "       [22.628004 ],\n",
       "       [12.011454 ],\n",
       "       [20.683636 ],\n",
       "       [22.93587  ],\n",
       "       [25.194138 ],\n",
       "       [29.389927 ],\n",
       "       [31.153439 ],\n",
       "       [22.747915 ],\n",
       "       [21.575182 ],\n",
       "       [24.527327 ],\n",
       "       [21.487045 ],\n",
       "       [22.987862 ],\n",
       "       [10.369339 ],\n",
       "       [ 7.228586 ],\n",
       "       [ 2.61862  ],\n",
       "       [12.857442 ],\n",
       "       [14.996679 ],\n",
       "       [19.98015  ],\n",
       "       [20.127289 ],\n",
       "       [16.219738 ],\n",
       "       [13.100439 ],\n",
       "       [18.646137 ],\n",
       "       [20.964722 ],\n",
       "       [17.712444 ],\n",
       "       [20.181005 ],\n",
       "       [23.755043 ],\n",
       "       [22.08167  ],\n",
       "       [28.181776 ],\n",
       "       [26.572422 ],\n",
       "       [22.020565 ]], dtype=float32)"
      ]
     },
     "execution_count": 63,
     "metadata": {},
     "output_type": "execute_result"
    }
   ],
   "source": [
    "pred"
   ]
  },
  {
   "cell_type": "code",
   "execution_count": 66,
   "metadata": {
    "ExecuteTime": {
     "end_time": "2022-07-05T08:08:32.599586Z",
     "start_time": "2022-07-05T08:08:32.496006Z"
    }
   },
   "outputs": [
    {
     "data": {
      "text/plain": [
       "<matplotlib.collections.PathCollection at 0x2650002c320>"
      ]
     },
     "execution_count": 66,
     "metadata": {},
     "output_type": "execute_result"
    },
    {
     "data": {
      "image/png": "[encoded data removed]",
      "text/plain": [
       "<Figure size 432x288 with 1 Axes>"
      ]
     },
     "metadata": {
      "needs_background": "light"
     },
     "output_type": "display_data"
    }
   ],
   "source": [
    "\n",
    "import matplotlib.pyplot as plt\n",
    "\n",
    "x=np.arange(40)\n",
    "y=x\n",
    "plt.plot(x,y)\n",
    "plt.scatter(ty,pred,color='green')"
   ]
  },
  {
   "cell_type": "code",
   "execution_count": null,
   "metadata": {},
   "outputs": [],
   "source": []
  }
 ],
 "metadata": {
  "kernelspec": {
   "display_name": "Python 3",
   "language": "python",
   "name": "python3"
  },
  "language_info": {
   "codemirror_mode": {
    "name": "ipython",
    "version": 3
   },
   "file_extension": ".py",
   "mimetype": "text/x-python",
   "name": "python",
   "nbconvert_exporter": "python",
   "pygments_lexer": "ipython3",
   "version": "3.6.4"
  }
 },
 "nbformat": 4,
 "nbformat_minor": 2
}
