{
 "cells": [
  {
   "cell_type": "code",
   "execution_count": 1,
   "metadata": {
    "ExecuteTime": {
     "end_time": "2022-07-13T23:58:04.797357Z",
     "start_time": "2022-07-13T23:58:03.685575Z"
    },
    "execution": {
     "iopub.execute_input": "2022-07-13T07:18:04.830480Z",
     "iopub.status.busy": "2022-07-13T07:18:04.829753Z",
     "iopub.status.idle": "2022-07-13T07:18:06.273220Z",
     "shell.execute_reply": "2022-07-13T07:18:06.272315Z",
     "shell.execute_reply.started": "2022-07-13T07:18:04.830439Z"
    },
    "scrolled": true
   },
   "outputs": [],
   "source": [
    "import os\n",
    "import random\n",
    "import io \n",
    "import sys \n",
    "import requests\n",
    "from collections import OrderedDict \n",
    "import math \n",
    "import numpy as np \n",
    "import paddle"
   ]
  },
  {
   "cell_type": "code",
   "execution_count": 2,
   "metadata": {
    "ExecuteTime": {
     "end_time": "2022-07-13T23:58:04.812966Z",
     "start_time": "2022-07-13T23:58:04.797864Z"
    },
    "execution": {
     "iopub.execute_input": "2022-07-13T07:18:11.610170Z",
     "iopub.status.busy": "2022-07-13T07:18:11.609595Z",
     "iopub.status.idle": "2022-07-13T07:18:11.614958Z",
     "shell.execute_reply": "2022-07-13T07:18:11.614031Z",
     "shell.execute_reply.started": "2022-07-13T07:18:11.610128Z"
    },
    "scrolled": true
   },
   "outputs": [],
   "source": [
    "def download():\n",
    "    corpus_url='https://dataset.bj.bcebos.com/word2vec/text8.txt'\n",
    "    web_requests=requests.get(corpus_url)\n",
    "    corpus=web_requests.content\n",
    "    with open('./text8.txt','wb') as f:\n",
    "        f.write(corpus)\n",
    "        f.close()\n",
    "    "
   ]
  },
  {
   "cell_type": "code",
   "execution_count": 3,
   "metadata": {
    "ExecuteTime": {
     "end_time": "2022-07-14T00:00:36.827367Z",
     "start_time": "2022-07-13T23:58:04.814392Z"
    },
    "execution": {
     "iopub.execute_input": "2022-07-13T07:18:20.359253Z",
     "iopub.status.busy": "2022-07-13T07:18:20.358259Z",
     "iopub.status.idle": "2022-07-13T07:18:24.360974Z",
     "shell.execute_reply": "2022-07-13T07:18:24.360013Z",
     "shell.execute_reply.started": "2022-07-13T07:18:20.359215Z"
    },
    "scrolled": true
   },
   "outputs": [],
   "source": [
    "download()"
   ]
  },
  {
   "cell_type": "code",
   "execution_count": 4,
   "metadata": {
    "ExecuteTime": {
     "end_time": "2022-07-14T00:00:36.843293Z",
     "start_time": "2022-07-14T00:00:36.828369Z"
    },
    "execution": {
     "iopub.execute_input": "2022-07-13T07:18:39.473687Z",
     "iopub.status.busy": "2022-07-13T07:18:39.472679Z",
     "iopub.status.idle": "2022-07-13T07:18:39.477783Z",
     "shell.execute_reply": "2022-07-13T07:18:39.476813Z",
     "shell.execute_reply.started": "2022-07-13T07:18:39.473646Z"
    },
    "scrolled": true
   },
   "outputs": [],
   "source": [
    "def load_text8():\n",
    "    with open('./text8.txt') as f:\n",
    "        corpus=f.read().strip('\\n')\n",
    "        f.close()\n",
    "    return corpus"
   ]
  },
  {
   "cell_type": "code",
   "execution_count": 5,
   "metadata": {
    "ExecuteTime": {
     "end_time": "2022-07-14T00:00:37.298387Z",
     "start_time": "2022-07-14T00:00:36.844296Z"
    },
    "execution": {
     "iopub.execute_input": "2022-07-13T07:18:47.452085Z",
     "iopub.status.busy": "2022-07-13T07:18:47.451050Z",
     "iopub.status.idle": "2022-07-13T07:18:47.661643Z",
     "shell.execute_reply": "2022-07-13T07:18:47.660448Z",
     "shell.execute_reply.started": "2022-07-13T07:18:47.452043Z"
    },
    "scrolled": true
   },
   "outputs": [],
   "source": [
    "corpus=load_text8()"
   ]
  },
  {
   "cell_type": "code",
   "execution_count": 6,
   "metadata": {
    "ExecuteTime": {
     "end_time": "2022-07-14T00:00:37.313528Z",
     "start_time": "2022-07-14T00:00:37.299369Z"
    },
    "execution": {
     "iopub.execute_input": "2022-07-13T07:18:53.709946Z",
     "iopub.status.busy": "2022-07-13T07:18:53.709388Z",
     "iopub.status.idle": "2022-07-13T07:18:53.720807Z",
     "shell.execute_reply": "2022-07-13T07:18:53.719753Z",
     "shell.execute_reply.started": "2022-07-13T07:18:53.709906Z"
    },
    "scrolled": true
   },
   "outputs": [
    {
     "data": {
      "text/plain": [
       "' anarchism originated as a term of abuse first used against early working class radicals including the diggers of the english revolution and the sans culottes of the french revolution whilst the term is still used in a pejorative way to describe any act that used violent means to destroy the organization of society it has also been taken up as a positive label by self defined anarchists the word anarchism is derived from the greek without archons ruler chief king anarchism as a political philoso'"
      ]
     },
     "execution_count": 6,
     "metadata": {},
     "output_type": "execute_result"
    }
   ],
   "source": [
    "corpus[:500]"
   ]
  },
  {
   "cell_type": "code",
   "execution_count": 7,
   "metadata": {
    "ExecuteTime": {
     "end_time": "2022-07-14T00:00:37.328762Z",
     "start_time": "2022-07-14T00:00:37.315063Z"
    },
    "execution": {
     "iopub.execute_input": "2022-07-13T07:19:11.811263Z",
     "iopub.status.busy": "2022-07-13T07:19:11.810505Z",
     "iopub.status.idle": "2022-07-13T07:19:11.815233Z",
     "shell.execute_reply": "2022-07-13T07:19:11.814528Z",
     "shell.execute_reply.started": "2022-07-13T07:19:11.811226Z"
    },
    "scrolled": true
   },
   "outputs": [],
   "source": [
    "def data_preprocess(corpus):\n",
    "    corpus=corpus.strip().lower()\n",
    "    corpus=corpus.split(' ')\n",
    "    return corpus"
   ]
  },
  {
   "cell_type": "code",
   "execution_count": 8,
   "metadata": {
    "ExecuteTime": {
     "end_time": "2022-07-14T00:00:38.086215Z",
     "start_time": "2022-07-14T00:00:37.330299Z"
    },
    "execution": {
     "iopub.execute_input": "2022-07-13T07:19:19.723109Z",
     "iopub.status.busy": "2022-07-13T07:19:19.722516Z",
     "iopub.status.idle": "2022-07-13T07:19:21.129718Z",
     "shell.execute_reply": "2022-07-13T07:19:21.128713Z",
     "shell.execute_reply.started": "2022-07-13T07:19:19.723067Z"
    },
    "scrolled": true
   },
   "outputs": [],
   "source": [
    "corpus=data_preprocess(corpus)"
   ]
  },
  {
   "cell_type": "code",
   "execution_count": 9,
   "metadata": {
    "ExecuteTime": {
     "end_time": "2022-07-14T00:00:38.101473Z",
     "start_time": "2022-07-14T00:00:38.086724Z"
    },
    "execution": {
     "iopub.execute_input": "2022-07-13T07:19:28.232469Z",
     "iopub.status.busy": "2022-07-13T07:19:28.231567Z",
     "iopub.status.idle": "2022-07-13T07:19:28.237930Z",
     "shell.execute_reply": "2022-07-13T07:19:28.237189Z",
     "shell.execute_reply.started": "2022-07-13T07:19:28.232409Z"
    },
    "scrolled": true
   },
   "outputs": [
    {
     "data": {
      "text/plain": [
       "['anarchism',\n",
       " 'originated',\n",
       " 'as',\n",
       " 'a',\n",
       " 'term',\n",
       " 'of',\n",
       " 'abuse',\n",
       " 'first',\n",
       " 'used',\n",
       " 'against',\n",
       " 'early',\n",
       " 'working',\n",
       " 'class',\n",
       " 'radicals',\n",
       " 'including',\n",
       " 'the',\n",
       " 'diggers',\n",
       " 'of',\n",
       " 'the',\n",
       " 'english',\n",
       " 'revolution',\n",
       " 'and',\n",
       " 'the',\n",
       " 'sans',\n",
       " 'culottes',\n",
       " 'of',\n",
       " 'the',\n",
       " 'french',\n",
       " 'revolution',\n",
       " 'whilst',\n",
       " 'the',\n",
       " 'term',\n",
       " 'is',\n",
       " 'still',\n",
       " 'used',\n",
       " 'in',\n",
       " 'a',\n",
       " 'pejorative',\n",
       " 'way',\n",
       " 'to',\n",
       " 'describe',\n",
       " 'any',\n",
       " 'act',\n",
       " 'that',\n",
       " 'used',\n",
       " 'violent',\n",
       " 'means',\n",
       " 'to',\n",
       " 'destroy',\n",
       " 'the']"
      ]
     },
     "execution_count": 9,
     "metadata": {},
     "output_type": "execute_result"
    }
   ],
   "source": [
    "corpus[:50]"
   ]
  },
  {
   "cell_type": "markdown",
   "metadata": {},
   "source": [
    "## 构造词典"
   ]
  },
  {
   "cell_type": "code",
   "execution_count": 10,
   "metadata": {
    "ExecuteTime": {
     "end_time": "2022-07-14T00:00:38.222972Z",
     "start_time": "2022-07-14T00:00:38.102993Z"
    },
    "execution": {
     "iopub.execute_input": "2022-07-13T07:19:54.669834Z",
     "iopub.status.busy": "2022-07-13T07:19:54.669197Z",
     "iopub.status.idle": "2022-07-13T07:19:55.210557Z",
     "shell.execute_reply": "2022-07-13T07:19:55.209471Z",
     "shell.execute_reply.started": "2022-07-13T07:19:54.669791Z"
    },
    "scrolled": true
   },
   "outputs": [],
   "source": [
    "def build_dict(corpus):\n",
    "    word_freq_dict={}\n",
    "    for word in corpus:\n",
    "        if word not in word_freq_dict:\n",
    "            word_freq_dict[word]=0\n",
    "        word_freq_dict[word]+=1\n",
    "    \n",
    "    word_freq_dict=sorted(word_freq_dict.items(),key=lambda x:x[1],reverse=True)\n",
    "    \n",
    "    word2id={}\n",
    "    id2freq={}\n",
    "    id2word={}\n",
    "    \n",
    "    for word,freq in word_freq_dict:\n",
    "        ind=len(word2id)\n",
    "        word2id[word]=ind\n",
    "        id2freq[ind]=freq\n",
    "        id2word[ind]=word\n",
    "    \n",
    "    return id2freq,word2id,id2word"
   ]
  },
  {
   "cell_type": "code",
   "execution_count": 11,
   "metadata": {
    "ExecuteTime": {
     "end_time": "2022-07-14T00:00:41.089173Z",
     "start_time": "2022-07-14T00:00:38.223479Z"
    },
    "execution": {
     "iopub.execute_input": "2022-07-13T07:20:03.437734Z",
     "iopub.status.busy": "2022-07-13T07:20:03.437388Z",
     "iopub.status.idle": "2022-07-13T07:20:08.057991Z",
     "shell.execute_reply": "2022-07-13T07:20:08.057065Z",
     "shell.execute_reply.started": "2022-07-13T07:20:03.437706Z"
    },
    "scrolled": true
   },
   "outputs": [],
   "source": [
    "id2freq,word2id,id2word=build_dict(corpus)"
   ]
  },
  {
   "cell_type": "code",
   "execution_count": 12,
   "metadata": {
    "ExecuteTime": {
     "end_time": "2022-07-14T00:00:41.105012Z",
     "start_time": "2022-07-14T00:00:41.090174Z"
    },
    "execution": {
     "iopub.execute_input": "2022-07-13T07:20:10.864667Z",
     "iopub.status.busy": "2022-07-13T07:20:10.864098Z",
     "iopub.status.idle": "2022-07-13T07:20:10.868341Z",
     "shell.execute_reply": "2022-07-13T07:20:10.867602Z",
     "shell.execute_reply.started": "2022-07-13T07:20:10.864628Z"
    },
    "scrolled": true
   },
   "outputs": [],
   "source": [
    "vocab_size=len(id2freq)"
   ]
  },
  {
   "cell_type": "code",
   "execution_count": 13,
   "metadata": {
    "ExecuteTime": {
     "end_time": "2022-07-14T00:00:41.120927Z",
     "start_time": "2022-07-14T00:00:41.106013Z"
    },
    "execution": {
     "iopub.execute_input": "2022-07-13T07:20:17.479082Z",
     "iopub.status.busy": "2022-07-13T07:20:17.478483Z",
     "iopub.status.idle": "2022-07-13T07:20:17.483793Z",
     "shell.execute_reply": "2022-07-13T07:20:17.483135Z",
     "shell.execute_reply.started": "2022-07-13T07:20:17.479039Z"
    },
    "scrolled": true
   },
   "outputs": [
    {
     "data": {
      "text/plain": [
       "253854"
      ]
     },
     "execution_count": 13,
     "metadata": {},
     "output_type": "execute_result"
    }
   ],
   "source": [
    "vocab_size"
   ]
  },
  {
   "cell_type": "code",
   "execution_count": 14,
   "metadata": {
    "ExecuteTime": {
     "end_time": "2022-07-14T00:00:41.136056Z",
     "start_time": "2022-07-14T00:00:41.121928Z"
    },
    "execution": {
     "iopub.execute_input": "2022-07-13T07:20:25.219566Z",
     "iopub.status.busy": "2022-07-13T07:20:25.218941Z",
     "iopub.status.idle": "2022-07-13T07:20:25.225389Z",
     "shell.execute_reply": "2022-07-13T07:20:25.224607Z",
     "shell.execute_reply.started": "2022-07-13T07:20:25.219505Z"
    },
    "scrolled": true
   },
   "outputs": [
    {
     "name": "stdout",
     "output_type": "stream",
     "text": [
      "word:the,its id:0,its freq:1061396\n",
      "word:of,its id:1,its freq:593677\n",
      "word:and,its id:2,its freq:416629\n",
      "word:one,its id:3,its freq:411764\n",
      "word:in,its id:4,its freq:372201\n",
      "word:a,its id:5,its freq:325873\n",
      "word:to,its id:6,its freq:316376\n",
      "word:zero,its id:7,its freq:264975\n"
     ]
    }
   ],
   "source": [
    "for _,(word,word_id) in zip(range(8),word2id.items()):\n",
    "    print(f'word:{word},its id:{word_id},its freq:{id2freq[word_id]}')"
   ]
  },
  {
   "cell_type": "markdown",
   "metadata": {},
   "source": [
    "## 转化为id序列"
   ]
  },
  {
   "cell_type": "code",
   "execution_count": 15,
   "metadata": {
    "ExecuteTime": {
     "end_time": "2022-07-14T00:00:42.759935Z",
     "start_time": "2022-07-14T00:00:41.137101Z"
    },
    "execution": {
     "iopub.execute_input": "2022-07-13T07:20:33.771231Z",
     "iopub.status.busy": "2022-07-13T07:20:33.770791Z",
     "iopub.status.idle": "2022-07-13T07:20:36.454215Z",
     "shell.execute_reply": "2022-07-13T07:20:36.453269Z",
     "shell.execute_reply.started": "2022-07-13T07:20:33.771185Z"
    },
    "scrolled": true
   },
   "outputs": [],
   "source": [
    "corpus=[word2id[word] for word in corpus]"
   ]
  },
  {
   "cell_type": "code",
   "execution_count": 16,
   "metadata": {
    "ExecuteTime": {
     "end_time": "2022-07-14T00:00:42.775356Z",
     "start_time": "2022-07-14T00:00:42.760941Z"
    },
    "execution": {
     "iopub.execute_input": "2022-07-13T07:20:59.489295Z",
     "iopub.status.busy": "2022-07-13T07:20:59.488717Z",
     "iopub.status.idle": "2022-07-13T07:20:59.495229Z",
     "shell.execute_reply": "2022-07-13T07:20:59.494508Z",
     "shell.execute_reply.started": "2022-07-13T07:20:59.489255Z"
    },
    "scrolled": true
   },
   "outputs": [
    {
     "data": {
      "text/plain": [
       "[5233, 3080, 11, 5, 194, 1, 3133, 45]"
      ]
     },
     "execution_count": 16,
     "metadata": {},
     "output_type": "execute_result"
    }
   ],
   "source": [
    "corpus[:8]"
   ]
  },
  {
   "cell_type": "markdown",
   "metadata": {},
   "source": [
    "## 二次采样"
   ]
  },
  {
   "cell_type": "code",
   "execution_count": 17,
   "metadata": {
    "ExecuteTime": {
     "end_time": "2022-07-14T00:00:42.790561Z",
     "start_time": "2022-07-14T00:00:42.776367Z"
    },
    "execution": {
     "iopub.execute_input": "2022-07-13T07:21:19.817163Z",
     "iopub.status.busy": "2022-07-13T07:21:19.816558Z",
     "iopub.status.idle": "2022-07-13T07:21:19.821328Z",
     "shell.execute_reply": "2022-07-13T07:21:19.820688Z",
     "shell.execute_reply.started": "2022-07-13T07:21:19.817135Z"
    },
    "scrolled": true
   },
   "outputs": [],
   "source": [
    "def subsampling(corpus,id2freq):\n",
    "    \n",
    "    def discard(word_id):\n",
    "        q=1-math.sqrt(1e-4/id2freq[word_id]*len(corpus))\n",
    "        return random.uniform(0,1)<q\n",
    "    corpus=[word for word in corpus if not discard(word)]\n",
    "    return corpus"
   ]
  },
  {
   "cell_type": "code",
   "execution_count": 18,
   "metadata": {
    "ExecuteTime": {
     "end_time": "2022-07-14T00:00:54.053094Z",
     "start_time": "2022-07-14T00:00:42.791566Z"
    },
    "execution": {
     "iopub.execute_input": "2022-07-13T07:21:27.935430Z",
     "iopub.status.busy": "2022-07-13T07:21:27.934337Z",
     "iopub.status.idle": "2022-07-13T07:21:38.309740Z",
     "shell.execute_reply": "2022-07-13T07:21:38.308861Z",
     "shell.execute_reply.started": "2022-07-13T07:21:27.935390Z"
    },
    "scrolled": true
   },
   "outputs": [
    {
     "name": "stdout",
     "output_type": "stream",
     "text": [
      "8744358\n",
      "[5233, 3080, 194, 3133, 741, 10571, 133, 27349]\n"
     ]
    }
   ],
   "source": [
    "corpus=subsampling(corpus,id2freq)\n",
    "print(len(corpus))\n",
    "print(corpus[:8])"
   ]
  },
  {
   "cell_type": "markdown",
   "metadata": {},
   "source": [
    "## 构造数据集"
   ]
  },
  {
   "cell_type": "code",
   "execution_count": 19,
   "metadata": {
    "ExecuteTime": {
     "end_time": "2022-07-14T00:00:54.147230Z",
     "start_time": "2022-07-14T00:00:54.054818Z"
    },
    "execution": {
     "iopub.execute_input": "2022-07-13T07:21:47.240168Z",
     "iopub.status.busy": "2022-07-13T07:21:47.239546Z",
     "iopub.status.idle": "2022-07-13T07:21:47.247982Z",
     "shell.execute_reply": "2022-07-13T07:21:47.247234Z",
     "shell.execute_reply.started": "2022-07-13T07:21:47.240125Z"
    },
    "scrolled": true
   },
   "outputs": [],
   "source": [
    "def build_data(corpus,word2id,id2freq,max_window_size=3,negative_sample_num=4):\n",
    "    dataset=[]\n",
    "    center_word_idx=0\n",
    "    \n",
    "    while center_word_idx<len(corpus):\n",
    "        window_size=random.randint(1,max_window_size)\n",
    "        positive_word=corpus[center_word_idx]\n",
    "        \n",
    "        context_word_range=(max(0,center_word_idx-window_size),min(len(corpus)-1,center_word_idx+window_size))\n",
    "        context_word_candidates=[corpus[idx] for idx in range(context_word_range[0],context_word_range[1]+1) if idx!=center_word_idx]\n",
    "        \n",
    "        for context_word in context_word_candidates:\n",
    "            dataset.append((positive_word,context_word,1))\n",
    "            i=0\n",
    "            while i<negative_sample_num:\n",
    "                negative_word_candidate=random.randint(0,vocab_size-1)\n",
    "                if negative_word_candidate is not context_word:\n",
    "                    dataset.append((positive_word,negative_word_candidate,0))\n",
    "                    i+=1\n",
    "        \n",
    "        center_word_idx=min(len(corpus)-1,center_word_idx+window_size)\n",
    "        if center_word_idx==(len(corpus)-1):\n",
    "            center_word_idx+=1\n",
    "        if(center_word_idx%100000==0):\n",
    "            print(center_word_idx)\n",
    "    return dataset\n",
    "    "
   ]
  },
  {
   "cell_type": "code",
   "execution_count": 20,
   "metadata": {
    "ExecuteTime": {
     "end_time": "2022-07-14T00:02:29.936539Z",
     "start_time": "2022-07-14T00:00:54.148232Z"
    },
    "execution": {
     "iopub.execute_input": "2022-07-13T07:22:20.153961Z",
     "iopub.status.busy": "2022-07-13T07:22:20.153207Z",
     "iopub.status.idle": "2022-07-13T07:24:05.732091Z",
     "shell.execute_reply": "2022-07-13T07:24:05.731148Z",
     "shell.execute_reply.started": "2022-07-13T07:22:20.153918Z"
    },
    "scrolled": true
   },
   "outputs": [
    {
     "name": "stdout",
     "output_type": "stream",
     "text": [
      "100000\n",
      "300000\n",
      "400000\n",
      "500000\n",
      "600000\n",
      "700000\n",
      "1000000\n",
      "1100000\n",
      "1300000\n",
      "1600000\n",
      "1700000\n",
      "2100000\n",
      "2300000\n",
      "2400000\n",
      "2500000\n",
      "2600000\n",
      "2700000\n",
      "2800000\n",
      "3200000\n",
      "3400000\n",
      "3600000\n",
      "3700000\n",
      "3800000\n",
      "4200000\n",
      "4400000\n",
      "4600000\n",
      "4700000\n",
      "4900000\n",
      "5000000\n",
      "5300000\n",
      "5400000\n",
      "5600000\n",
      "5700000\n",
      "5800000\n",
      "5900000\n",
      "6000000\n",
      "6100000\n",
      "6200000\n",
      "6400000\n",
      "6500000\n",
      "6700000\n",
      "6900000\n",
      "7100000\n",
      "7300000\n",
      "7400000\n",
      "7600000\n",
      "7700000\n",
      "8000000\n",
      "8600000\n"
     ]
    }
   ],
   "source": [
    "dataset=build_data(corpus,word2id,id2freq)"
   ]
  },
  {
   "cell_type": "code",
   "execution_count": 21,
   "metadata": {
    "ExecuteTime": {
     "end_time": "2022-07-14T00:02:29.952116Z",
     "start_time": "2022-07-14T00:02:29.937617Z"
    },
    "execution": {
     "iopub.execute_input": "2022-07-13T07:24:24.329018Z",
     "iopub.status.busy": "2022-07-13T07:24:24.328017Z",
     "iopub.status.idle": "2022-07-13T07:24:24.334314Z",
     "shell.execute_reply": "2022-07-13T07:24:24.333573Z",
     "shell.execute_reply.started": "2022-07-13T07:24:24.328980Z"
    },
    "scrolled": true,
    "tags": []
   },
   "outputs": [
    {
     "name": "stdout",
     "output_type": "stream",
     "text": [
      "(5233, 3080, 1)\n",
      "(5233, 19129, 0)\n",
      "(5233, 210594, 0)\n",
      "(5233, 211012, 0)\n",
      "(5233, 119091, 0)\n",
      "(5233, 194, 1)\n",
      "(5233, 41339, 0)\n",
      "(5233, 185695, 0)\n",
      "(5233, 127233, 0)\n",
      "(5233, 221628, 0)\n",
      "(194, 5233, 1)\n"
     ]
    }
   ],
   "source": [
    "for _,data in zip(range(11),dataset):\n",
    "    print(data)"
   ]
  },
  {
   "cell_type": "markdown",
   "metadata": {},
   "source": [
    "## 构造数据生成器"
   ]
  },
  {
   "cell_type": "code",
   "execution_count": 22,
   "metadata": {
    "ExecuteTime": {
     "end_time": "2022-07-14T00:02:29.982926Z",
     "start_time": "2022-07-14T00:02:29.953635Z"
    },
    "execution": {
     "iopub.execute_input": "2022-07-13T07:24:31.292950Z",
     "iopub.status.busy": "2022-07-13T07:24:31.292320Z",
     "iopub.status.idle": "2022-07-13T07:24:31.299572Z",
     "shell.execute_reply": "2022-07-13T07:24:31.298854Z",
     "shell.execute_reply.started": "2022-07-13T07:24:31.292910Z"
    },
    "scrolled": true,
    "tags": []
   },
   "outputs": [],
   "source": [
    "def build_batch(dataset,batch_size,epoch_num):\n",
    "    context_word_batch=[]\n",
    "    target_word_batch=[]\n",
    "    label_batch=[]\n",
    "    \n",
    "    for epoch in range(epoch_num):\n",
    "        random.shuffle(dataset)\n",
    "        for context_word,target_word,label in dataset:\n",
    "            context_word_batch.append([context_word])\n",
    "            target_word_batch.append([target_word])\n",
    "            label_batch.append(label)\n",
    "            \n",
    "            if len(context_word_batch)==batch_size:\n",
    "                yield np.array(context_word_batch).astype('int64'),\\\n",
    "                    np.array(target_word_batch).astype('int64'),\\\n",
    "                    np.array(label_batch).astype('float32')\n",
    "                \n",
    "                context_word_batch=[]\n",
    "                target_word_batch=[]\n",
    "                label_batch=[]\n",
    "        \n",
    "    if len(context_word_batch)>0:\n",
    "        yield np.array(context_word_batch).astype('int64'),\\\n",
    "            np.array(target_word_batch).astype('int64'),\\\n",
    "            np.array(label_batch).astype('float32')\n",
    "            "
   ]
  },
  {
   "cell_type": "markdown",
   "metadata": {},
   "source": [
    "## 模型配置"
   ]
  },
  {
   "cell_type": "code",
   "execution_count": 23,
   "metadata": {
    "ExecuteTime": {
     "end_time": "2022-07-14T00:02:30.014429Z",
     "start_time": "2022-07-14T00:02:29.983897Z"
    },
    "execution": {
     "iopub.execute_input": "2022-07-13T07:24:38.896677Z",
     "iopub.status.busy": "2022-07-13T07:24:38.895633Z",
     "iopub.status.idle": "2022-07-13T07:24:38.905388Z",
     "shell.execute_reply": "2022-07-13T07:24:38.904572Z",
     "shell.execute_reply.started": "2022-07-13T07:24:38.896634Z"
    },
    "scrolled": true,
    "tags": []
   },
   "outputs": [],
   "source": [
    "class CBOW(paddle.nn.Layer):\n",
    "    def __init__(self,vocab_size,embedding_size,init_scale=0.1):\n",
    "        super(CBOW,self).__init__()\n",
    "        self.vocab_size=vocab_size\n",
    "        self.embedding_size=embedding_size\n",
    "        self.embedding=paddle.nn.Embedding(\n",
    "            self.vocab_size,\n",
    "            self.embedding_size,\n",
    "            weight_attr=paddle.ParamAttr(\n",
    "                name='embedding_para114514',\n",
    "                initializer=paddle.nn.initializer.Uniform(\n",
    "                    low=-0.5/embedding_size,high=0.5/embedding_size\n",
    "                )\n",
    "            )\n",
    "        )\n",
    "        \n",
    "        self.embedding_out=paddle.nn.Embedding(\n",
    "            self.vocab_size,\n",
    "            self.embedding_size,\n",
    "            weight_attr=paddle.ParamAttr(\n",
    "                name='embedding_out_para114514',\n",
    "                initializer=paddle.nn.initializer.Uniform(\n",
    "                    low=-0.5/embedding_size,high=0.5/embedding_size\n",
    "                )\n",
    "            )\n",
    "        )\n",
    "    \n",
    "    def forward(self,context_words,target_words,label):\n",
    "        context_words_emb=self.embedding(context_words)\n",
    "        target_words_emb=self.embedding_out(target_words)\n",
    "        word_sim=paddle.multiply(context_words_emb,target_words_emb)\n",
    "        word_sim=paddle.sum(word_sim,axis=-1)\n",
    "        word_sim=paddle.reshape(word_sim,shape=[-1])\n",
    "        pred=paddle.nn.functional.sigmoid(word_sim)\n",
    "        loss=paddle.nn.functional.binary_cross_entropy(pred,label)\n",
    "#         print(f\"see loss:\\n{loss}\")\n",
    "        loss=paddle.mean(loss)\n",
    "#         print(f\"see loss after mean:\\n{loss}\")\n",
    "        return pred,loss\n"
   ]
  },
  {
   "cell_type": "markdown",
   "metadata": {},
   "source": [
    "## 训练"
   ]
  },
  {
   "cell_type": "code",
   "execution_count": 24,
   "metadata": {
    "ExecuteTime": {
     "end_time": "2022-07-14T00:02:30.029314Z",
     "start_time": "2022-07-14T00:02:30.015431Z"
    },
    "execution": {
     "iopub.execute_input": "2022-07-13T07:24:42.805350Z",
     "iopub.status.busy": "2022-07-13T07:24:42.804497Z",
     "iopub.status.idle": "2022-07-13T07:24:42.811197Z",
     "shell.execute_reply": "2022-07-13T07:24:42.810054Z",
     "shell.execute_reply.started": "2022-07-13T07:24:42.805311Z"
    },
    "scrolled": true,
    "tags": []
   },
   "outputs": [],
   "source": [
    "batch_size=512\n",
    "epoch_num=3\n",
    "embedding_size=200\n",
    "step=0\n",
    "learning_rate=0.001\n",
    "\n",
    "def get_cos(query1_token,query2_token,embed):\n",
    "    W=embed\n",
    "    x=W[word2id[query1_token]]\n",
    "    y=W[word2id[query2_token]]\n",
    "    cos=np.dot(x,y)/np.sqrt(np.sum(y*y)*np.sum(x*x)+1e-9)\n",
    "    flat=cos.flatten()\n",
    "    print(f\"{query1_token}和{query2_token}的cos结果为{cos}\")"
   ]
  },
  {
   "cell_type": "code",
   "execution_count": 25,
   "metadata": {
    "ExecuteTime": {
     "end_time": "2022-07-14T00:02:33.195586Z",
     "start_time": "2022-07-14T00:02:30.030686Z"
    }
   },
   "outputs": [],
   "source": [
    "skip_gram_model=CBOW(vocab_size,embedding_size)\n",
    "adam=paddle.optimizer.Adam(learning_rate=learning_rate,parameters=skip_gram_model.parameters())"
   ]
  },
  {
   "cell_type": "code",
   "execution_count": 26,
   "metadata": {
    "ExecuteTime": {
     "end_time": "2022-07-14T02:25:45.126205Z",
     "start_time": "2022-07-14T00:02:33.196594Z"
    },
    "execution": {
     "iopub.execute_input": "2022-07-13T07:24:44.266161Z",
     "iopub.status.busy": "2022-07-13T07:24:44.265148Z"
    },
    "scrolled": false,
    "tags": []
   },
   "outputs": [
    {
     "name": "stdout",
     "output_type": "stream",
     "text": [
      "step 100,loss 0.6931471228599548\n",
      "step 200,loss 0.6931614875793457\n",
      "step 300,loss 0.6929924488067627\n",
      "step 400,loss 0.6926132440567017\n",
      "step 500,loss 0.6902071237564087\n",
      "step 600,loss 0.6881276369094849\n",
      "step 700,loss 0.6812677383422852\n",
      "step 800,loss 0.6705127358436584\n",
      "step 900,loss 0.6613295078277588\n",
      "step 1000,loss 0.6545624732971191\n",
      "step 1100,loss 0.6315697431564331\n",
      "step 1200,loss 0.6074579954147339\n",
      "step 1300,loss 0.582335352897644\n",
      "step 1400,loss 0.5852804780006409\n",
      "step 1500,loss 0.5580507516860962\n",
      "step 1600,loss 0.5468419194221497\n",
      "step 1700,loss 0.4965466558933258\n",
      "step 1800,loss 0.4820517897605896\n",
      "step 1900,loss 0.47042879462242126\n",
      "step 2000,loss 0.48551705479621887\n",
      "king和queen的cos结果为0.9099274142551904\n",
      "she和her的cos结果为0.9551867465448861\n",
      "topic和theme的cos结果为0.9095779579951178\n",
      "woman和game的cos结果为0.9152326551774839\n",
      "one和name的cos结果为0.9502887990502381\n",
      "step 2100,loss 0.4493476450443268\n",
      "step 2200,loss 0.4242601990699768\n",
      "step 2300,loss 0.42638760805130005\n",
      "step 2400,loss 0.4001958668231964\n",
      "step 2500,loss 0.381561279296875\n",
      "step 2600,loss 0.3607930541038513\n",
      "step 2700,loss 0.4001582860946655\n",
      "step 2800,loss 0.31477048993110657\n",
      "step 2900,loss 0.31267011165618896\n",
      "step 3000,loss 0.33932846784591675\n",
      "step 3100,loss 0.34862685203552246\n",
      "step 3200,loss 0.3008231520652771\n",
      "step 3300,loss 0.36345624923706055\n",
      "step 3400,loss 0.28230005502700806\n",
      "step 3500,loss 0.30659303069114685\n",
      "step 3600,loss 0.282905250787735\n",
      "step 3700,loss 0.2829348146915436\n",
      "step 3800,loss 0.2993345558643341\n",
      "step 3900,loss 0.24830469489097595\n",
      "step 4000,loss 0.24527540802955627\n",
      "king和queen的cos结果为0.9392109517642994\n",
      "she和her的cos结果为0.9541669579718849\n",
      "topic和theme的cos结果为0.9482860422964223\n",
      "woman和game的cos结果为0.9288152670394118\n",
      "one和name的cos结果为0.9091207909882828\n",
      "step 4100,loss 0.300818532705307\n",
      "step 4200,loss 0.2756540775299072\n",
      "step 4300,loss 0.2948281764984131\n",
      "step 4400,loss 0.29812324047088623\n",
      "step 4500,loss 0.22278736531734467\n",
      "step 4600,loss 0.27301159501075745\n",
      "step 4700,loss 0.2325688898563385\n",
      "step 4800,loss 0.24381333589553833\n",
      "step 4900,loss 0.2655853033065796\n",
      "step 5000,loss 0.23941048979759216\n",
      "step 5100,loss 0.2586458921432495\n",
      "step 5200,loss 0.23811428248882294\n",
      "step 5300,loss 0.2352617383003235\n",
      "step 5400,loss 0.34076783061027527\n",
      "step 5500,loss 0.2947985529899597\n",
      "step 5600,loss 0.2935633063316345\n",
      "step 5700,loss 0.18894419074058533\n",
      "step 5800,loss 0.25013044476509094\n",
      "step 5900,loss 0.2595645785331726\n",
      "step 6000,loss 0.21050037443637848\n",
      "king和queen的cos结果为0.9016566644716537\n",
      "she和her的cos结果为0.9230015148158351\n",
      "topic和theme的cos结果为0.9652774651029914\n",
      "woman和game的cos结果为0.8942706833337798\n",
      "one和name的cos结果为0.897484824738697\n",
      "step 6100,loss 0.29899436235427856\n",
      "step 6200,loss 0.2886265516281128\n",
      "step 6300,loss 0.23206539452075958\n",
      "step 6400,loss 0.20673716068267822\n",
      "step 6500,loss 0.1889212429523468\n",
      "step 6600,loss 0.22456519305706024\n",
      "step 6700,loss 0.2836485803127289\n",
      "step 6800,loss 0.25330623984336853\n",
      "step 6900,loss 0.2552718222141266\n",
      "step 7000,loss 0.24222880601882935\n",
      "step 7100,loss 0.20497159659862518\n",
      "step 7200,loss 0.28927963972091675\n",
      "step 7300,loss 0.24334511160850525\n",
      "step 7400,loss 0.22463124990463257\n",
      "step 7500,loss 0.2100781798362732\n",
      "step 7600,loss 0.26155945658683777\n"
     ]
    },
    {
     "ename": "KeyboardInterrupt",
     "evalue": "",
     "output_type": "error",
     "traceback": [
      "\u001b[1;31m---------------------------------------------------------------------------\u001b[0m",
      "\u001b[1;31mKeyboardInterrupt\u001b[0m                         Traceback (most recent call last)",
      "\u001b[1;32m<ipython-input-26-f2a053de19d9>\u001b[0m in \u001b[0;36m<module>\u001b[1;34m()\u001b[0m\n\u001b[0;32m     10\u001b[0m \u001b[1;33m\u001b[0m\u001b[0m\n\u001b[0;32m     11\u001b[0m     \u001b[0mloss\u001b[0m\u001b[1;33m.\u001b[0m\u001b[0mbackward\u001b[0m\u001b[1;33m(\u001b[0m\u001b[1;33m)\u001b[0m\u001b[1;33m\u001b[0m\u001b[0m\n\u001b[1;32m---> 12\u001b[1;33m     \u001b[0madam\u001b[0m\u001b[1;33m.\u001b[0m\u001b[0mminimize\u001b[0m\u001b[1;33m(\u001b[0m\u001b[0mloss\u001b[0m\u001b[1;33m)\u001b[0m\u001b[1;33m\u001b[0m\u001b[0m\n\u001b[0m\u001b[0;32m     13\u001b[0m     \u001b[0mskip_gram_model\u001b[0m\u001b[1;33m.\u001b[0m\u001b[0mclear_gradients\u001b[0m\u001b[1;33m(\u001b[0m\u001b[1;33m)\u001b[0m\u001b[1;33m\u001b[0m\u001b[0m\n\u001b[0;32m     14\u001b[0m \u001b[1;33m\u001b[0m\u001b[0m\n",
      "\u001b[1;32m<decorator-gen-369>\u001b[0m in \u001b[0;36mminimize\u001b[1;34m(self, loss, startup_program, parameters, no_grad_set)\u001b[0m\n",
      "\u001b[1;32m~\\Anaconda3\\lib\\site-packages\\paddle\\fluid\\dygraph\\base.py\u001b[0m in \u001b[0;36m__impl__\u001b[1;34m(func, *args, **kwargs)\u001b[0m\n\u001b[0;32m    297\u001b[0m         \u001b[1;32mdef\u001b[0m \u001b[0m__impl__\u001b[0m\u001b[1;33m(\u001b[0m\u001b[0mfunc\u001b[0m\u001b[1;33m,\u001b[0m \u001b[1;33m*\u001b[0m\u001b[0margs\u001b[0m\u001b[1;33m,\u001b[0m \u001b[1;33m**\u001b[0m\u001b[0mkwargs\u001b[0m\u001b[1;33m)\u001b[0m\u001b[1;33m:\u001b[0m\u001b[1;33m\u001b[0m\u001b[0m\n\u001b[0;32m    298\u001b[0m             \u001b[1;32mwith\u001b[0m \u001b[0m_switch_tracer_mode_guard_\u001b[0m\u001b[1;33m(\u001b[0m\u001b[0mis_train\u001b[0m\u001b[1;33m=\u001b[0m\u001b[1;32mFalse\u001b[0m\u001b[1;33m)\u001b[0m\u001b[1;33m:\u001b[0m\u001b[1;33m\u001b[0m\u001b[0m\n\u001b[1;32m--> 299\u001b[1;33m                 \u001b[1;32mreturn\u001b[0m \u001b[0mfunc\u001b[0m\u001b[1;33m(\u001b[0m\u001b[1;33m*\u001b[0m\u001b[0margs\u001b[0m\u001b[1;33m,\u001b[0m \u001b[1;33m**\u001b[0m\u001b[0mkwargs\u001b[0m\u001b[1;33m)\u001b[0m\u001b[1;33m\u001b[0m\u001b[0m\n\u001b[0m\u001b[0;32m    300\u001b[0m \u001b[1;33m\u001b[0m\u001b[0m\n\u001b[0;32m    301\u001b[0m         \u001b[1;32mreturn\u001b[0m \u001b[0m__impl__\u001b[0m\u001b[1;33m(\u001b[0m\u001b[0mfunc\u001b[0m\u001b[1;33m)\u001b[0m\u001b[1;33m\u001b[0m\u001b[0m\n",
      "\u001b[1;32m~\\Anaconda3\\lib\\site-packages\\paddle\\optimizer\\optimizer.py\u001b[0m in \u001b[0;36mminimize\u001b[1;34m(self, loss, startup_program, parameters, no_grad_set)\u001b[0m\n\u001b[0;32m   1177\u001b[0m \u001b[1;33m\u001b[0m\u001b[0m\n\u001b[0;32m   1178\u001b[0m         optimize_ops = self._apply_optimize(\n\u001b[1;32m-> 1179\u001b[1;33m             loss, startup_program=startup_program, params_grads=params_grads)\n\u001b[0m\u001b[0;32m   1180\u001b[0m \u001b[1;33m\u001b[0m\u001b[0m\n\u001b[0;32m   1181\u001b[0m         \u001b[1;32mreturn\u001b[0m \u001b[0moptimize_ops\u001b[0m\u001b[1;33m,\u001b[0m \u001b[0mparams_grads\u001b[0m\u001b[1;33m\u001b[0m\u001b[0m\n",
      "\u001b[1;32m~\\Anaconda3\\lib\\site-packages\\paddle\\optimizer\\optimizer.py\u001b[0m in \u001b[0;36m_apply_optimize\u001b[1;34m(self, loss, startup_program, params_grads)\u001b[0m\n\u001b[0;32m    961\u001b[0m                     params_grads['params'] = self.append_regularization_ops(\n\u001b[0;32m    962\u001b[0m                         params_grads['params'], self.regularization)\n\u001b[1;32m--> 963\u001b[1;33m                 \u001b[0moptimize_ops\u001b[0m \u001b[1;33m=\u001b[0m \u001b[0mself\u001b[0m\u001b[1;33m.\u001b[0m\u001b[0m_create_optimization_pass\u001b[0m\u001b[1;33m(\u001b[0m\u001b[0mparams_grads\u001b[0m\u001b[1;33m)\u001b[0m\u001b[1;33m\u001b[0m\u001b[0m\n\u001b[0m\u001b[0;32m    964\u001b[0m         \u001b[1;32melse\u001b[0m\u001b[1;33m:\u001b[0m\u001b[1;33m\u001b[0m\u001b[0m\n\u001b[0;32m    965\u001b[0m             \u001b[0mprogram\u001b[0m \u001b[1;33m=\u001b[0m \u001b[0mloss\u001b[0m\u001b[1;33m.\u001b[0m\u001b[0mblock\u001b[0m\u001b[1;33m.\u001b[0m\u001b[0mprogram\u001b[0m\u001b[1;33m\u001b[0m\u001b[0m\n",
      "\u001b[1;32m~\\Anaconda3\\lib\\site-packages\\paddle\\optimizer\\optimizer.py\u001b[0m in \u001b[0;36m_create_optimization_pass\u001b[1;34m(self, parameters_and_grads)\u001b[0m\n\u001b[0;32m    765\u001b[0m                         \u001b[1;32mif\u001b[0m \u001b[0mparam_and_grad\u001b[0m\u001b[1;33m[\u001b[0m\u001b[1;36m0\u001b[0m\u001b[1;33m]\u001b[0m\u001b[1;33m.\u001b[0m\u001b[0mstop_gradient\u001b[0m \u001b[1;32mis\u001b[0m \u001b[1;32mFalse\u001b[0m\u001b[1;33m:\u001b[0m\u001b[1;33m\u001b[0m\u001b[0m\n\u001b[0;32m    766\u001b[0m                             self._append_optimize_op(target_block,\n\u001b[1;32m--> 767\u001b[1;33m                                                      param_and_grad)\n\u001b[0m\u001b[0;32m    768\u001b[0m                 \u001b[1;32melse\u001b[0m\u001b[1;33m:\u001b[0m\u001b[1;33m\u001b[0m\u001b[0m\n\u001b[0;32m    769\u001b[0m                     \u001b[1;32mfor\u001b[0m \u001b[0mparam_and_grad\u001b[0m \u001b[1;32min\u001b[0m \u001b[0mparameters_and_grads\u001b[0m\u001b[1;33m[\u001b[0m\u001b[1;34m'params'\u001b[0m\u001b[1;33m]\u001b[0m\u001b[1;33m:\u001b[0m\u001b[1;33m\u001b[0m\u001b[0m\n",
      "\u001b[1;32m~\\Anaconda3\\lib\\site-packages\\paddle\\optimizer\\adam.py\u001b[0m in \u001b[0;36m_append_optimize_op\u001b[1;34m(self, block, param_and_grad)\u001b[0m\n\u001b[0;32m    349\u001b[0m                 \u001b[1;34m'epsilon'\u001b[0m\u001b[1;33m,\u001b[0m \u001b[0mself\u001b[0m\u001b[1;33m.\u001b[0m\u001b[0m_epsilon\u001b[0m\u001b[1;33m,\u001b[0m \u001b[1;34m'lazy_mode'\u001b[0m\u001b[1;33m,\u001b[0m \u001b[0mself\u001b[0m\u001b[1;33m.\u001b[0m\u001b[0m_lazy_mode\u001b[0m\u001b[1;33m,\u001b[0m\u001b[1;33m\u001b[0m\u001b[0m\n\u001b[0;32m    350\u001b[0m                 \u001b[1;34m'min_row_size_to_use_multithread'\u001b[0m\u001b[1;33m,\u001b[0m \u001b[1;36m1000\u001b[0m\u001b[1;33m,\u001b[0m \u001b[1;34m'beta1'\u001b[0m\u001b[1;33m,\u001b[0m \u001b[0m_beta1\u001b[0m\u001b[1;33m,\u001b[0m\u001b[1;33m\u001b[0m\u001b[0m\n\u001b[1;32m--> 351\u001b[1;33m                 'beta2', _beta2, 'multi_precision', find_master)\n\u001b[0m\u001b[0;32m    352\u001b[0m \u001b[1;33m\u001b[0m\u001b[0m\n\u001b[0;32m    353\u001b[0m             \u001b[1;32mreturn\u001b[0m \u001b[1;32mNone\u001b[0m\u001b[1;33m\u001b[0m\u001b[0m\n",
      "\u001b[1;31mKeyboardInterrupt\u001b[0m: "
     ]
    }
   ],
   "source": [
    "\n",
    "for context_words,target_words,label in build_batch(dataset,batch_size,epoch_num):\n",
    "    context_words_var=paddle.to_tensor(context_words)\n",
    "    target_words_var=paddle.to_tensor(target_words)\n",
    "    label_var=paddle.to_tensor(label)\n",
    "    \n",
    "#     print(f\"see target_words:\\n{target_words}\")\n",
    "    \n",
    "    pred,loss=skip_gram_model(context_words_var,target_words_var,label_var)\n",
    "    \n",
    "    loss.backward()\n",
    "    adam.minimize(loss)\n",
    "    skip_gram_model.clear_gradients()\n",
    "    \n",
    "    step+=1\n",
    "    if step%100==0:\n",
    "        print(f'step {step},loss {loss.numpy()[0]}')\n",
    "    \n",
    "    if step%2000==0:\n",
    "        embedding_matrix=skip_gram_model.embedding.weight.numpy()\n",
    "        np.save('./embedding',embedding_matrix)\n",
    "        get_cos(\"king\",\"queen\",embedding_matrix)\n",
    "        get_cos('she','her',embedding_matrix)\n",
    "        get_cos('topic','theme',embedding_matrix)\n",
    "        get_cos('woman','game',embedding_matrix)\n",
    "        get_cos('one','name',embedding_matrix)"
   ]
  },
  {
   "cell_type": "code",
   "execution_count": null,
   "metadata": {},
   "outputs": [],
   "source": []
  }
 ],
 "metadata": {
  "kernelspec": {
   "display_name": "Python 3",
   "language": "python",
   "name": "python3"
  },
  "language_info": {
   "codemirror_mode": {
    "name": "ipython",
    "version": 3
   },
   "file_extension": ".py",
   "mimetype": "text/x-python",
   "name": "python",
   "nbconvert_exporter": "python",
   "pygments_lexer": "ipython3",
   "version": "3.6.4"
  }
 },
 "nbformat": 4,
 "nbformat_minor": 4
}
