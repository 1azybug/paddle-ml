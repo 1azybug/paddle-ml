{
 "cells": [
  {
   "cell_type": "code",
   "execution_count": 1,
   "metadata": {
    "ExecuteTime": {
     "end_time": "2022-07-13T07:32:16.828313Z",
     "start_time": "2022-07-13T07:32:14.244672Z"
    },
    "execution": {
     "iopub.execute_input": "2022-07-13T00:22:52.854942Z",
     "iopub.status.busy": "2022-07-13T00:22:52.854500Z",
     "iopub.status.idle": "2022-07-13T00:22:52.859749Z",
     "shell.execute_reply": "2022-07-13T00:22:52.859023Z",
     "shell.execute_reply.started": "2022-07-13T00:22:52.854914Z"
    },
    "scrolled": true,
    "tags": []
   },
   "outputs": [],
   "source": [
    "import os\n",
    "import random\n",
    "import io \n",
    "import sys \n",
    "import requests\n",
    "from collections import OrderedDict \n",
    "import math \n",
    "import numpy as np \n",
    "import paddle"
   ]
  },
  {
   "cell_type": "code",
   "execution_count": 2,
   "metadata": {
    "ExecuteTime": {
     "end_time": "2022-07-13T07:32:16.843455Z",
     "start_time": "2022-07-13T07:32:16.829316Z"
    },
    "execution": {
     "iopub.execute_input": "2022-07-13T00:22:54.657723Z",
     "iopub.status.busy": "2022-07-13T00:22:54.656510Z",
     "iopub.status.idle": "2022-07-13T00:22:54.663526Z",
     "shell.execute_reply": "2022-07-13T00:22:54.662434Z",
     "shell.execute_reply.started": "2022-07-13T00:22:54.657678Z"
    },
    "scrolled": true,
    "tags": []
   },
   "outputs": [],
   "source": [
    "def download():\n",
    "    corpus_url='https://dataset.bj.bcebos.com/word2vec/text8.txt'\n",
    "    web_requests=requests.get(corpus_url)\n",
    "    corpus=web_requests.content\n",
    "    with open('./text8.txt','wb') as f:\n",
    "        f.write(corpus)\n",
    "        f.close()\n",
    "    "
   ]
  },
  {
   "cell_type": "code",
   "execution_count": 3,
   "metadata": {
    "ExecuteTime": {
     "end_time": "2022-07-13T07:34:22.054959Z",
     "start_time": "2022-07-13T07:32:16.844456Z"
    },
    "execution": {
     "iopub.execute_input": "2022-07-13T00:22:58.759093Z",
     "iopub.status.busy": "2022-07-13T00:22:58.758372Z",
     "iopub.status.idle": "2022-07-13T00:23:00.316451Z",
     "shell.execute_reply": "2022-07-13T00:23:00.315316Z",
     "shell.execute_reply.started": "2022-07-13T00:22:58.759063Z"
    },
    "scrolled": true,
    "tags": []
   },
   "outputs": [],
   "source": [
    "download()"
   ]
  },
  {
   "cell_type": "markdown",
   "metadata": {},
   "source": [
    "## 构造数据生成器"
   ]
  },
  {
   "cell_type": "markdown",
   "metadata": {},
   "source": [
    "#### 加载"
   ]
  },
  {
   "cell_type": "code",
   "execution_count": 4,
   "metadata": {
    "ExecuteTime": {
     "end_time": "2022-07-13T07:34:22.070411Z",
     "start_time": "2022-07-13T07:34:22.055961Z"
    },
    "execution": {
     "iopub.execute_input": "2022-07-13T00:23:35.182909Z",
     "iopub.status.busy": "2022-07-13T00:23:35.181675Z",
     "iopub.status.idle": "2022-07-13T00:23:35.186815Z",
     "shell.execute_reply": "2022-07-13T00:23:35.186115Z",
     "shell.execute_reply.started": "2022-07-13T00:23:35.182871Z"
    },
    "scrolled": true,
    "tags": []
   },
   "outputs": [],
   "source": [
    "def load_text8():\n",
    "    with open('./text8.txt') as f:\n",
    "        corpus=f.read().strip('\\n')\n",
    "        f.close()\n",
    "    return corpus"
   ]
  },
  {
   "cell_type": "code",
   "execution_count": 5,
   "metadata": {
    "ExecuteTime": {
     "end_time": "2022-07-13T07:34:22.550045Z",
     "start_time": "2022-07-13T07:34:22.071414Z"
    },
    "execution": {
     "iopub.execute_input": "2022-07-13T00:26:00.023242Z",
     "iopub.status.busy": "2022-07-13T00:26:00.022381Z",
     "iopub.status.idle": "2022-07-13T00:26:00.266629Z",
     "shell.execute_reply": "2022-07-13T00:26:00.265707Z",
     "shell.execute_reply.started": "2022-07-13T00:26:00.023195Z"
    },
    "scrolled": true,
    "tags": []
   },
   "outputs": [],
   "source": [
    "corpus=load_text8()"
   ]
  },
  {
   "cell_type": "code",
   "execution_count": 6,
   "metadata": {
    "ExecuteTime": {
     "end_time": "2022-07-13T07:34:22.565178Z",
     "start_time": "2022-07-13T07:34:22.551050Z"
    },
    "execution": {
     "iopub.execute_input": "2022-07-13T00:26:20.303995Z",
     "iopub.status.busy": "2022-07-13T00:26:20.303409Z",
     "iopub.status.idle": "2022-07-13T00:26:20.308748Z",
     "shell.execute_reply": "2022-07-13T00:26:20.308110Z",
     "shell.execute_reply.started": "2022-07-13T00:26:20.303963Z"
    },
    "scrolled": true,
    "tags": []
   },
   "outputs": [
    {
     "data": {
      "text/plain": [
       "' anarchism originated as a term of abuse first used against early working class radicals including the diggers of the english revolution and the sans culottes of the french revolution whilst the term is still used in a pejorative way to describe any act that used violent means to destroy the organization of society it has also been taken up as a positive label by self defined anarchists the word anarchism is derived from the greek without archons ruler chief king anarchism as a political philoso'"
      ]
     },
     "execution_count": 6,
     "metadata": {},
     "output_type": "execute_result"
    }
   ],
   "source": [
    "corpus[:500]"
   ]
  },
  {
   "cell_type": "markdown",
   "metadata": {},
   "source": [
    "#### 分词"
   ]
  },
  {
   "cell_type": "code",
   "execution_count": 7,
   "metadata": {
    "ExecuteTime": {
     "end_time": "2022-07-13T07:34:22.580799Z",
     "start_time": "2022-07-13T07:34:22.566178Z"
    },
    "execution": {
     "iopub.execute_input": "2022-07-13T00:28:56.224518Z",
     "iopub.status.busy": "2022-07-13T00:28:56.223661Z",
     "iopub.status.idle": "2022-07-13T00:28:56.228273Z",
     "shell.execute_reply": "2022-07-13T00:28:56.227503Z",
     "shell.execute_reply.started": "2022-07-13T00:28:56.224487Z"
    },
    "scrolled": true,
    "tags": []
   },
   "outputs": [],
   "source": [
    "def data_preprocess(corpus):\n",
    "    corpus=corpus.strip().lower()\n",
    "    corpus=corpus.split(' ')\n",
    "    return corpus"
   ]
  },
  {
   "cell_type": "code",
   "execution_count": 8,
   "metadata": {
    "ExecuteTime": {
     "end_time": "2022-07-13T07:34:23.419323Z",
     "start_time": "2022-07-13T07:34:22.582802Z"
    },
    "execution": {
     "iopub.execute_input": "2022-07-13T00:29:10.980110Z",
     "iopub.status.busy": "2022-07-13T00:29:10.979168Z",
     "iopub.status.idle": "2022-07-13T00:29:12.568513Z",
     "shell.execute_reply": "2022-07-13T00:29:12.567600Z",
     "shell.execute_reply.started": "2022-07-13T00:29:10.980079Z"
    },
    "scrolled": true,
    "tags": []
   },
   "outputs": [],
   "source": [
    "corpus=data_preprocess(corpus)"
   ]
  },
  {
   "cell_type": "code",
   "execution_count": 9,
   "metadata": {
    "ExecuteTime": {
     "end_time": "2022-07-13T07:34:23.434738Z",
     "start_time": "2022-07-13T07:34:23.422838Z"
    },
    "scrolled": false
   },
   "outputs": [
    {
     "data": {
      "text/plain": [
       "['anarchism',\n",
       " 'originated',\n",
       " 'as',\n",
       " 'a',\n",
       " 'term',\n",
       " 'of',\n",
       " 'abuse',\n",
       " 'first',\n",
       " 'used',\n",
       " 'against',\n",
       " 'early',\n",
       " 'working',\n",
       " 'class',\n",
       " 'radicals',\n",
       " 'including',\n",
       " 'the',\n",
       " 'diggers',\n",
       " 'of',\n",
       " 'the',\n",
       " 'english',\n",
       " 'revolution',\n",
       " 'and',\n",
       " 'the',\n",
       " 'sans',\n",
       " 'culottes',\n",
       " 'of',\n",
       " 'the',\n",
       " 'french',\n",
       " 'revolution',\n",
       " 'whilst',\n",
       " 'the',\n",
       " 'term',\n",
       " 'is',\n",
       " 'still',\n",
       " 'used',\n",
       " 'in',\n",
       " 'a',\n",
       " 'pejorative',\n",
       " 'way',\n",
       " 'to',\n",
       " 'describe',\n",
       " 'any',\n",
       " 'act',\n",
       " 'that',\n",
       " 'used',\n",
       " 'violent',\n",
       " 'means',\n",
       " 'to',\n",
       " 'destroy',\n",
       " 'the']"
      ]
     },
     "execution_count": 9,
     "metadata": {},
     "output_type": "execute_result"
    }
   ],
   "source": [
    "corpus[:50]"
   ]
  },
  {
   "cell_type": "markdown",
   "metadata": {},
   "source": [
    "#### 构造词典"
   ]
  },
  {
   "cell_type": "code",
   "execution_count": 10,
   "metadata": {
    "ExecuteTime": {
     "end_time": "2022-07-13T07:34:23.574444Z",
     "start_time": "2022-07-13T07:34:23.435786Z"
    }
   },
   "outputs": [],
   "source": [
    "def build_dict(corpus):\n",
    "    word_freq_dict={}\n",
    "    for word in corpus:\n",
    "        if word not in word_freq_dict:\n",
    "            word_freq_dict[word]=0\n",
    "        word_freq_dict[word]+=1\n",
    "    \n",
    "    word_freq_dict=sorted(word_freq_dict.items(),key=lambda x:x[1],reverse=True)\n",
    "    \n",
    "    word2id={}\n",
    "    id2freq={}\n",
    "    id2word={}\n",
    "    \n",
    "    for word,freq in word_freq_dict:\n",
    "        ind=len(word2id)\n",
    "        word2id[word]=ind\n",
    "        id2freq[ind]=freq\n",
    "        id2word[ind]=word\n",
    "    \n",
    "    return id2freq,word2id,id2word"
   ]
  },
  {
   "cell_type": "code",
   "execution_count": 11,
   "metadata": {
    "ExecuteTime": {
     "end_time": "2022-07-13T07:34:26.584451Z",
     "start_time": "2022-07-13T07:34:23.575434Z"
    }
   },
   "outputs": [],
   "source": [
    "id2freq,word2id,id2word=build_dict(corpus)"
   ]
  },
  {
   "cell_type": "code",
   "execution_count": 12,
   "metadata": {
    "ExecuteTime": {
     "end_time": "2022-07-13T07:34:26.600284Z",
     "start_time": "2022-07-13T07:34:26.585450Z"
    }
   },
   "outputs": [],
   "source": [
    "vocab_size=len(id2freq)"
   ]
  },
  {
   "cell_type": "code",
   "execution_count": 13,
   "metadata": {
    "ExecuteTime": {
     "end_time": "2022-07-13T07:34:26.616159Z",
     "start_time": "2022-07-13T07:34:26.601810Z"
    }
   },
   "outputs": [
    {
     "data": {
      "text/plain": [
       "253854"
      ]
     },
     "execution_count": 13,
     "metadata": {},
     "output_type": "execute_result"
    }
   ],
   "source": [
    "vocab_size"
   ]
  },
  {
   "cell_type": "code",
   "execution_count": 14,
   "metadata": {
    "ExecuteTime": {
     "end_time": "2022-07-13T07:34:26.631639Z",
     "start_time": "2022-07-13T07:34:26.617684Z"
    }
   },
   "outputs": [
    {
     "name": "stdout",
     "output_type": "stream",
     "text": [
      "word:the,its id:0,its freq:1061396\n",
      "word:of,its id:1,its freq:593677\n",
      "word:and,its id:2,its freq:416629\n",
      "word:one,its id:3,its freq:411764\n",
      "word:in,its id:4,its freq:372201\n",
      "word:a,its id:5,its freq:325873\n",
      "word:to,its id:6,its freq:316376\n",
      "word:zero,its id:7,its freq:264975\n"
     ]
    }
   ],
   "source": [
    "for _,(word,word_id) in zip(range(8),word2id.items()):\n",
    "    print(f'word:{word},its id:{word_id},its freq:{id2freq[word_id]}')"
   ]
  },
  {
   "cell_type": "markdown",
   "metadata": {},
   "source": [
    "#### 转化为id序列"
   ]
  },
  {
   "cell_type": "code",
   "execution_count": 15,
   "metadata": {
    "ExecuteTime": {
     "end_time": "2022-07-13T07:34:28.227559Z",
     "start_time": "2022-07-13T07:34:26.632666Z"
    }
   },
   "outputs": [],
   "source": [
    "corpus=[word2id[word] for word in corpus]"
   ]
  },
  {
   "cell_type": "code",
   "execution_count": 16,
   "metadata": {
    "ExecuteTime": {
     "end_time": "2022-07-13T07:34:28.242759Z",
     "start_time": "2022-07-13T07:34:28.228562Z"
    }
   },
   "outputs": [
    {
     "data": {
      "text/plain": [
       "[5233, 3080, 11, 5, 194, 1, 3133, 45]"
      ]
     },
     "execution_count": 16,
     "metadata": {},
     "output_type": "execute_result"
    }
   ],
   "source": [
    "corpus[:8]"
   ]
  },
  {
   "cell_type": "markdown",
   "metadata": {},
   "source": [
    "#### 二次采样法"
   ]
  },
  {
   "cell_type": "code",
   "execution_count": 17,
   "metadata": {
    "ExecuteTime": {
     "end_time": "2022-07-13T07:34:28.258724Z",
     "start_time": "2022-07-13T07:34:28.243761Z"
    }
   },
   "outputs": [],
   "source": [
    "def subsampling(corpus,id2freq):\n",
    "    \n",
    "    def discard(word_id):\n",
    "        q=1-math.sqrt(1e-4/id2freq[word_id]*len(corpus))\n",
    "        return random.uniform(0,1)<q\n",
    "    corpus=[word for word in corpus if not discard(word)]\n",
    "    return corpus"
   ]
  },
  {
   "cell_type": "code",
   "execution_count": 18,
   "metadata": {
    "ExecuteTime": {
     "end_time": "2022-07-13T07:34:39.737577Z",
     "start_time": "2022-07-13T07:34:28.259726Z"
    }
   },
   "outputs": [
    {
     "name": "stdout",
     "output_type": "stream",
     "text": [
      "8743692\n",
      "[5233, 3080, 3133, 58, 127, 741, 476, 10571]\n"
     ]
    }
   ],
   "source": [
    "corpus=subsampling(corpus,id2freq)\n",
    "print(len(corpus))\n",
    "print(corpus[:8])"
   ]
  },
  {
   "cell_type": "markdown",
   "metadata": {},
   "source": [
    "#### 构造数据集"
   ]
  },
  {
   "cell_type": "code",
   "execution_count": 19,
   "metadata": {
    "ExecuteTime": {
     "end_time": "2022-07-13T07:34:39.814438Z",
     "start_time": "2022-07-13T07:34:39.740245Z"
    }
   },
   "outputs": [],
   "source": [
    "def build_data(corpus,word2id,id2freq,max_window_size=3,negative_sample_num=4):\n",
    "    dataset=[]\n",
    "    center_word_idx=0\n",
    "    \n",
    "    while center_word_idx<len(corpus):\n",
    "        window_size=random.randint(1,max_window_size)\n",
    "        positive_word=corpus[center_word_idx]\n",
    "        \n",
    "        context_word_range=(max(0,center_word_idx-window_size),min(len(corpus)-1,center_word_idx+window_size))\n",
    "        context_word_candidates=[corpus[idx] for idx in range(context_word_range[0],context_word_range[1]+1) if idx!=center_word_idx]\n",
    "        \n",
    "        for context_word in context_word_candidates:\n",
    "            dataset.append((context_word,positive_word,1))\n",
    "            i=0\n",
    "            while i<negative_sample_num:\n",
    "                negative_word_candidate=random.randint(0,vocab_size-1)\n",
    "                if negative_word_candidate is not positive_word:\n",
    "                    dataset.append((context_word,negative_word_candidate,0))\n",
    "                    i+=1\n",
    "        \n",
    "        center_word_idx=min(len(corpus)-1,center_word_idx+window_size)\n",
    "        if center_word_idx==(len(corpus)-1):\n",
    "            center_word_idx+=1\n",
    "        if(center_word_idx%100000==0):\n",
    "            print(center_word_idx)\n",
    "    return dataset\n",
    "    "
   ]
  },
  {
   "cell_type": "code",
   "execution_count": 20,
   "metadata": {
    "ExecuteTime": {
     "end_time": "2022-07-13T07:36:14.628987Z",
     "start_time": "2022-07-13T07:34:39.815440Z"
    }
   },
   "outputs": [
    {
     "name": "stdout",
     "output_type": "stream",
     "text": [
      "700000\n",
      "1100000\n",
      "1200000\n",
      "1300000\n",
      "1400000\n",
      "1600000\n",
      "1700000\n",
      "2200000\n",
      "2300000\n",
      "2400000\n",
      "2500000\n",
      "2600000\n",
      "2800000\n",
      "2900000\n",
      "3000000\n",
      "3100000\n",
      "3200000\n",
      "3300000\n",
      "3500000\n",
      "3700000\n",
      "3800000\n",
      "4100000\n",
      "4200000\n",
      "4500000\n",
      "4700000\n",
      "5100000\n",
      "5200000\n",
      "5500000\n",
      "5700000\n",
      "6100000\n",
      "6200000\n",
      "6300000\n",
      "6400000\n",
      "6600000\n",
      "6700000\n",
      "6800000\n",
      "7100000\n",
      "7700000\n",
      "7800000\n",
      "7900000\n",
      "8300000\n",
      "8400000\n",
      "8700000\n"
     ]
    }
   ],
   "source": [
    "dataset=build_data(corpus,word2id,id2freq)"
   ]
  },
  {
   "cell_type": "code",
   "execution_count": 21,
   "metadata": {
    "ExecuteTime": {
     "end_time": "2022-07-13T07:36:14.644942Z",
     "start_time": "2022-07-13T07:36:14.634624Z"
    }
   },
   "outputs": [
    {
     "name": "stdout",
     "output_type": "stream",
     "text": [
      "(3080, 5233, 1)\n",
      "(3080, 71668, 0)\n",
      "(3080, 10066, 0)\n",
      "(3080, 134870, 0)\n",
      "(3080, 230194, 0)\n",
      "(3133, 5233, 1)\n",
      "(3133, 18521, 0)\n",
      "(3133, 244042, 0)\n",
      "(3133, 88905, 0)\n",
      "(3133, 114876, 0)\n",
      "(5233, 3133, 1)\n"
     ]
    }
   ],
   "source": [
    "for _,data in zip(range(11),dataset):\n",
    "    print(data)"
   ]
  },
  {
   "cell_type": "markdown",
   "metadata": {},
   "source": [
    "#### 构造数据生成器"
   ]
  },
  {
   "cell_type": "code",
   "execution_count": 22,
   "metadata": {
    "ExecuteTime": {
     "end_time": "2022-07-13T07:36:14.675742Z",
     "start_time": "2022-07-13T07:36:14.646266Z"
    }
   },
   "outputs": [],
   "source": [
    "def build_batch(dataset,batch_size,epoch_num):\n",
    "    context_word_batch=[]\n",
    "    target_word_batch=[]\n",
    "    label_batch=[]\n",
    "    \n",
    "    for epoch in range(epoch_num):\n",
    "        random.shuffle(dataset)\n",
    "        for context_word,target_word,label in dataset:\n",
    "            context_word_batch.append([context_word])\n",
    "            target_word_batch.append([target_word])\n",
    "            label_batch.append(label)\n",
    "            \n",
    "            if len(context_word_batch)==batch_size:\n",
    "                yield np.array(context_word_batch).astype('int64'),\\\n",
    "                    np.array(target_word_batch).astype('int64'),\\\n",
    "                    np.array(label_batch).astype('float32')\n",
    "        \n",
    "        if len(context_word_batch)>0:\n",
    "            yield np.array(context_word_batch).astype('int64'),\\\n",
    "                np.array(target_word_batch).astype('int64'),\\\n",
    "                np.array(label_batch).astype('float32')\n",
    "            "
   ]
  },
  {
   "cell_type": "markdown",
   "metadata": {},
   "source": [
    "## 模型配置"
   ]
  },
  {
   "cell_type": "code",
   "execution_count": 23,
   "metadata": {
    "ExecuteTime": {
     "end_time": "2022-07-13T07:36:14.721755Z",
     "start_time": "2022-07-13T07:36:14.676713Z"
    }
   },
   "outputs": [],
   "source": [
    "class CBOW(paddle.nn.Layer):\n",
    "    def __init__(self,vocab_size,embedding_size,init_scale=0.1):\n",
    "        super(CBOW,self).__init__()\n",
    "        self.vocab_size=vocab_size\n",
    "        self.embedding_size=embedding_size\n",
    "        self.embedding=paddle.nn.Embedding(\n",
    "            self.vocab_size,\n",
    "            self.embedding_size,\n",
    "            weight_attr=paddle.ParamAttr(\n",
    "                name='embedding_para',\n",
    "                initializer=paddle.nn.initializer.Uniform(\n",
    "                    low=-0.5/embedding_size,high=0.5/embedding_size\n",
    "                )\n",
    "            )\n",
    "        )\n",
    "        \n",
    "        self.embedding_out=paddle.nn.Embedding(\n",
    "            self.vocab_size,\n",
    "            self.embedding_size,\n",
    "            weight_attr=paddle.ParamAttr(\n",
    "                name='embedding_out_para',\n",
    "                initializer=paddle.nn.initializer.Uniform(\n",
    "                    low=-0.5/embedding_size,high=0.5/embedding_size\n",
    "                )\n",
    "            )\n",
    "        )\n",
    "    \n",
    "    def forward(self,context_words,target_words,label):\n",
    "        context_words_emb=self.embedding(context_words)\n",
    "        target_words_emb=self.embedding_out(target_words)\n",
    "        word_sim=paddle.multiply(context_words_emb,target_words_emb)\n",
    "        word_sim=paddle.sum(word_sim,axis=-1)\n",
    "        word_sim=paddle.reshape(word_sim,shape=[-1])\n",
    "        pred=paddle.nn.functional.sigmoid(word_sim)\n",
    "        loss=paddle.nn.functional.binary_cross_entropy(pred,label)\n",
    "#         print(f\"see loss:\\n{loss}\")\n",
    "        loss=paddle.mean(loss)\n",
    "#         print(f\"see loss after mean:\\n{loss}\")\n",
    "        return pred,loss\n"
   ]
  },
  {
   "cell_type": "markdown",
   "metadata": {},
   "source": [
    "## 训练"
   ]
  },
  {
   "cell_type": "code",
   "execution_count": 24,
   "metadata": {
    "ExecuteTime": {
     "end_time": "2022-07-13T07:36:14.736932Z",
     "start_time": "2022-07-13T07:36:14.722802Z"
    }
   },
   "outputs": [],
   "source": [
    "batch_size=512\n",
    "epoch_num=3\n",
    "embedding_size=200\n",
    "step=0\n",
    "learning_rate=0.001\n",
    "\n",
    "def get_cos(query1_token,query2_token,embed):\n",
    "    W=embed\n",
    "    x=W[word2id[query1_token]]\n",
    "    y=W[word2id[query2_token]]\n",
    "    cos=np.dot(x,y)/np.sqrt(np.sum(y*y)*np.sum(x*x)+1e-9)\n",
    "    flat=cos.flatten()\n",
    "    print(f\"{query1_token}和{query2_token}的cos结果为{cos}\")"
   ]
  },
  {
   "cell_type": "code",
   "execution_count": null,
   "metadata": {},
   "outputs": [],
   "source": [
    "skip_gram_model=CBOW(vocab_size,embedding_size)\n",
    "adam=paddle.optimizer.Adam(learning_rate=learning_rate,parameters=skip_gram_model.parameters())"
   ]
  },
  {
   "cell_type": "code",
   "execution_count": null,
   "metadata": {
    "ExecuteTime": {
     "start_time": "2022-07-13T07:38:23.335Z"
    }
   },
   "outputs": [
    {
     "name": "stdout",
     "output_type": "stream",
     "text": [
      "see target_words:\n",
      "[[193989]\n",
      " [242531]\n",
      " [   229]\n",
      " [   739]\n",
      " [ 53102]\n",
      " [246975]\n",
      " [ 33398]\n",
      " [190328]\n",
      " [155277]\n",
      " [222303]\n",
      " [134193]\n",
      " [227323]\n",
      " [237599]\n",
      " [ 21826]\n",
      " [108315]\n",
      " [118577]\n",
      " [167015]\n",
      " [ 28478]\n",
      " [ 73047]\n",
      " [171672]\n",
      " [171752]\n",
      " [ 22883]\n",
      " [167065]\n",
      " [  2195]\n",
      " [189686]\n",
      " [232738]\n",
      " [ 27355]\n",
      " [191226]\n",
      " [228081]\n",
      " [   201]\n",
      " [176641]\n",
      " [  4601]\n",
      " [155874]\n",
      " [ 30697]\n",
      " [110225]\n",
      " [   521]\n",
      " [     1]\n",
      " [ 82072]\n",
      " [113959]\n",
      " [236716]\n",
      " [112064]\n",
      " [  9217]\n",
      " [ 92198]\n",
      " [     3]\n",
      " [226961]\n",
      " [  8990]\n",
      " [ 74992]\n",
      " [ 23980]\n",
      " [   433]\n",
      " [129731]\n",
      " [193152]\n",
      " [ 71698]\n",
      " [197242]\n",
      " [ 98119]\n",
      " [184201]\n",
      " [228935]\n",
      " [210084]\n",
      " [  3591]\n",
      " [200363]\n",
      " [120259]\n",
      " [ 47631]\n",
      " [ 63000]\n",
      " [ 36605]\n",
      " [216701]\n",
      " [ 22680]\n",
      " [ 37677]\n",
      " [  1034]\n",
      " [224635]\n",
      " [   964]\n",
      " [    69]\n",
      " [ 59182]\n",
      " [167846]\n",
      " [214806]\n",
      " [178368]\n",
      " [ 27829]\n",
      " [  2469]\n",
      " [107575]\n",
      " [124657]\n",
      " [161708]\n",
      " [ 30255]\n",
      " [128893]\n",
      " [133655]\n",
      " [121796]\n",
      " [136445]\n",
      " [  4503]\n",
      " [ 12284]\n",
      " [    70]\n",
      " [151032]\n",
      " [ 79378]\n",
      " [192970]\n",
      " [ 97127]\n",
      " [ 91154]\n",
      " [173121]\n",
      " [ 15943]\n",
      " [ 52988]\n",
      " [130762]\n",
      " [128863]\n",
      " [121795]\n",
      " [  5208]\n",
      " [ 88709]\n",
      " [107238]\n",
      " [ 42307]\n",
      " [ 63305]\n",
      " [ 18772]\n",
      " [155556]\n",
      " [220173]\n",
      " [  1075]\n",
      " [ 68704]\n",
      " [141474]\n",
      " [ 70582]\n",
      " [246252]\n",
      " [  3853]\n",
      " [ 42928]\n",
      " [ 34499]\n",
      " [237112]\n",
      " [ 34070]\n",
      " [  1364]\n",
      " [145534]\n",
      " [152431]\n",
      " [ 28511]\n",
      " [  1453]\n",
      " [     9]\n",
      " [ 16170]\n",
      " [ 62752]\n",
      " [  1584]\n",
      " [     4]\n",
      " [150603]\n",
      " [ 96931]\n",
      " [ 40353]\n",
      " [  4048]\n",
      " [165365]\n",
      " [178107]\n",
      " [234309]\n",
      " [ 65297]\n",
      " [  1455]\n",
      " [ 52818]\n",
      " [ 66491]\n",
      " [129991]\n",
      " [115141]\n",
      " [197697]\n",
      " [   205]\n",
      " [229437]\n",
      " [ 16061]\n",
      " [  2611]\n",
      " [180223]\n",
      " [159926]\n",
      " [202685]\n",
      " [  2259]\n",
      " [ 74048]\n",
      " [  8386]\n",
      " [165309]\n",
      " [ 88559]\n",
      " [103552]\n",
      " [216760]\n",
      " [162810]\n",
      " [208948]\n",
      " [245020]\n",
      " [ 90497]\n",
      " [119607]\n",
      " [   145]\n",
      " [  6107]\n",
      " [ 51380]\n",
      " [ 16967]\n",
      " [   951]\n",
      " [144693]\n",
      " [240338]\n",
      " [251082]\n",
      " [  4498]\n",
      " [ 86712]\n",
      " [  1362]\n",
      " [ 52730]\n",
      " [ 43145]\n",
      " [ 46284]\n",
      " [169287]\n",
      " [   574]\n",
      " [  2133]\n",
      " [225645]\n",
      " [ 68754]\n",
      " [161958]\n",
      " [   787]\n",
      " [153126]\n",
      " [ 66740]\n",
      " [ 95592]\n",
      " [164674]\n",
      " [  1809]\n",
      " [  1324]\n",
      " [    76]\n",
      " [ 10021]\n",
      " [122912]\n",
      " [172217]\n",
      " [    23]\n",
      " [155782]\n",
      " [185469]\n",
      " [195813]\n",
      " [250703]\n",
      " [ 39826]\n",
      " [ 52255]\n",
      " [ 85180]\n",
      " [167399]\n",
      " [213338]\n",
      " [ 18438]\n",
      " [106296]\n",
      " [    48]\n",
      " [ 23494]\n",
      " [ 46252]\n",
      " [139454]\n",
      " [ 80226]\n",
      " [ 94839]\n",
      " [  2147]\n",
      " [209962]\n",
      " [191481]\n",
      " [ 13674]\n",
      " [ 50851]\n",
      " [228060]\n",
      " [189878]\n",
      " [223754]\n",
      " [208360]\n",
      " [244865]\n",
      " [198269]\n",
      " [  3933]\n",
      " [ 41502]\n",
      " [ 23572]\n",
      " [ 37837]\n",
      " [179031]\n",
      " [ 67052]\n",
      " [118871]\n",
      " [252303]\n",
      " [   270]\n",
      " [160118]\n",
      " [ 87937]\n",
      " [ 51993]\n",
      " [ 46758]\n",
      " [   388]\n",
      " [ 13730]\n",
      " [ 43726]\n",
      " [ 16442]\n",
      " [134653]\n",
      " [ 77080]\n",
      " [ 33382]\n",
      " [231301]\n",
      " [   705]\n",
      " [  1269]\n",
      " [166540]\n",
      " [ 13256]\n",
      " [226643]\n",
      " [173007]\n",
      " [ 66423]\n",
      " [233255]\n",
      " [  4652]\n",
      " [178686]\n",
      " [205674]\n",
      " [ 55247]\n",
      " [201705]\n",
      " [  2011]\n",
      " [ 66817]\n",
      " [193880]\n",
      " [208270]\n",
      " [ 17031]\n",
      " [  2607]\n",
      " [231302]\n",
      " [144533]\n",
      " [ 28247]\n",
      " [175918]\n",
      " [ 25188]\n",
      " [ 12999]\n",
      " [160220]\n",
      " [ 94880]\n",
      " [234203]\n",
      " [   616]\n",
      " [   491]\n",
      " [194395]\n",
      " [ 31167]\n",
      " [164830]\n",
      " [  2483]\n",
      " [   706]\n",
      " [140096]\n",
      " [ 62718]\n",
      " [ 59773]\n",
      " [208122]\n",
      " [ 28245]\n",
      " [197323]\n",
      " [199889]\n",
      " [236748]\n",
      " [ 10893]\n",
      " [ 20284]\n",
      " [  3505]\n",
      " [168201]\n",
      " [ 69709]\n",
      " [   740]\n",
      " [103605]\n",
      " [   429]\n",
      " [199119]\n",
      " [218010]\n",
      " [127797]\n",
      " [  2186]\n",
      " [141697]\n",
      " [202478]\n",
      " [ 20025]\n",
      " [ 90321]\n",
      " [   862]\n",
      " [  4396]\n",
      " [  5427]\n",
      " [  3902]\n",
      " [127774]\n",
      " [ 91226]\n",
      " [   997]\n",
      " [   828]\n",
      " [102745]\n",
      " [ 74707]\n",
      " [196849]\n",
      " [ 32589]\n",
      " [169674]\n",
      " [    35]\n",
      " [  4099]\n",
      " [227595]\n",
      " [115567]\n",
      " [123404]\n",
      " [198009]\n",
      " [104286]\n",
      " [105588]\n",
      " [244795]\n",
      " [141274]\n",
      " [ 71855]\n",
      " [  6888]\n",
      " [137626]\n",
      " [ 42036]\n",
      " [252564]\n",
      " [170484]\n",
      " [ 28670]\n",
      " [ 11129]\n",
      " [ 75342]\n",
      " [168798]\n",
      " [ 26892]\n",
      " [208014]\n",
      " [158860]\n",
      " [     5]\n",
      " [  1738]\n",
      " [186879]\n",
      " [ 14819]\n",
      " [250309]\n",
      " [ 21940]\n",
      " [ 48265]\n",
      " [108061]\n",
      " [165370]\n",
      " [197508]\n",
      " [ 19972]\n",
      " [152064]\n",
      " [  1125]\n",
      " [ 39228]\n",
      " [168602]\n",
      " [ 99329]\n",
      " [  2310]\n",
      " [  3146]\n",
      " [ 76592]\n",
      " [100496]\n",
      " [126747]\n",
      " [ 64697]\n",
      " [ 77520]\n",
      " [188509]\n",
      " [130227]\n",
      " [  5101]\n",
      " [ 48732]\n",
      " [    25]\n",
      " [ 24332]\n",
      " [248647]\n",
      " [ 89204]\n",
      " [194829]\n",
      " [ 20350]\n",
      " [121235]\n",
      " [  1706]\n",
      " [154701]\n",
      " [  1334]\n",
      " [143757]\n",
      " [ 43829]\n",
      " [104551]\n",
      " [ 68829]\n",
      " [163500]\n",
      " [103839]\n",
      " [ 45970]\n",
      " [ 47050]\n",
      " [  3735]\n",
      " [  4997]\n",
      " [ 75378]\n",
      " [176086]\n",
      " [ 77931]\n",
      " [  2388]\n",
      " [181207]\n",
      " [ 30949]\n",
      " [  9603]\n",
      " [238209]\n",
      " [ 57254]\n",
      " [ 50047]\n",
      " [    52]\n",
      " [ 15496]\n",
      " [ 42507]\n",
      " [202749]\n",
      " [  5703]\n",
      " [170148]\n",
      " [219510]\n",
      " [169971]\n",
      " [ 34489]\n",
      " [  9505]\n",
      " [107321]\n",
      " [241536]\n",
      " [ 67095]\n",
      " [119819]\n",
      " [ 14682]\n",
      " [   601]\n",
      " [185402]\n",
      " [ 22390]\n",
      " [162252]\n",
      " [251176]\n",
      " [228683]\n",
      " [  1284]\n",
      " [    33]\n",
      " [  4903]\n",
      " [204558]\n",
      " [ 48751]\n",
      " [   349]\n",
      " [    14]\n",
      " [  1212]\n",
      " [     3]\n",
      " [ 11239]\n",
      " [172536]\n",
      " [ 70793]\n",
      " [247899]\n",
      " [231377]\n",
      " [ 58008]\n",
      " [ 88855]\n",
      " [247855]\n",
      " [ 54214]\n",
      " [ 58941]\n",
      " [ 98259]\n",
      " [ 39286]\n",
      " [ 32592]\n",
      " [  1095]\n",
      " [213402]\n",
      " [230029]\n",
      " [201722]\n",
      " [152149]\n",
      " [ 65032]\n",
      " [164406]\n",
      " [ 19527]\n",
      " [  2165]\n",
      " [183527]\n",
      " [    45]\n",
      " [  4037]\n",
      " [184685]\n",
      " [168894]\n",
      " [162908]\n",
      " [  3654]\n",
      " [  3442]\n",
      " [  1206]\n",
      " [ 60723]\n",
      " [151648]\n",
      " [  3521]\n",
      " [  2588]\n",
      " [ 18330]\n",
      " [   705]\n",
      " [180428]\n",
      " [177873]\n",
      " [ 50256]\n",
      " [171600]\n",
      " [  3380]\n",
      " [166454]\n",
      " [206360]\n",
      " [105568]\n",
      " [ 14542]\n",
      " [    39]\n",
      " [ 12514]\n",
      " [148539]\n",
      " [245972]\n",
      " [ 59548]\n",
      " [134387]\n",
      " [ 27045]\n",
      " [173222]\n",
      " [215063]\n",
      " [103515]\n",
      " [142552]\n",
      " [139046]\n",
      " [ 42463]\n",
      " [160909]\n",
      " [196410]\n",
      " [  4077]\n",
      " [ 61653]\n",
      " [ 88489]\n",
      " [ 15154]\n",
      " [199096]\n",
      " [112617]\n",
      " [129339]\n",
      " [159261]\n",
      " [105715]\n",
      " [  1144]\n",
      " [107222]\n",
      " [234059]\n",
      " [  8462]\n",
      " [ 22757]\n",
      " [ 13166]\n",
      " [  4582]\n",
      " [147880]\n",
      " [  2882]\n",
      " [ 46955]\n",
      " [203068]\n",
      " [110052]\n",
      " [    24]\n",
      " [167088]\n",
      " [224766]\n",
      " [   109]\n",
      " [201418]\n",
      " [102582]\n",
      " [230596]\n",
      " [ 45753]]\n",
      "see loss:\n",
      "Tensor(shape=[1], dtype=float32, place=Place(cpu), stop_gradient=False,\n",
      "       [0.69314718])\n",
      "see loss after mean:\n",
      "Tensor(shape=[1], dtype=float32, place=Place(cpu), stop_gradient=False,\n",
      "       [0.69314718])\n"
     ]
    }
   ],
   "source": [
    "\n",
    "\n",
    "for context_words,target_words,label in build_batch(dataset,batch_size,epoch_num):\n",
    "    context_words_var=paddle.to_tensor(context_words)\n",
    "    target_words_var=paddle.to_tensor(target_words)\n",
    "    label_var=paddle.to_tensor(label)\n",
    "    \n",
    "#     print(f\"see target_words:\\n{target_words_var}\")\n",
    "    \n",
    "    pred,loss=skip_gram_model(context_words_var,target_words_var,label_var)\n",
    "    \n",
    "    loss.backward()\n",
    "    adam.minimize(loss)\n",
    "    skip_gram_model.clear_gradients()\n",
    "    \n",
    "    step+=1\n",
    "    if step%100==0:\n",
    "        print('step {step},loss {loss.numpy()[0]}')\n",
    "    \n",
    "    if step%2000==0:\n",
    "        embedding_matrix=skip_gram_model.embedding.weigth.numpy()\n",
    "        np.save('./embedding',embedding_matrix)\n",
    "        get_cos(\"king\",\"queen\",embedding_matrix)\n",
    "        get_cos('she','her',embedding_matrix)\n",
    "        get_cos('topic','theme',embedding_matrix)\n",
    "        get_cos('woman','game',embedding_matrix)\n",
    "        get_cos('one','name',embedding_matrix)"
   ]
  },
  {
   "cell_type": "code",
   "execution_count": null,
   "metadata": {},
   "outputs": [],
   "source": []
  },
  {
   "cell_type": "code",
   "execution_count": null,
   "metadata": {},
   "outputs": [],
   "source": []
  }
 ],
 "metadata": {
  "kernelspec": {
   "display_name": "Python 3",
   "language": "python",
   "name": "python3"
  },
  "language_info": {
   "codemirror_mode": {
    "name": "ipython",
    "version": 3
   },
   "file_extension": ".py",
   "mimetype": "text/x-python",
   "name": "python",
   "nbconvert_exporter": "python",
   "pygments_lexer": "ipython3",
   "version": "3.6.4"
  }
 },
 "nbformat": 4,
 "nbformat_minor": 4
}
