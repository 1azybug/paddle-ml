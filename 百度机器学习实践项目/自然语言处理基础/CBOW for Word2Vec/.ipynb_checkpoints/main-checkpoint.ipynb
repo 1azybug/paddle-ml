{
 "cells": [
  {
   "cell_type": "code",
   "execution_count": 1,
   "metadata": {
    "ExecuteTime": {
     "end_time": "2022-07-13T01:19:31.965254Z",
     "start_time": "2022-07-13T01:19:29.552793Z"
    },
    "execution": {
     "iopub.execute_input": "2022-07-13T00:22:52.854942Z",
     "iopub.status.busy": "2022-07-13T00:22:52.854500Z",
     "iopub.status.idle": "2022-07-13T00:22:52.859749Z",
     "shell.execute_reply": "2022-07-13T00:22:52.859023Z",
     "shell.execute_reply.started": "2022-07-13T00:22:52.854914Z"
    },
    "scrolled": true,
    "tags": []
   },
   "outputs": [],
   "source": [
    "import os\n",
    "import random\n",
    "import io \n",
    "import sys \n",
    "import requests\n",
    "from collections import OrderedDict \n",
    "import math \n",
    "import numpy as np \n",
    "import paddle"
   ]
  },
  {
   "cell_type": "code",
   "execution_count": 2,
   "metadata": {
    "ExecuteTime": {
     "end_time": "2022-07-13T01:37:56.140699Z",
     "start_time": "2022-07-13T01:37:56.127575Z"
    },
    "execution": {
     "iopub.execute_input": "2022-07-13T00:22:54.657723Z",
     "iopub.status.busy": "2022-07-13T00:22:54.656510Z",
     "iopub.status.idle": "2022-07-13T00:22:54.663526Z",
     "shell.execute_reply": "2022-07-13T00:22:54.662434Z",
     "shell.execute_reply.started": "2022-07-13T00:22:54.657678Z"
    },
    "scrolled": true,
    "tags": []
   },
   "outputs": [],
   "source": [
    "def download():\n",
    "    corpus_url='https://dataset.bj.bcebos.com/word2vec/text8.txt'\n",
    "    web_requests=requests.get(corpus_url)\n",
    "    corpus=web_requests.content\n",
    "    with open('./text8.txt','wb') as f:\n",
    "        f.write(corpus)\n",
    "        f.close()\n",
    "    "
   ]
  },
  {
   "cell_type": "code",
   "execution_count": 3,
   "metadata": {
    "ExecuteTime": {
     "end_time": "2022-07-13T01:38:21.787843Z",
     "start_time": "2022-07-13T01:37:56.796437Z"
    },
    "execution": {
     "iopub.execute_input": "2022-07-13T00:22:58.759093Z",
     "iopub.status.busy": "2022-07-13T00:22:58.758372Z",
     "iopub.status.idle": "2022-07-13T00:23:00.316451Z",
     "shell.execute_reply": "2022-07-13T00:23:00.315316Z",
     "shell.execute_reply.started": "2022-07-13T00:22:58.759063Z"
    },
    "scrolled": true,
    "tags": []
   },
   "outputs": [],
   "source": [
    "download()"
   ]
  },
  {
   "cell_type": "markdown",
   "metadata": {},
   "source": [
    "## 构造数据生成器"
   ]
  },
  {
   "cell_type": "markdown",
   "metadata": {},
   "source": [
    "#### 加载"
   ]
  },
  {
   "cell_type": "code",
   "execution_count": 4,
   "metadata": {
    "ExecuteTime": {
     "end_time": "2022-07-13T01:38:28.882985Z",
     "start_time": "2022-07-13T01:38:28.870233Z"
    },
    "execution": {
     "iopub.execute_input": "2022-07-13T00:23:35.182909Z",
     "iopub.status.busy": "2022-07-13T00:23:35.181675Z",
     "iopub.status.idle": "2022-07-13T00:23:35.186815Z",
     "shell.execute_reply": "2022-07-13T00:23:35.186115Z",
     "shell.execute_reply.started": "2022-07-13T00:23:35.182871Z"
    },
    "scrolled": true,
    "tags": []
   },
   "outputs": [],
   "source": [
    "def load_text8():\n",
    "    with open('./text8.txt') as f:\n",
    "        corpus=f.read().strip('\\n')\n",
    "        f.close()\n",
    "    return corpus"
   ]
  },
  {
   "cell_type": "code",
   "execution_count": 5,
   "metadata": {
    "ExecuteTime": {
     "end_time": "2022-07-13T01:38:30.317280Z",
     "start_time": "2022-07-13T01:38:29.859347Z"
    },
    "execution": {
     "iopub.execute_input": "2022-07-13T00:26:00.023242Z",
     "iopub.status.busy": "2022-07-13T00:26:00.022381Z",
     "iopub.status.idle": "2022-07-13T00:26:00.266629Z",
     "shell.execute_reply": "2022-07-13T00:26:00.265707Z",
     "shell.execute_reply.started": "2022-07-13T00:26:00.023195Z"
    },
    "scrolled": true,
    "tags": []
   },
   "outputs": [],
   "source": [
    "corpus=load_text8()"
   ]
  },
  {
   "cell_type": "code",
   "execution_count": 6,
   "metadata": {
    "ExecuteTime": {
     "end_time": "2022-07-13T01:38:30.908298Z",
     "start_time": "2022-07-13T01:38:30.889120Z"
    },
    "execution": {
     "iopub.execute_input": "2022-07-13T00:26:20.303995Z",
     "iopub.status.busy": "2022-07-13T00:26:20.303409Z",
     "iopub.status.idle": "2022-07-13T00:26:20.308748Z",
     "shell.execute_reply": "2022-07-13T00:26:20.308110Z",
     "shell.execute_reply.started": "2022-07-13T00:26:20.303963Z"
    },
    "scrolled": true,
    "tags": []
   },
   "outputs": [
    {
     "data": {
      "text/plain": [
       "' anarchism originated as a term of abuse first used against early working class radicals including the diggers of the english revolution and the sans culottes of the french revolution whilst the term is still used in a pejorative way to describe any act that used violent means to destroy the organization of society it has also been taken up as a positive label by self defined anarchists the word anarchism is derived from the greek without archons ruler chief king anarchism as a political philoso'"
      ]
     },
     "execution_count": 6,
     "metadata": {},
     "output_type": "execute_result"
    }
   ],
   "source": [
    "corpus[:500]"
   ]
  },
  {
   "cell_type": "markdown",
   "metadata": {},
   "source": [
    "#### 分词"
   ]
  },
  {
   "cell_type": "code",
   "execution_count": 7,
   "metadata": {
    "ExecuteTime": {
     "end_time": "2022-07-13T01:38:32.531250Z",
     "start_time": "2022-07-13T01:38:32.523228Z"
    },
    "execution": {
     "iopub.execute_input": "2022-07-13T00:28:56.224518Z",
     "iopub.status.busy": "2022-07-13T00:28:56.223661Z",
     "iopub.status.idle": "2022-07-13T00:28:56.228273Z",
     "shell.execute_reply": "2022-07-13T00:28:56.227503Z",
     "shell.execute_reply.started": "2022-07-13T00:28:56.224487Z"
    },
    "scrolled": true,
    "tags": []
   },
   "outputs": [],
   "source": [
    "def data_preprocess(corpus):\n",
    "    corpus=corpus.strip().lower()\n",
    "    corpus=corpus.split(' ')\n",
    "    return corpus"
   ]
  },
  {
   "cell_type": "code",
   "execution_count": 8,
   "metadata": {
    "ExecuteTime": {
     "end_time": "2022-07-13T01:38:34.427034Z",
     "start_time": "2022-07-13T01:38:33.670215Z"
    },
    "execution": {
     "iopub.execute_input": "2022-07-13T00:29:10.980110Z",
     "iopub.status.busy": "2022-07-13T00:29:10.979168Z",
     "iopub.status.idle": "2022-07-13T00:29:12.568513Z",
     "shell.execute_reply": "2022-07-13T00:29:12.567600Z",
     "shell.execute_reply.started": "2022-07-13T00:29:10.980079Z"
    },
    "scrolled": true,
    "tags": []
   },
   "outputs": [],
   "source": [
    "corpus=data_preprocess(corpus)"
   ]
  },
  {
   "cell_type": "code",
   "execution_count": 9,
   "metadata": {
    "ExecuteTime": {
     "end_time": "2022-07-13T01:38:44.104115Z",
     "start_time": "2022-07-13T01:38:44.089527Z"
    },
    "scrolled": false
   },
   "outputs": [
    {
     "data": {
      "text/plain": [
       "['anarchism',\n",
       " 'originated',\n",
       " 'as',\n",
       " 'a',\n",
       " 'term',\n",
       " 'of',\n",
       " 'abuse',\n",
       " 'first',\n",
       " 'used',\n",
       " 'against',\n",
       " 'early',\n",
       " 'working',\n",
       " 'class',\n",
       " 'radicals',\n",
       " 'including',\n",
       " 'the',\n",
       " 'diggers',\n",
       " 'of',\n",
       " 'the',\n",
       " 'english',\n",
       " 'revolution',\n",
       " 'and',\n",
       " 'the',\n",
       " 'sans',\n",
       " 'culottes',\n",
       " 'of',\n",
       " 'the',\n",
       " 'french',\n",
       " 'revolution',\n",
       " 'whilst',\n",
       " 'the',\n",
       " 'term',\n",
       " 'is',\n",
       " 'still',\n",
       " 'used',\n",
       " 'in',\n",
       " 'a',\n",
       " 'pejorative',\n",
       " 'way',\n",
       " 'to',\n",
       " 'describe',\n",
       " 'any',\n",
       " 'act',\n",
       " 'that',\n",
       " 'used',\n",
       " 'violent',\n",
       " 'means',\n",
       " 'to',\n",
       " 'destroy',\n",
       " 'the']"
      ]
     },
     "execution_count": 9,
     "metadata": {},
     "output_type": "execute_result"
    }
   ],
   "source": [
    "corpus[:50]"
   ]
  },
  {
   "cell_type": "markdown",
   "metadata": {},
   "source": [
    "#### 构造词典"
   ]
  },
  {
   "cell_type": "code",
   "execution_count": 14,
   "metadata": {
    "ExecuteTime": {
     "end_time": "2022-07-13T01:47:52.956583Z",
     "start_time": "2022-07-13T01:47:52.937896Z"
    }
   },
   "outputs": [],
   "source": [
    "def build_dict(corpus):\n",
    "    word_freq_dict={}\n",
    "    for word in corpus:\n",
    "        if word not in word_freq_dict:\n",
    "            word_freq_dict[word]=0\n",
    "        word_freq_dict[word]+=1\n",
    "    \n",
    "    word_freq_dict=sorted(word_freq_dict.items(),key=lambda x:x[1],reverse=True)\n",
    "    \n",
    "    word2id={}\n",
    "    id2freq={}\n",
    "    id2word={}\n",
    "    \n",
    "    for word,freq in word_freq_dict:\n",
    "        ind=len(word2id)\n",
    "        word2id[word]=ind\n",
    "        id2freq[ind]=freq\n",
    "        id2word[ind]=word\n",
    "    \n",
    "    return id2freq,word2id,id2word"
   ]
  },
  {
   "cell_type": "code",
   "execution_count": 15,
   "metadata": {
    "ExecuteTime": {
     "end_time": "2022-07-13T01:47:56.023705Z",
     "start_time": "2022-07-13T01:47:53.434577Z"
    }
   },
   "outputs": [],
   "source": [
    "id2freq,word2id,id2word=build_dict(corpus)"
   ]
  },
  {
   "cell_type": "code",
   "execution_count": 16,
   "metadata": {
    "ExecuteTime": {
     "end_time": "2022-07-13T01:48:35.628914Z",
     "start_time": "2022-07-13T01:48:35.623375Z"
    }
   },
   "outputs": [],
   "source": [
    "vocab_size=len(id2freq)"
   ]
  },
  {
   "cell_type": "code",
   "execution_count": 17,
   "metadata": {
    "ExecuteTime": {
     "end_time": "2022-07-13T01:48:55.856846Z",
     "start_time": "2022-07-13T01:48:55.838548Z"
    }
   },
   "outputs": [
    {
     "data": {
      "text/plain": [
       "253854"
      ]
     },
     "execution_count": 17,
     "metadata": {},
     "output_type": "execute_result"
    }
   ],
   "source": [
    "vocab_size"
   ]
  },
  {
   "cell_type": "code",
   "execution_count": 19,
   "metadata": {
    "ExecuteTime": {
     "end_time": "2022-07-13T01:51:42.152753Z",
     "start_time": "2022-07-13T01:51:42.141284Z"
    }
   },
   "outputs": [
    {
     "name": "stdout",
     "output_type": "stream",
     "text": [
      "word:the,its id:0,its freq:1061396\n",
      "word:of,its id:1,its freq:593677\n",
      "word:and,its id:2,its freq:416629\n",
      "word:one,its id:3,its freq:411764\n",
      "word:in,its id:4,its freq:372201\n",
      "word:a,its id:5,its freq:325873\n",
      "word:to,its id:6,its freq:316376\n",
      "word:zero,its id:7,its freq:264975\n"
     ]
    }
   ],
   "source": [
    "for _,(word,word_id) in zip(range(8),word2id.items()):\n",
    "    print(f'word:{word},its id:{word_id},its freq:{id2freq[word_id]}')"
   ]
  },
  {
   "cell_type": "markdown",
   "metadata": {},
   "source": [
    "#### 转化为id序列"
   ]
  },
  {
   "cell_type": "code",
   "execution_count": 20,
   "metadata": {
    "ExecuteTime": {
     "end_time": "2022-07-13T01:56:40.145652Z",
     "start_time": "2022-07-13T01:56:38.732929Z"
    }
   },
   "outputs": [],
   "source": [
    "corpus=[word2id[word] for word in corpus]"
   ]
  },
  {
   "cell_type": "code",
   "execution_count": 22,
   "metadata": {
    "ExecuteTime": {
     "end_time": "2022-07-13T01:57:06.643573Z",
     "start_time": "2022-07-13T01:57:06.625868Z"
    }
   },
   "outputs": [
    {
     "data": {
      "text/plain": [
       "[5233, 3080, 11, 5, 194, 1, 3133, 45]"
      ]
     },
     "execution_count": 22,
     "metadata": {},
     "output_type": "execute_result"
    }
   ],
   "source": [
    "corpus[:8]"
   ]
  },
  {
   "cell_type": "markdown",
   "metadata": {},
   "source": [
    "#### 二次采样法"
   ]
  },
  {
   "cell_type": "code",
   "execution_count": 25,
   "metadata": {
    "ExecuteTime": {
     "end_time": "2022-07-13T02:05:55.291186Z",
     "start_time": "2022-07-13T02:05:55.281069Z"
    }
   },
   "outputs": [],
   "source": [
    "def subsampling(corpus,id2freq):\n",
    "    \n",
    "    def discard(word_id):\n",
    "        q=1-math.sqrt(1e-4/id2freq[word_id]*len(corpus))\n",
    "        return random.uniform(0,1)<q\n",
    "    corpus=[word for word in corpus if not discard(word)]\n",
    "    return corpus"
   ]
  },
  {
   "cell_type": "code",
   "execution_count": 26,
   "metadata": {
    "ExecuteTime": {
     "end_time": "2022-07-13T02:06:06.923562Z",
     "start_time": "2022-07-13T02:05:55.788577Z"
    }
   },
   "outputs": [
    {
     "name": "stdout",
     "output_type": "stream",
     "text": [
      "8746427\n",
      "[5233, 3080, 11, 194, 3133, 45, 741, 476]\n"
     ]
    }
   ],
   "source": [
    "corpus=subsampling(corpus,id2freq)\n",
    "print(len(corpus))\n",
    "print(corpus[:8])"
   ]
  },
  {
   "cell_type": "markdown",
   "metadata": {},
   "source": [
    "#### 构造数据集"
   ]
  },
  {
   "cell_type": "code",
   "execution_count": 35,
   "metadata": {
    "ExecuteTime": {
     "end_time": "2022-07-13T02:35:18.182936Z",
     "start_time": "2022-07-13T02:35:18.145088Z"
    }
   },
   "outputs": [],
   "source": [
    "def build_data(corpus,word2id,id2freq,max_window_size=3,negative_sample_num=4):\n",
    "    dataset=[]\n",
    "    center_word_idx=0\n",
    "    \n",
    "    while center_word_idx<len(corpus):\n",
    "        window_size=random.randint(1,max_window_size)\n",
    "        positive_word=corpus[center_word_idx]\n",
    "        \n",
    "        context_word_range=(max(0,center_word_idx-window_size),min(len(corpus)-1,center_word_idx+window_size))\n",
    "        context_word_candidates=[corpus[idx] for idx in range(context_word_range[0],context_word_range[1]+1) if idx!=center_word_idx]\n",
    "        \n",
    "        for context_word in context_word_candidates:\n",
    "            dataset.append((context_word,positive_word,1))\n",
    "            i=0\n",
    "            while i<negative_sample_num:\n",
    "                negative_word_candidate=random.randint(0,vocab_size-1)\n",
    "                if negative_word_candidate is not positive_word:\n",
    "                    dataset.append((context_word,negative_word_candidate,0))\n",
    "                    i+=1\n",
    "        \n",
    "        center_word_idx=min(len(corpus)-1,center_word_idx+window_size)\n",
    "        if center_word_idx==(len(corpus)-1):\n",
    "            center_word_idx+=1\n",
    "        if(center_word_idx%100000==0):\n",
    "            print(center_word_idx)\n",
    "    return dataset\n",
    "    "
   ]
  },
  {
   "cell_type": "code",
   "execution_count": 36,
   "metadata": {
    "ExecuteTime": {
     "end_time": "2022-07-13T02:36:58.272681Z",
     "start_time": "2022-07-13T02:35:18.728521Z"
    }
   },
   "outputs": [
    {
     "name": "stdout",
     "output_type": "stream",
     "text": [
      "100000\n",
      "200000\n",
      "300000\n",
      "500000\n",
      "800000\n",
      "900000\n",
      "1000000\n",
      "1400000\n",
      "1500000\n",
      "1700000\n",
      "1800000\n",
      "2000000\n",
      "2100000\n",
      "2500000\n",
      "2900000\n",
      "3000000\n",
      "3200000\n",
      "3300000\n",
      "3500000\n",
      "3600000\n",
      "3700000\n",
      "3800000\n",
      "3900000\n",
      "4000000\n",
      "4300000\n",
      "4600000\n",
      "4700000\n",
      "4900000\n",
      "5300000\n",
      "5400000\n",
      "5600000\n",
      "5700000\n",
      "5800000\n",
      "6000000\n",
      "6100000\n",
      "6300000\n",
      "6500000\n",
      "6600000\n",
      "7200000\n",
      "7600000\n",
      "7900000\n",
      "8300000\n",
      "8500000\n",
      "8700000\n"
     ]
    }
   ],
   "source": [
    "dataset=build_data(corpus,word2id,id2freq)"
   ]
  },
  {
   "cell_type": "code",
   "execution_count": 41,
   "metadata": {
    "ExecuteTime": {
     "end_time": "2022-07-13T02:39:43.035294Z",
     "start_time": "2022-07-13T02:39:43.021289Z"
    }
   },
   "outputs": [
    {
     "name": "stdout",
     "output_type": "stream",
     "text": [
      "(3080, 5233, 1)\n",
      "(3080, 93481, 0)\n",
      "(3080, 251932, 0)\n",
      "(3080, 152457, 0)\n",
      "(3080, 118978, 0)\n",
      "(5233, 3080, 1)\n",
      "(5233, 60671, 0)\n",
      "(5233, 212551, 0)\n",
      "(5233, 66086, 0)\n",
      "(5233, 57383, 0)\n",
      "(11, 3080, 1)\n"
     ]
    }
   ],
   "source": [
    "for _,data in zip(range(11),dataset):\n",
    "    print(data)"
   ]
  },
  {
   "cell_type": "markdown",
   "metadata": {},
   "source": [
    "#### 构造数据生成器"
   ]
  },
  {
   "cell_type": "code",
   "execution_count": 42,
   "metadata": {
    "ExecuteTime": {
     "end_time": "2022-07-13T02:54:11.885098Z",
     "start_time": "2022-07-13T02:54:11.849712Z"
    }
   },
   "outputs": [],
   "source": [
    "def build_batch(dataset,batch_size,epoch_num):\n",
    "    context_word_batch=[]\n",
    "    target_word_batch=[]\n",
    "    label_batch=[]\n",
    "    \n",
    "    for epoch in range(epoch_num):\n",
    "        random.shuffle(dataset)\n",
    "        for context_word,target_word,label in dataset:\n",
    "            context_word_batch.append([context_word])\n",
    "            target_word_batch.append([target_word])\n",
    "            label_batch.append(label)\n",
    "            \n",
    "            if len(context_word_batch)==batch_size:\n",
    "                yield np.array(context_word_batch).astype('int64'),\\\n",
    "                    np.array(target_word_batch).astype('int64'),\\\n",
    "                    np.array(label_batch).astype('float32')\n",
    "        \n",
    "        if len(context_word_batch)>0:\n",
    "            yield np.array(context_word_batch).astype('int64'),\\\n",
    "                np.array(target_word_batch).astype('int64'),\\\n",
    "                np.array(label_batch).astype('float32')\n",
    "            "
   ]
  },
  {
   "cell_type": "markdown",
   "metadata": {},
   "source": [
    "## 模型配置"
   ]
  },
  {
   "cell_type": "code",
   "execution_count": null,
   "metadata": {},
   "outputs": [],
   "source": [
    "class CBOW(paddle.nn.Layer)"
   ]
  }
 ],
 "metadata": {
  "kernelspec": {
   "display_name": "Python 3",
   "language": "python",
   "name": "python3"
  },
  "language_info": {
   "codemirror_mode": {
    "name": "ipython",
    "version": 3
   },
   "file_extension": ".py",
   "mimetype": "text/x-python",
   "name": "python",
   "nbconvert_exporter": "python",
   "pygments_lexer": "ipython3",
   "version": "3.6.4"
  }
 },
 "nbformat": 4,
 "nbformat_minor": 4
}
