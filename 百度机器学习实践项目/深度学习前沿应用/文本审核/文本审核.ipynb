{
 "cells": [
  {
   "cell_type": "code",
   "execution_count": 1,
   "metadata": {
    "execution": {
     "iopub.execute_input": "2022-07-23T03:15:18.665101Z",
     "iopub.status.busy": "2022-07-23T03:15:18.664803Z",
     "iopub.status.idle": "2022-07-23T03:15:21.185950Z",
     "shell.execute_reply": "2022-07-23T03:15:21.184449Z",
     "shell.execute_reply.started": "2022-07-23T03:15:18.665066Z"
    },
    "scrolled": true,
    "tags": []
   },
   "outputs": [
    {
     "name": "stderr",
     "output_type": "stream",
     "text": [
      "/opt/conda/envs/python35-paddle120-env/lib/python3.7/site-packages/matplotlib/__init__.py:107: DeprecationWarning: Using or importing the ABCs from 'collections' instead of from 'collections.abc' is deprecated, and in 3.8 it will stop working\n",
      "  from collections import MutableMapping\n",
      "/opt/conda/envs/python35-paddle120-env/lib/python3.7/site-packages/matplotlib/rcsetup.py:20: DeprecationWarning: Using or importing the ABCs from 'collections' instead of from 'collections.abc' is deprecated, and in 3.8 it will stop working\n",
      "  from collections import Iterable, Mapping\n",
      "/opt/conda/envs/python35-paddle120-env/lib/python3.7/site-packages/matplotlib/colors.py:53: DeprecationWarning: Using or importing the ABCs from 'collections' instead of from 'collections.abc' is deprecated, and in 3.8 it will stop working\n",
      "  from collections import Sized\n"
     ]
    }
   ],
   "source": [
    "import paddlehub as hub"
   ]
  },
  {
   "cell_type": "code",
   "execution_count": 5,
   "metadata": {
    "execution": {
     "iopub.execute_input": "2022-07-23T03:16:10.427412Z",
     "iopub.status.busy": "2022-07-23T03:16:10.426773Z",
     "iopub.status.idle": "2022-07-23T03:16:10.432649Z",
     "shell.execute_reply": "2022-07-23T03:16:10.431724Z",
     "shell.execute_reply.started": "2022-07-23T03:16:10.427366Z"
    },
    "scrolled": true,
    "tags": []
   },
   "outputs": [],
   "source": [
    "def pred(test_text,model_name,batch_size,use_gpu):\n",
    "    dic={\"text\":test_text}\n",
    "    model=hub.Module(name=model_name)\n",
    "    return model.detection(data=dic,use_gpu=use_gpu,batch_size=batch_size)"
   ]
  },
  {
   "cell_type": "code",
   "execution_count": 6,
   "metadata": {
    "execution": {
     "iopub.execute_input": "2022-07-23T03:16:10.871266Z",
     "iopub.status.busy": "2022-07-23T03:16:10.870246Z",
     "iopub.status.idle": "2022-07-23T03:16:10.874965Z",
     "shell.execute_reply": "2022-07-23T03:16:10.874244Z",
     "shell.execute_reply.started": "2022-07-23T03:16:10.871208Z"
    },
    "scrolled": true,
    "tags": []
   },
   "outputs": [],
   "source": [
    "text=['打击色情犯罪,是每一个人的责任','引导未成年人远离黄赌毒']\n",
    "batch_size=2\n",
    "use_gpu=False"
   ]
  },
  {
   "cell_type": "code",
   "execution_count": 10,
   "metadata": {
    "execution": {
     "iopub.execute_input": "2022-07-23T03:16:53.136286Z",
     "iopub.status.busy": "2022-07-23T03:16:53.135566Z",
     "iopub.status.idle": "2022-07-23T03:16:54.944134Z",
     "shell.execute_reply": "2022-07-23T03:16:54.942938Z",
     "shell.execute_reply.started": "2022-07-23T03:16:53.136239Z"
    },
    "scrolled": true,
    "tags": []
   },
   "outputs": [
    {
     "name": "stderr",
     "output_type": "stream",
     "text": [
      "[2022-07-23 11:16:53,210] [ WARNING] - The _initialize method in HubModule will soon be deprecated, you can use the __init__() to handle the initialization of the object\n",
      "[2022-07-23 11:16:53,380] [ WARNING] - The _initialize method in HubModule will soon be deprecated, you can use the __init__() to handle the initialization of the object\n"
     ]
    },
    {
     "name": "stdout",
     "output_type": "stream",
     "text": [
      "Download https://bj.bcebos.com/paddlehub/paddlehub_dev/porn_detection_cnn_1.1.0.tar.gz\n",
      "[##################################################] 100.00%\n",
      "Decompress /home/aistudio/.paddlehub/tmp/tmpul2pj4oy/porn_detection_cnn_1.1.0.tar.gz\n",
      "[##################################################] 100.00%\n"
     ]
    },
    {
     "name": "stderr",
     "output_type": "stream",
     "text": [
      "[2022-07-23 11:16:54,846] [    INFO] - Successfully installed porn_detection_cnn-1.1.0\n",
      "[2022-07-23 11:16:54,861] [ WARNING] - The _initialize method in HubModule will soon be deprecated, you can use the __init__() to handle the initialization of the object\n"
     ]
    }
   ],
   "source": [
    "lstm=pred(text,'porn_detection_lstm',batch_size,use_gpu)\n",
    "gru=pred(text,'porn_detection_gru',batch_size,use_gpu)\n",
    "cnn=pred(text,'porn_detction_cnn',batch_size,use_gpu)"
   ]
  },
  {
   "cell_type": "code",
   "execution_count": 11,
   "metadata": {
    "execution": {
     "iopub.execute_input": "2022-07-23T03:17:07.341766Z",
     "iopub.status.busy": "2022-07-23T03:17:07.341081Z",
     "iopub.status.idle": "2022-07-23T03:17:07.346634Z",
     "shell.execute_reply": "2022-07-23T03:17:07.345930Z",
     "shell.execute_reply.started": "2022-07-23T03:17:07.341726Z"
    },
    "scrolled": true,
    "tags": []
   },
   "outputs": [],
   "source": [
    "def pt(dic,pre=\"LSTM\"):\n",
    "    print(\"{:-^s}\".format(\"Porn detection with {}\".format(pre)))\n",
    "    for line in dic:\n",
    "        for k,v in line.items():\n",
    "            print(\"{:20s}:{}\".format(k,v))"
   ]
  },
  {
   "cell_type": "code",
   "execution_count": 12,
   "metadata": {
    "execution": {
     "iopub.execute_input": "2022-07-23T03:17:36.031289Z",
     "iopub.status.busy": "2022-07-23T03:17:36.030493Z",
     "iopub.status.idle": "2022-07-23T03:17:36.074978Z",
     "shell.execute_reply": "2022-07-23T03:17:36.074079Z",
     "shell.execute_reply.started": "2022-07-23T03:17:36.031250Z"
    },
    "scrolled": true
   },
   "outputs": [
    {
     "name": "stdout",
     "output_type": "stream",
     "text": [
      "Porn detection with LSTM\n",
      "text                :打击色情犯罪,是每一个人的责任\n",
      "porn_detection_label:1\n",
      "porn_detection_key  :porn\n",
      "porn_probs          :0.8435\n",
      "not_porn_probs      :0.1565\n",
      "text                :引导未成年人远离黄赌毒\n",
      "porn_detection_label:0\n",
      "porn_detection_key  :not_porn\n",
      "porn_probs          :0.0003\n",
      "not_porn_probs      :0.9997\n",
      "Porn detection with GRU\n",
      "text                :打击色情犯罪,是每一个人的责任\n",
      "porn_detection_label:1\n",
      "porn_detection_key  :porn\n",
      "porn_probs          :0.8213\n",
      "not_porn_probs      :0.1787\n",
      "text                :引导未成年人远离黄赌毒\n",
      "porn_detection_label:0\n",
      "porn_detection_key  :not_porn\n",
      "porn_probs          :0.0002\n",
      "not_porn_probs      :0.9998\n",
      "Porn detection with CNN\n",
      "text                :打击色情犯罪,是每一个人的责任\n",
      "porn_detection_label:1\n",
      "porn_detection_key  :porn\n",
      "porn_probs          :0.7835\n",
      "not_porn_probs      :0.2165\n",
      "text                :引导未成年人远离黄赌毒\n",
      "porn_detection_label:0\n",
      "porn_detection_key  :not_porn\n",
      "porn_probs          :0.0002\n",
      "not_porn_probs      :0.9998\n"
     ]
    }
   ],
   "source": [
    "pt(lstm)\r\n",
    "pt(gru,\"GRU\")\r\n",
    "pt(cnn,\"CNN\")"
   ]
  },
  {
   "cell_type": "code",
   "execution_count": 16,
   "metadata": {
    "execution": {
     "iopub.execute_input": "2022-07-23T03:25:02.496529Z",
     "iopub.status.busy": "2022-07-23T03:25:02.495374Z",
     "iopub.status.idle": "2022-07-23T03:25:02.507194Z",
     "shell.execute_reply": "2022-07-23T03:25:02.506434Z",
     "shell.execute_reply.started": "2022-07-23T03:25:02.496495Z"
    },
    "scrolled": true,
    "tags": []
   },
   "outputs": [
    {
     "name": "stdout",
     "output_type": "stream",
     "text": [
      "文本内容:打击色情犯罪,是每一个人的责任\n",
      "label:3, porn_prob:0.8161, not_porn_prob:0.1839\n",
      "文本内容:引导未成年人远离黄赌毒\n",
      "label:0, porn_prob:0.0002, not_porn_prob:0.9998\n"
     ]
    }
   ],
   "source": [
    "for index,t in enumerate(text):\r\n",
    "    print(\"文本内容:{}\".format(t))\r\n",
    "    porn_prob=(lstm[index]['porn_probs']+gru[index]['porn_probs']+cnn[index]['porn_probs'])/3.0\r\n",
    "    not_porn_prob=(lstm[index]['not_porn_probs']+gru[index]['not_porn_probs']+cnn[index]['not_porn_probs'])/3.0\r\n",
    "    label=(lstm[index]['porn_detection_label']+gru[index]['porn_detection_label']+cnn[index]['porn_detection_label'])\r\n",
    "    print(\"label:{:}, porn_prob:{:.4f}, not_porn_prob:{:.4f}\".format(label,porn_prob,not_porn_prob))"
   ]
  },
  {
   "cell_type": "code",
   "execution_count": null,
   "metadata": {
    "scrolled": true
   },
   "outputs": [],
   "source": []
  }
 ],
 "metadata": {
  "kernelspec": {
   "display_name": "Python 3",
   "language": "python",
   "name": "py35-paddle1.2.0"
  },
  "language_info": {
   "codemirror_mode": {
    "name": "ipython",
    "version": 3
   },
   "file_extension": ".py",
   "mimetype": "text/x-python",
   "name": "python",
   "nbconvert_exporter": "python",
   "pygments_lexer": "ipython3",
   "version": "3.7.4"
  }
 },
 "nbformat": 4,
 "nbformat_minor": 4
}
