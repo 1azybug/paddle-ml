{
 "cells": [
  {
   "cell_type": "code",
   "execution_count": 1,
   "metadata": {
    "execution": {
     "iopub.execute_input": "2022-07-11T23:39:50.487400Z",
     "iopub.status.busy": "2022-07-11T23:39:50.487011Z",
     "iopub.status.idle": "2022-07-11T23:39:52.081799Z",
     "shell.execute_reply": "2022-07-11T23:39:52.080576Z",
     "shell.execute_reply.started": "2022-07-11T23:39:50.487308Z"
    },
    "scrolled": true,
    "tags": []
   },
   "outputs": [],
   "source": [
    "import paddle"
   ]
  },
  {
   "cell_type": "code",
   "execution_count": 2,
   "metadata": {
    "execution": {
     "iopub.execute_input": "2022-07-11T23:39:52.084135Z",
     "iopub.status.busy": "2022-07-11T23:39:52.083465Z",
     "iopub.status.idle": "2022-07-11T23:40:41.479451Z",
     "shell.execute_reply": "2022-07-11T23:40:41.478274Z",
     "shell.execute_reply.started": "2022-07-11T23:39:52.084102Z"
    },
    "scrolled": true,
    "tags": []
   },
   "outputs": [
    {
     "name": "stdout",
     "output_type": "stream",
     "text": [
      "item    63/41626 [..............................] - ETA: 1:09 - 2ms/item"
     ]
    },
    {
     "name": "stderr",
     "output_type": "stream",
     "text": [
      "Cache file /home/aistudio/.cache/paddle/dataset/cifar/cifar-10-python.tar.gz not found, downloading https://dataset.bj.bcebos.com/cifar/cifar-10-python.tar.gz \n",
      "Begin to download\n"
     ]
    },
    {
     "name": "stdout",
     "output_type": "stream",
     "text": [
      "item 40501/41626 [============================>.] - ETA: 1s - 988us/item"
     ]
    }
   ],
   "source": [
    "train_dataset=paddle.vision.datasets.Cifar10(mode='train',transform=paddle.vision.transforms.ToTensor())\n",
    "eval_dataset=paddle.vision.datasets.Cifar10(mode='test',transform=paddle.vision.transforms.ToTensor())"
   ]
  },
  {
   "cell_type": "code",
   "execution_count": 3,
   "metadata": {
    "execution": {
     "iopub.execute_input": "2022-07-11T23:40:41.483013Z",
     "iopub.status.busy": "2022-07-11T23:40:41.482581Z",
     "iopub.status.idle": "2022-07-11T23:40:46.058390Z",
     "shell.execute_reply": "2022-07-11T23:40:46.057572Z",
     "shell.execute_reply.started": "2022-07-11T23:40:41.482978Z"
    },
    "scrolled": true
   },
   "outputs": [
    {
     "name": "stderr",
     "output_type": "stream",
     "text": [
      "W0712 07:40:41.486248   228 gpu_context.cc:278] Please NOTE: device: 0, GPU Compute Capability: 7.0, Driver API Version: 11.2, Runtime API Version: 10.1\n",
      "W0712 07:40:41.490330   228 gpu_context.cc:306] device: 0, cuDNN Version: 7.6.\n"
     ]
    },
    {
     "name": "stdout",
     "output_type": "stream",
     "text": [
      "-------------------------------------------------------------------------------\n",
      "   Layer (type)         Input Shape          Output Shape         Param #    \n",
      "===============================================================================\n",
      "     Conv2D-1         [[1, 3, 32, 32]]     [1, 64, 16, 16]         9,408     \n",
      "   BatchNorm2D-1     [[1, 64, 16, 16]]     [1, 64, 16, 16]          256      \n",
      "      ReLU-1         [[1, 64, 16, 16]]     [1, 64, 16, 16]           0       \n",
      "    MaxPool2D-1      [[1, 64, 16, 16]]      [1, 64, 8, 8]            0       \n",
      "     Conv2D-3         [[1, 64, 8, 8]]       [1, 64, 8, 8]          4,096     \n",
      "   BatchNorm2D-3      [[1, 64, 8, 8]]       [1, 64, 8, 8]           256      \n",
      "      ReLU-2          [[1, 256, 8, 8]]      [1, 256, 8, 8]           0       \n",
      "     Conv2D-4         [[1, 64, 8, 8]]       [1, 64, 8, 8]         36,864     \n",
      "   BatchNorm2D-4      [[1, 64, 8, 8]]       [1, 64, 8, 8]           256      \n",
      "     Conv2D-5         [[1, 64, 8, 8]]       [1, 256, 8, 8]        16,384     \n",
      "   BatchNorm2D-5      [[1, 256, 8, 8]]      [1, 256, 8, 8]         1,024     \n",
      "     Conv2D-2         [[1, 64, 8, 8]]       [1, 256, 8, 8]        16,384     \n",
      "   BatchNorm2D-2      [[1, 256, 8, 8]]      [1, 256, 8, 8]         1,024     \n",
      " BottleneckBlock-1    [[1, 64, 8, 8]]       [1, 256, 8, 8]           0       \n",
      "     Conv2D-6         [[1, 256, 8, 8]]      [1, 64, 8, 8]         16,384     \n",
      "   BatchNorm2D-6      [[1, 64, 8, 8]]       [1, 64, 8, 8]           256      \n",
      "      ReLU-3          [[1, 256, 8, 8]]      [1, 256, 8, 8]           0       \n",
      "     Conv2D-7         [[1, 64, 8, 8]]       [1, 64, 8, 8]         36,864     \n",
      "   BatchNorm2D-7      [[1, 64, 8, 8]]       [1, 64, 8, 8]           256      \n",
      "     Conv2D-8         [[1, 64, 8, 8]]       [1, 256, 8, 8]        16,384     \n",
      "   BatchNorm2D-8      [[1, 256, 8, 8]]      [1, 256, 8, 8]         1,024     \n",
      " BottleneckBlock-2    [[1, 256, 8, 8]]      [1, 256, 8, 8]           0       \n",
      "     Conv2D-9         [[1, 256, 8, 8]]      [1, 64, 8, 8]         16,384     \n",
      "   BatchNorm2D-9      [[1, 64, 8, 8]]       [1, 64, 8, 8]           256      \n",
      "      ReLU-4          [[1, 256, 8, 8]]      [1, 256, 8, 8]           0       \n",
      "     Conv2D-10        [[1, 64, 8, 8]]       [1, 64, 8, 8]         36,864     \n",
      "  BatchNorm2D-10      [[1, 64, 8, 8]]       [1, 64, 8, 8]           256      \n",
      "     Conv2D-11        [[1, 64, 8, 8]]       [1, 256, 8, 8]        16,384     \n",
      "  BatchNorm2D-11      [[1, 256, 8, 8]]      [1, 256, 8, 8]         1,024     \n",
      " BottleneckBlock-3    [[1, 256, 8, 8]]      [1, 256, 8, 8]           0       \n",
      "     Conv2D-13        [[1, 256, 8, 8]]      [1, 128, 8, 8]        32,768     \n",
      "  BatchNorm2D-13      [[1, 128, 8, 8]]      [1, 128, 8, 8]          512      \n",
      "      ReLU-5          [[1, 512, 4, 4]]      [1, 512, 4, 4]           0       \n",
      "     Conv2D-14        [[1, 128, 8, 8]]      [1, 128, 4, 4]        147,456    \n",
      "  BatchNorm2D-14      [[1, 128, 4, 4]]      [1, 128, 4, 4]          512      \n",
      "     Conv2D-15        [[1, 128, 4, 4]]      [1, 512, 4, 4]        65,536     \n",
      "  BatchNorm2D-15      [[1, 512, 4, 4]]      [1, 512, 4, 4]         2,048     \n",
      "     Conv2D-12        [[1, 256, 8, 8]]      [1, 512, 4, 4]        131,072    \n",
      "  BatchNorm2D-12      [[1, 512, 4, 4]]      [1, 512, 4, 4]         2,048     \n",
      " BottleneckBlock-4    [[1, 256, 8, 8]]      [1, 512, 4, 4]           0       \n",
      "     Conv2D-16        [[1, 512, 4, 4]]      [1, 128, 4, 4]        65,536     \n",
      "  BatchNorm2D-16      [[1, 128, 4, 4]]      [1, 128, 4, 4]          512      \n",
      "      ReLU-6          [[1, 512, 4, 4]]      [1, 512, 4, 4]           0       \n",
      "     Conv2D-17        [[1, 128, 4, 4]]      [1, 128, 4, 4]        147,456    \n",
      "  BatchNorm2D-17      [[1, 128, 4, 4]]      [1, 128, 4, 4]          512      \n",
      "     Conv2D-18        [[1, 128, 4, 4]]      [1, 512, 4, 4]        65,536     \n",
      "  BatchNorm2D-18      [[1, 512, 4, 4]]      [1, 512, 4, 4]         2,048     \n",
      " BottleneckBlock-5    [[1, 512, 4, 4]]      [1, 512, 4, 4]           0       \n",
      "     Conv2D-19        [[1, 512, 4, 4]]      [1, 128, 4, 4]        65,536     \n",
      "  BatchNorm2D-19      [[1, 128, 4, 4]]      [1, 128, 4, 4]          512      \n",
      "      ReLU-7          [[1, 512, 4, 4]]      [1, 512, 4, 4]           0       \n",
      "     Conv2D-20        [[1, 128, 4, 4]]      [1, 128, 4, 4]        147,456    \n",
      "  BatchNorm2D-20      [[1, 128, 4, 4]]      [1, 128, 4, 4]          512      \n",
      "     Conv2D-21        [[1, 128, 4, 4]]      [1, 512, 4, 4]        65,536     \n",
      "  BatchNorm2D-21      [[1, 512, 4, 4]]      [1, 512, 4, 4]         2,048     \n",
      " BottleneckBlock-6    [[1, 512, 4, 4]]      [1, 512, 4, 4]           0       \n",
      "     Conv2D-22        [[1, 512, 4, 4]]      [1, 128, 4, 4]        65,536     \n",
      "  BatchNorm2D-22      [[1, 128, 4, 4]]      [1, 128, 4, 4]          512      \n",
      "      ReLU-8          [[1, 512, 4, 4]]      [1, 512, 4, 4]           0       \n",
      "     Conv2D-23        [[1, 128, 4, 4]]      [1, 128, 4, 4]        147,456    \n",
      "  BatchNorm2D-23      [[1, 128, 4, 4]]      [1, 128, 4, 4]          512      \n",
      "     Conv2D-24        [[1, 128, 4, 4]]      [1, 512, 4, 4]        65,536     \n",
      "  BatchNorm2D-24      [[1, 512, 4, 4]]      [1, 512, 4, 4]         2,048     \n",
      " BottleneckBlock-7    [[1, 512, 4, 4]]      [1, 512, 4, 4]           0       \n",
      "     Conv2D-26        [[1, 512, 4, 4]]      [1, 256, 4, 4]        131,072    \n",
      "  BatchNorm2D-26      [[1, 256, 4, 4]]      [1, 256, 4, 4]         1,024     \n",
      "      ReLU-9         [[1, 1024, 2, 2]]     [1, 1024, 2, 2]           0       \n",
      "     Conv2D-27        [[1, 256, 4, 4]]      [1, 256, 2, 2]        589,824    \n",
      "  BatchNorm2D-27      [[1, 256, 2, 2]]      [1, 256, 2, 2]         1,024     \n",
      "     Conv2D-28        [[1, 256, 2, 2]]     [1, 1024, 2, 2]        262,144    \n",
      "  BatchNorm2D-28     [[1, 1024, 2, 2]]     [1, 1024, 2, 2]         4,096     \n",
      "     Conv2D-25        [[1, 512, 4, 4]]     [1, 1024, 2, 2]        524,288    \n",
      "  BatchNorm2D-25     [[1, 1024, 2, 2]]     [1, 1024, 2, 2]         4,096     \n",
      " BottleneckBlock-8    [[1, 512, 4, 4]]     [1, 1024, 2, 2]           0       \n",
      "     Conv2D-29       [[1, 1024, 2, 2]]      [1, 256, 2, 2]        262,144    \n",
      "  BatchNorm2D-29      [[1, 256, 2, 2]]      [1, 256, 2, 2]         1,024     \n",
      "      ReLU-10        [[1, 1024, 2, 2]]     [1, 1024, 2, 2]           0       \n",
      "     Conv2D-30        [[1, 256, 2, 2]]      [1, 256, 2, 2]        589,824    \n",
      "  BatchNorm2D-30      [[1, 256, 2, 2]]      [1, 256, 2, 2]         1,024     \n",
      "     Conv2D-31        [[1, 256, 2, 2]]     [1, 1024, 2, 2]        262,144    \n",
      "  BatchNorm2D-31     [[1, 1024, 2, 2]]     [1, 1024, 2, 2]         4,096     \n",
      " BottleneckBlock-9   [[1, 1024, 2, 2]]     [1, 1024, 2, 2]           0       \n",
      "     Conv2D-32       [[1, 1024, 2, 2]]      [1, 256, 2, 2]        262,144    \n",
      "  BatchNorm2D-32      [[1, 256, 2, 2]]      [1, 256, 2, 2]         1,024     \n",
      "      ReLU-11        [[1, 1024, 2, 2]]     [1, 1024, 2, 2]           0       \n",
      "     Conv2D-33        [[1, 256, 2, 2]]      [1, 256, 2, 2]        589,824    \n",
      "  BatchNorm2D-33      [[1, 256, 2, 2]]      [1, 256, 2, 2]         1,024     \n",
      "     Conv2D-34        [[1, 256, 2, 2]]     [1, 1024, 2, 2]        262,144    \n",
      "  BatchNorm2D-34     [[1, 1024, 2, 2]]     [1, 1024, 2, 2]         4,096     \n",
      "BottleneckBlock-10   [[1, 1024, 2, 2]]     [1, 1024, 2, 2]           0       \n",
      "     Conv2D-35       [[1, 1024, 2, 2]]      [1, 256, 2, 2]        262,144    \n",
      "  BatchNorm2D-35      [[1, 256, 2, 2]]      [1, 256, 2, 2]         1,024     \n",
      "      ReLU-12        [[1, 1024, 2, 2]]     [1, 1024, 2, 2]           0       \n",
      "     Conv2D-36        [[1, 256, 2, 2]]      [1, 256, 2, 2]        589,824    \n",
      "  BatchNorm2D-36      [[1, 256, 2, 2]]      [1, 256, 2, 2]         1,024     \n",
      "     Conv2D-37        [[1, 256, 2, 2]]     [1, 1024, 2, 2]        262,144    \n",
      "  BatchNorm2D-37     [[1, 1024, 2, 2]]     [1, 1024, 2, 2]         4,096     \n",
      "BottleneckBlock-11   [[1, 1024, 2, 2]]     [1, 1024, 2, 2]           0       \n",
      "     Conv2D-38       [[1, 1024, 2, 2]]      [1, 256, 2, 2]        262,144    \n",
      "  BatchNorm2D-38      [[1, 256, 2, 2]]      [1, 256, 2, 2]         1,024     \n",
      "      ReLU-13        [[1, 1024, 2, 2]]     [1, 1024, 2, 2]           0       \n",
      "     Conv2D-39        [[1, 256, 2, 2]]      [1, 256, 2, 2]        589,824    \n",
      "  BatchNorm2D-39      [[1, 256, 2, 2]]      [1, 256, 2, 2]         1,024     \n",
      "     Conv2D-40        [[1, 256, 2, 2]]     [1, 1024, 2, 2]        262,144    \n",
      "  BatchNorm2D-40     [[1, 1024, 2, 2]]     [1, 1024, 2, 2]         4,096     \n",
      "BottleneckBlock-12   [[1, 1024, 2, 2]]     [1, 1024, 2, 2]           0       \n",
      "     Conv2D-41       [[1, 1024, 2, 2]]      [1, 256, 2, 2]        262,144    \n",
      "  BatchNorm2D-41      [[1, 256, 2, 2]]      [1, 256, 2, 2]         1,024     \n",
      "      ReLU-14        [[1, 1024, 2, 2]]     [1, 1024, 2, 2]           0       \n",
      "     Conv2D-42        [[1, 256, 2, 2]]      [1, 256, 2, 2]        589,824    \n",
      "  BatchNorm2D-42      [[1, 256, 2, 2]]      [1, 256, 2, 2]         1,024     \n",
      "     Conv2D-43        [[1, 256, 2, 2]]     [1, 1024, 2, 2]        262,144    \n",
      "  BatchNorm2D-43     [[1, 1024, 2, 2]]     [1, 1024, 2, 2]         4,096     \n",
      "BottleneckBlock-13   [[1, 1024, 2, 2]]     [1, 1024, 2, 2]           0       \n",
      "     Conv2D-45       [[1, 1024, 2, 2]]      [1, 512, 2, 2]        524,288    \n",
      "  BatchNorm2D-45      [[1, 512, 2, 2]]      [1, 512, 2, 2]         2,048     \n",
      "      ReLU-15        [[1, 2048, 1, 1]]     [1, 2048, 1, 1]           0       \n",
      "     Conv2D-46        [[1, 512, 2, 2]]      [1, 512, 1, 1]       2,359,296   \n",
      "  BatchNorm2D-46      [[1, 512, 1, 1]]      [1, 512, 1, 1]         2,048     \n",
      "     Conv2D-47        [[1, 512, 1, 1]]     [1, 2048, 1, 1]       1,048,576   \n",
      "  BatchNorm2D-47     [[1, 2048, 1, 1]]     [1, 2048, 1, 1]         8,192     \n",
      "     Conv2D-44       [[1, 1024, 2, 2]]     [1, 2048, 1, 1]       2,097,152   \n",
      "  BatchNorm2D-44     [[1, 2048, 1, 1]]     [1, 2048, 1, 1]         8,192     \n",
      "BottleneckBlock-14   [[1, 1024, 2, 2]]     [1, 2048, 1, 1]           0       \n",
      "     Conv2D-48       [[1, 2048, 1, 1]]      [1, 512, 1, 1]       1,048,576   \n",
      "  BatchNorm2D-48      [[1, 512, 1, 1]]      [1, 512, 1, 1]         2,048     \n",
      "      ReLU-16        [[1, 2048, 1, 1]]     [1, 2048, 1, 1]           0       \n",
      "     Conv2D-49        [[1, 512, 1, 1]]      [1, 512, 1, 1]       2,359,296   \n",
      "  BatchNorm2D-49      [[1, 512, 1, 1]]      [1, 512, 1, 1]         2,048     \n",
      "     Conv2D-50        [[1, 512, 1, 1]]     [1, 2048, 1, 1]       1,048,576   \n",
      "  BatchNorm2D-50     [[1, 2048, 1, 1]]     [1, 2048, 1, 1]         8,192     \n",
      "BottleneckBlock-15   [[1, 2048, 1, 1]]     [1, 2048, 1, 1]           0       \n",
      "     Conv2D-51       [[1, 2048, 1, 1]]      [1, 512, 1, 1]       1,048,576   \n",
      "  BatchNorm2D-51      [[1, 512, 1, 1]]      [1, 512, 1, 1]         2,048     \n",
      "      ReLU-17        [[1, 2048, 1, 1]]     [1, 2048, 1, 1]           0       \n",
      "     Conv2D-52        [[1, 512, 1, 1]]      [1, 512, 1, 1]       2,359,296   \n",
      "  BatchNorm2D-52      [[1, 512, 1, 1]]      [1, 512, 1, 1]         2,048     \n",
      "     Conv2D-53        [[1, 512, 1, 1]]     [1, 2048, 1, 1]       1,048,576   \n",
      "  BatchNorm2D-53     [[1, 2048, 1, 1]]     [1, 2048, 1, 1]         8,192     \n",
      "BottleneckBlock-16   [[1, 2048, 1, 1]]     [1, 2048, 1, 1]           0       \n",
      "AdaptiveAvgPool2D-1  [[1, 2048, 1, 1]]     [1, 2048, 1, 1]           0       \n",
      "     Linear-1           [[1, 2048]]           [1, 1000]          2,049,000   \n",
      "===============================================================================\n",
      "Total params: 25,610,152\n",
      "Trainable params: 25,503,912\n",
      "Non-trainable params: 106,240\n",
      "-------------------------------------------------------------------------------\n",
      "Input size (MB): 0.01\n",
      "Forward/backward pass size (MB): 5.36\n",
      "Params size (MB): 97.69\n",
      "Estimated Total Size (MB): 103.07\n",
      "-------------------------------------------------------------------------------\n",
      "\n"
     ]
    },
    {
     "data": {
      "text/plain": [
       "{'total_params': 25610152, 'trainable_params': 25503912}"
      ]
     },
     "execution_count": 3,
     "metadata": {},
     "output_type": "execute_result"
    }
   ],
   "source": [
    "model=paddle.vision.models.resnet50()\n",
    "paddle.summary(model,(1,3,32,32))"
   ]
  },
  {
   "cell_type": "code",
   "execution_count": 4,
   "metadata": {
    "execution": {
     "iopub.execute_input": "2022-07-11T23:40:46.062363Z",
     "iopub.status.busy": "2022-07-11T23:40:46.061953Z",
     "iopub.status.idle": "2022-07-11T23:40:46.066139Z",
     "shell.execute_reply": "2022-07-11T23:40:46.065440Z",
     "shell.execute_reply.started": "2022-07-11T23:40:46.062336Z"
    },
    "scrolled": true
   },
   "outputs": [],
   "source": [
    "model=paddle.Model(model)"
   ]
  },
  {
   "cell_type": "code",
   "execution_count": 5,
   "metadata": {
    "execution": {
     "iopub.execute_input": "2022-07-11T23:40:46.067385Z",
     "iopub.status.busy": "2022-07-11T23:40:46.067070Z",
     "iopub.status.idle": "2022-07-11T23:40:46.073140Z",
     "shell.execute_reply": "2022-07-11T23:40:46.072487Z",
     "shell.execute_reply.started": "2022-07-11T23:40:46.067362Z"
    },
    "scrolled": true
   },
   "outputs": [],
   "source": [
    "model.prepare(\n",
    "    optimizer=paddle.optimizer.Adam(parameters=model.parameters()),\n",
    "    loss=paddle.nn.CrossEntropyLoss(),\n",
    "    metrics=paddle.metric.Accuracy()\n",
    ")"
   ]
  },
  {
   "cell_type": "code",
   "execution_count": 6,
   "metadata": {
    "execution": {
     "iopub.execute_input": "2022-07-11T23:40:46.074302Z",
     "iopub.status.busy": "2022-07-11T23:40:46.073954Z",
     "iopub.status.idle": "2022-07-12T00:06:36.828798Z",
     "shell.execute_reply": "2022-07-12T00:06:36.827789Z",
     "shell.execute_reply.started": "2022-07-11T23:40:46.074280Z"
    },
    "scrolled": true
   },
   "outputs": [
    {
     "name": "stdout",
     "output_type": "stream",
     "text": [
      "The loss value printed in the log is the current step, and the metric is the average value of previous steps.\n",
      "Epoch 1/5\n"
     ]
    },
    {
     "name": "stderr",
     "output_type": "stream",
     "text": [
      "/opt/conda/envs/python35-paddle120-env/lib/python3.7/site-packages/paddle/nn/layer/norm.py:654: UserWarning: When training, we now always track global mean and variance.\n",
      "  \"When training, we now always track global mean and variance.\")\n"
     ]
    },
    {
     "name": "stdout",
     "output_type": "stream",
     "text": [
      "step 6250/6250 [==============================] - loss: 1.9559 - acc: 0.2223 - 45ms/step          \n",
      "save checkpoint at /home/aistudio/chk_points/0\n",
      "Eval begin...\n",
      "step 1250/1250 [==============================] - loss: 1.3467 - acc: 0.3447 - 20ms/step          \n",
      "Eval samples: 10000\n",
      "Epoch 2/5\n",
      "step 6250/6250 [==============================] - loss: 2.4164 - acc: 0.2605 - 45ms/step          \n",
      "save checkpoint at /home/aistudio/chk_points/1\n",
      "Eval begin...\n",
      "step 1250/1250 [==============================] - loss: 1.5933 - acc: 0.3646 - 19ms/step          \n",
      "Eval samples: 10000\n",
      "Epoch 3/5\n",
      "step 6250/6250 [==============================] - loss: 2.1601 - acc: 0.3126 - 45ms/step          \n",
      "save checkpoint at /home/aistudio/chk_points/2\n",
      "Eval begin...\n",
      "step 1250/1250 [==============================] - loss: 1.5117 - acc: 0.3246 - 20ms/step          \n",
      "Eval samples: 10000\n",
      "Epoch 4/5\n",
      "step 6250/6250 [==============================] - loss: 1.7972 - acc: 0.3306 - 45ms/step          \n",
      "save checkpoint at /home/aistudio/chk_points/3\n",
      "Eval begin...\n",
      "step 1250/1250 [==============================] - loss: 1.2612 - acc: 0.4210 - 20ms/step          \n",
      "Eval samples: 10000\n",
      "Epoch 5/5\n",
      "step 6250/6250 [==============================] - loss: 1.7750 - acc: 0.3557 - 45ms/step          \n",
      "save checkpoint at /home/aistudio/chk_points/4\n",
      "Eval begin...\n",
      "step 1250/1250 [==============================] - loss: 1.1959 - acc: 0.3645 - 21ms/step          \n",
      "Eval samples: 10000\n",
      "save checkpoint at /home/aistudio/chk_points/final\n"
     ]
    }
   ],
   "source": [
    "model.fit(\n",
    "    train_dataset,\n",
    "    eval_dataset,\n",
    "    epochs=5,\n",
    "    batch_size=8,\n",
    "    shuffle=True,\n",
    "    verbose=1,\n",
    "    save_dir='./chk_points'\n",
    ")"
   ]
  },
  {
   "cell_type": "code",
   "execution_count": null,
   "metadata": {
    "scrolled": true
   },
   "outputs": [],
   "source": []
  },
  {
   "cell_type": "code",
   "execution_count": 8,
   "metadata": {
    "execution": {
     "iopub.execute_input": "2022-07-12T00:14:50.788380Z",
     "iopub.status.busy": "2022-07-12T00:14:50.787011Z",
     "iopub.status.idle": "2022-07-12T00:15:16.460302Z",
     "shell.execute_reply": "2022-07-12T00:15:16.459238Z",
     "shell.execute_reply.started": "2022-07-12T00:14:50.788339Z"
    },
    "scrolled": true,
    "tags": []
   },
   "outputs": [
    {
     "name": "stdout",
     "output_type": "stream",
     "text": [
      "Eval begin...\n",
      "step 1250/1250 [==============================] - loss: 1.1959 - acc: 0.3645 - 21ms/step          \n",
      "Eval samples: 10000\n"
     ]
    },
    {
     "data": {
      "text/plain": [
       "{'loss': [1.1959391], 'acc': 0.3645}"
      ]
     },
     "execution_count": 8,
     "metadata": {},
     "output_type": "execute_result"
    }
   ],
   "source": [
    "model.evaluate(eval_dataset,batch_size=8,verbose=1)"
   ]
  }
 ],
 "metadata": {
  "kernelspec": {
   "display_name": "Python 3",
   "language": "python",
   "name": "py35-paddle1.2.0"
  },
  "language_info": {
   "codemirror_mode": {
    "name": "ipython",
    "version": 3
   },
   "file_extension": ".py",
   "mimetype": "text/x-python",
   "name": "python",
   "nbconvert_exporter": "python",
   "pygments_lexer": "ipython3",
   "version": "3.7.4"
  }
 },
 "nbformat": 4,
 "nbformat_minor": 4
}
