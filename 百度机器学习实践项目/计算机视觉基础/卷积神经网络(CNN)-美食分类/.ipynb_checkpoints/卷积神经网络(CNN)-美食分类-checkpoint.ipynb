{
 "cells": [
  {
   "cell_type": "code",
   "execution_count": 1,
   "metadata": {
    "ExecuteTime": {
     "end_time": "2022-07-11T06:15:58.697789Z",
     "start_time": "2022-07-11T06:15:57.334627Z"
    },
    "execution": {
     "iopub.execute_input": "2022-07-11T06:11:58.072838Z",
     "iopub.status.busy": "2022-07-11T06:11:58.072601Z",
     "iopub.status.idle": "2022-07-11T06:11:59.750058Z",
     "shell.execute_reply": "2022-07-11T06:11:59.749155Z",
     "shell.execute_reply.started": "2022-07-11T06:11:58.072815Z"
    },
    "scrolled": true,
    "tags": []
   },
   "outputs": [],
   "source": [
    "import paddle\n",
    "import numpy as np\n",
    "import cv2\n",
    "from PIL import Image\n",
    "import zipfile\n",
    "import os\n",
    "import matplotlib.pyplot as plt"
   ]
  },
  {
   "cell_type": "code",
   "execution_count": 2,
   "metadata": {
    "ExecuteTime": {
     "end_time": "2022-07-11T06:15:58.713382Z",
     "start_time": "2022-07-11T06:15:58.698813Z"
    },
    "execution": {
     "iopub.execute_input": "2022-07-11T06:11:59.752329Z",
     "iopub.status.busy": "2022-07-11T06:11:59.751840Z",
     "iopub.status.idle": "2022-07-11T06:11:59.756799Z",
     "shell.execute_reply": "2022-07-11T06:11:59.756117Z",
     "shell.execute_reply.started": "2022-07-11T06:11:59.752302Z"
    },
    "scrolled": true,
    "tags": []
   },
   "outputs": [],
   "source": [
    "train_parameters={\n",
    "    \"input_size\":[3,64,64],\n",
    "    \"class_dim\":5,\n",
    "    \"src_path\":'foods.zip',\n",
    "    \"target_path\":'dataset',\n",
    "    'train_list_path':'./train.txt',\n",
    "    'eval_list_path':'./eval.txt',\n",
    "    'readme_path':'./readme.json',\n",
    "    'label_dict':{},\n",
    "    'num_epochs':20,\n",
    "    'train_batch_size':64,\n",
    "    'learning_strategy':{\n",
    "        'lr':0.001\n",
    "    }\n",
    "\n",
    "}"
   ]
  },
  {
   "cell_type": "code",
   "execution_count": 3,
   "metadata": {
    "ExecuteTime": {
     "end_time": "2022-07-11T06:15:58.728898Z",
     "start_time": "2022-07-11T06:15:58.713885Z"
    },
    "execution": {
     "iopub.execute_input": "2022-07-11T06:11:59.758058Z",
     "iopub.status.busy": "2022-07-11T06:11:59.757726Z",
     "iopub.status.idle": "2022-07-11T06:11:59.765462Z",
     "shell.execute_reply": "2022-07-11T06:11:59.764833Z",
     "shell.execute_reply.started": "2022-07-11T06:11:59.758035Z"
    },
    "scrolled": true,
    "tags": []
   },
   "outputs": [],
   "source": [
    "def unzip_data(src_path,target_path):\n",
    "    if os.path.isdir(target_path):\n",
    "        print('文件已解压')\n",
    "    else:\n",
    "        z=zipfile.ZipFile(src_path)\n",
    "        z.extractall(path=target_path)\n",
    "        z.close()"
   ]
  },
  {
   "cell_type": "code",
   "execution_count": 4,
   "metadata": {
    "ExecuteTime": {
     "end_time": "2022-07-11T06:16:01.677326Z",
     "start_time": "2022-07-11T06:15:58.729900Z"
    },
    "execution": {
     "iopub.execute_input": "2022-07-11T06:11:59.766667Z",
     "iopub.status.busy": "2022-07-11T06:11:59.766361Z",
     "iopub.status.idle": "2022-07-11T06:11:59.770456Z",
     "shell.execute_reply": "2022-07-11T06:11:59.769804Z",
     "shell.execute_reply.started": "2022-07-11T06:11:59.766646Z"
    },
    "scrolled": true,
    "tags": []
   },
   "outputs": [],
   "source": [
    "unzip_data(train_parameters['src_path'],train_parameters['target_path'])"
   ]
  },
  {
   "cell_type": "code",
   "execution_count": 5,
   "metadata": {
    "ExecuteTime": {
     "end_time": "2022-07-11T06:16:01.708477Z",
     "start_time": "2022-07-11T06:16:01.678291Z"
    },
    "execution": {
     "iopub.execute_input": "2022-07-11T06:11:59.771570Z",
     "iopub.status.busy": "2022-07-11T06:11:59.771289Z",
     "iopub.status.idle": "2022-07-11T06:11:59.778295Z",
     "shell.execute_reply": "2022-07-11T06:11:59.777610Z",
     "shell.execute_reply.started": "2022-07-11T06:11:59.771548Z"
    },
    "scrolled": true,
    "tags": []
   },
   "outputs": [],
   "source": [
    "def get_list(path,train_path,eval_path):\n",
    "    path=os.path.join(path,'foods')\n",
    "    kinds=os.listdir(path)\n",
    "\n",
    "    train_list=[]\n",
    "    eval_list=[]\n",
    "    label=0\n",
    "    cnt=0\n",
    "    for kind in kinds:\n",
    "        kind_path=os.path.join(path,kind)\n",
    "        imgs=os.listdir(kind_path)\n",
    "        for img in imgs:\n",
    "            cnt+=1\n",
    "            img_path=os.path.join(kind_path,img)\n",
    "            if cnt%10==0:\n",
    "                eval_list.append(\"{}\\t{}\\n\".format(img_path,str(label)))\n",
    "            else:\n",
    "                train_list.append(\"{}\\t{}\\n\".format(img_path,str(label)))\n",
    "        label+=1\n",
    "        train_parameters['label_dict'][str(label)]=kind\n",
    "    \n",
    "    with open(train_path,'w') as f:\n",
    "        for line in train_list:\n",
    "            f.write(line)\n",
    "\n",
    "    with open(eval_path,'w') as f:\n",
    "        for line in eval_list:\n",
    "            f.write(line)\n",
    "\n"
   ]
  },
  {
   "cell_type": "code",
   "execution_count": 6,
   "metadata": {
    "ExecuteTime": {
     "end_time": "2022-07-11T06:16:01.739787Z",
     "start_time": "2022-07-11T06:16:01.709441Z"
    },
    "execution": {
     "iopub.execute_input": "2022-07-11T06:11:59.780704Z",
     "iopub.status.busy": "2022-07-11T06:11:59.780255Z",
     "iopub.status.idle": "2022-07-11T06:11:59.796162Z",
     "shell.execute_reply": "2022-07-11T06:11:59.795526Z",
     "shell.execute_reply.started": "2022-07-11T06:11:59.780682Z"
    },
    "scrolled": true
   },
   "outputs": [],
   "source": [
    "get_list(train_parameters['target_path'],train_parameters['train_list_path'],train_parameters['eval_list_path'])"
   ]
  },
  {
   "cell_type": "code",
   "execution_count": 7,
   "metadata": {
    "ExecuteTime": {
     "end_time": "2022-07-11T06:16:01.770855Z",
     "start_time": "2022-07-11T06:16:01.740810Z"
    },
    "execution": {
     "iopub.execute_input": "2022-07-11T06:11:59.797197Z",
     "iopub.status.busy": "2022-07-11T06:11:59.796960Z",
     "iopub.status.idle": "2022-07-11T06:11:59.803592Z",
     "shell.execute_reply": "2022-07-11T06:11:59.802813Z",
     "shell.execute_reply.started": "2022-07-11T06:11:59.797177Z"
    },
    "scrolled": true
   },
   "outputs": [],
   "source": [
    "class FoodDataset(paddle.io.Dataset):\n",
    "    def __init__(self,path):\n",
    "        super().__init__()\n",
    "        \n",
    "        self.data_list=[]\n",
    "        with open(path,'r',encoding='utf-8') as f:\n",
    "            for line in f.readlines():\n",
    "                img_path,label=line.strip().split('\\t')\n",
    "                self.data_list.append((img_path,int(label)))\n",
    "                \n",
    "    def __getitem__(self,index):\n",
    "        img_path,label=self.data_list[index]\n",
    "        \n",
    "        img=Image.open(img_path)\n",
    "        if img.mode != 'RGB':\n",
    "            img=img.convert('RGB')\n",
    "        img=img.resize((64,64),Image.BILINEAR)\n",
    "        img=np.array(img).astype('float32')\n",
    "        img=img.transpose((2,0,1))/255.0\n",
    "\n",
    "        return img,np.array([label],dtype='int64')\n",
    "\n",
    "    def __len__(self):\n",
    "        return len(self.data_list)"
   ]
  },
  {
   "cell_type": "code",
   "execution_count": 8,
   "metadata": {
    "ExecuteTime": {
     "end_time": "2022-07-11T06:16:01.801095Z",
     "start_time": "2022-07-11T06:16:01.771359Z"
    },
    "execution": {
     "iopub.execute_input": "2022-07-11T06:11:59.804722Z",
     "iopub.status.busy": "2022-07-11T06:11:59.804491Z",
     "iopub.status.idle": "2022-07-11T06:11:59.813412Z",
     "shell.execute_reply": "2022-07-11T06:11:59.812739Z",
     "shell.execute_reply.started": "2022-07-11T06:11:59.804702Z"
    },
    "scrolled": true,
    "tags": []
   },
   "outputs": [],
   "source": [
    "train_dataset=FoodDataset(train_parameters['train_list_path'])\n",
    "eval_dataset=FoodDataset(train_parameters['eval_list_path'])\n",
    "train_loader=paddle.io.DataLoader(train_dataset,batch_size=train_parameters['train_batch_size'],shuffle=True)\n",
    "eval_loader=paddle.io.DataLoader(eval_dataset,batch_size=train_parameters['train_batch_size'],shuffle=False)"
   ]
  },
  {
   "cell_type": "code",
   "execution_count": 9,
   "metadata": {
    "ExecuteTime": {
     "end_time": "2022-07-11T06:16:01.831563Z",
     "start_time": "2022-07-11T06:16:01.802600Z"
    },
    "execution": {
     "iopub.execute_input": "2022-07-11T06:11:59.814589Z",
     "iopub.status.busy": "2022-07-11T06:11:59.814292Z",
     "iopub.status.idle": "2022-07-11T06:11:59.821724Z",
     "shell.execute_reply": "2022-07-11T06:11:59.821005Z",
     "shell.execute_reply.started": "2022-07-11T06:11:59.814567Z"
    },
    "scrolled": true,
    "tags": []
   },
   "outputs": [],
   "source": [
    "class MyCNN(paddle.nn.Layer):\n",
    "    def __init__(self):\n",
    "        super(MyCNN,self).__init__()\n",
    "        self.conv0=paddle.nn.Conv2D(in_channels=3,out_channels=64,kernel_size=3,padding=0,stride=1)\n",
    "        self.pool0=paddle.nn.MaxPool2D(kernel_size=2,stride=2)\n",
    "        self.conv1=paddle.nn.Conv2D(in_channels=64,out_channels=128,kernel_size=4,padding=0,stride=1)\n",
    "        self.pool1=paddle.nn.MaxPool2D(kernel_size=2,stride=2)\n",
    "        self.conv2=paddle.nn.Conv2D(in_channels=128,out_channels=128,kernel_size=5,padding=0)\n",
    "        self.pool2=paddle.nn.MaxPool2D(kernel_size=2,stride=2)\n",
    "        self.fc1=paddle.nn.Linear(in_features=128*5*5,out_features=5)\n",
    "\n",
    "    def forward(self,input):\n",
    "        x=self.conv0(input)\n",
    "        x=self.pool0(x)\n",
    "        x=self.conv1(x)\n",
    "        x=self.pool1(x)\n",
    "        x=self.conv2(x)\n",
    "        x=self.pool2(x)\n",
    "        x=paddle.fluid.layers.reshape(x,shape=[-1,128*5*5])\n",
    "        y=self.fc1(x)\n",
    "        return y\n",
    "           "
   ]
  },
  {
   "cell_type": "code",
   "execution_count": 10,
   "metadata": {
    "ExecuteTime": {
     "end_time": "2022-07-11T07:13:03.683568Z",
     "start_time": "2022-07-11T06:16:01.832067Z"
    },
    "execution": {
     "iopub.execute_input": "2022-07-11T06:11:59.822877Z",
     "iopub.status.busy": "2022-07-11T06:11:59.822577Z"
    },
    "scrolled": false,
    "tags": []
   },
   "outputs": [
    {
     "name": "stdout",
     "output_type": "stream",
     "text": [
      "epoch:0,step:10,loss:1.7988860607147217,acc:0.21875\n",
      "epoch:0,step:20,loss:1.697974443435669,acc:0.265625\n",
      "epoch:0,step:30,loss:1.829293966293335,acc:0.1875\n",
      "epoch:0,step:40,loss:1.7868056297302246,acc:0.328125\n",
      "epoch:0,step:50,loss:1.7599623203277588,acc:0.1875\n",
      "epoch:0,step:60,loss:1.696953535079956,acc:0.328125\n",
      "epoch:0,step:70,loss:1.3444684743881226,acc:0.30000001192092896\n",
      "epoch:1,step:10,loss:1.490311622619629,acc:0.3125\n",
      "epoch:1,step:20,loss:1.3505992889404297,acc:0.40625\n",
      "epoch:1,step:30,loss:1.5401219129562378,acc:0.359375\n",
      "epoch:1,step:40,loss:1.4661024808883667,acc:0.359375\n",
      "epoch:1,step:50,loss:1.4064040184020996,acc:0.375\n",
      "epoch:1,step:60,loss:1.5312039852142334,acc:0.359375\n",
      "epoch:1,step:70,loss:1.2378193140029907,acc:0.5\n",
      "epoch:2,step:10,loss:1.3815884590148926,acc:0.40625\n",
      "epoch:2,step:20,loss:1.3419042825698853,acc:0.46875\n",
      "epoch:2,step:30,loss:1.3457156419754028,acc:0.40625\n",
      "epoch:2,step:40,loss:1.3570177555084229,acc:0.359375\n",
      "epoch:2,step:50,loss:1.4156925678253174,acc:0.375\n",
      "epoch:2,step:60,loss:1.492417812347412,acc:0.328125\n",
      "epoch:2,step:70,loss:1.0991765260696411,acc:0.6499999761581421\n",
      "epoch:3,step:10,loss:1.5361356735229492,acc:0.21875\n",
      "epoch:3,step:20,loss:1.3101797103881836,acc:0.4375\n",
      "epoch:3,step:30,loss:1.4077296257019043,acc:0.375\n",
      "epoch:3,step:40,loss:1.3060163259506226,acc:0.4375\n",
      "epoch:3,step:50,loss:1.2735769748687744,acc:0.421875\n",
      "epoch:3,step:60,loss:1.294775366783142,acc:0.375\n",
      "epoch:3,step:70,loss:1.4719864130020142,acc:0.20000000298023224\n",
      "epoch:4,step:10,loss:1.2112958431243896,acc:0.46875\n",
      "epoch:4,step:20,loss:1.305938720703125,acc:0.375\n",
      "epoch:4,step:30,loss:1.3418824672698975,acc:0.4375\n",
      "epoch:4,step:40,loss:1.2826380729675293,acc:0.46875\n",
      "epoch:4,step:50,loss:1.537160873413086,acc:0.359375\n",
      "epoch:4,step:60,loss:1.0894109010696411,acc:0.5625\n",
      "epoch:4,step:70,loss:1.3101806640625,acc:0.44999998807907104\n",
      "epoch:5,step:10,loss:1.4232698678970337,acc:0.375\n",
      "epoch:5,step:20,loss:1.3491334915161133,acc:0.421875\n",
      "epoch:5,step:30,loss:1.2439143657684326,acc:0.5\n",
      "epoch:5,step:40,loss:1.2095004320144653,acc:0.5\n",
      "epoch:5,step:50,loss:1.1691457033157349,acc:0.546875\n",
      "epoch:5,step:60,loss:1.1806788444519043,acc:0.5\n",
      "epoch:5,step:70,loss:1.5943845510482788,acc:0.3499999940395355\n",
      "epoch:6,step:10,loss:1.191576600074768,acc:0.5\n",
      "epoch:6,step:20,loss:1.2673695087432861,acc:0.5\n",
      "epoch:6,step:30,loss:1.181188702583313,acc:0.515625\n",
      "epoch:6,step:40,loss:1.3186743259429932,acc:0.46875\n",
      "epoch:6,step:50,loss:1.3933963775634766,acc:0.484375\n",
      "epoch:6,step:60,loss:1.108307123184204,acc:0.625\n",
      "epoch:6,step:70,loss:1.0378518104553223,acc:0.6000000238418579\n",
      "epoch:7,step:10,loss:1.1937460899353027,acc:0.515625\n",
      "epoch:7,step:20,loss:1.0952351093292236,acc:0.609375\n",
      "epoch:7,step:30,loss:1.2156578302383423,acc:0.453125\n",
      "epoch:7,step:40,loss:1.2479746341705322,acc:0.4375\n",
      "epoch:7,step:50,loss:1.1849513053894043,acc:0.546875\n",
      "epoch:7,step:60,loss:1.2708442211151123,acc:0.453125\n",
      "epoch:7,step:70,loss:1.255800485610962,acc:0.550000011920929\n",
      "epoch:8,step:10,loss:1.172188639640808,acc:0.515625\n",
      "epoch:8,step:20,loss:1.1140265464782715,acc:0.5625\n",
      "epoch:8,step:30,loss:1.3593409061431885,acc:0.390625\n",
      "epoch:8,step:40,loss:1.2623679637908936,acc:0.4375\n",
      "epoch:8,step:50,loss:1.153448462486267,acc:0.515625\n",
      "epoch:8,step:60,loss:1.2570466995239258,acc:0.4375\n",
      "epoch:8,step:70,loss:1.457764983177185,acc:0.5\n",
      "epoch:9,step:10,loss:1.2311639785766602,acc:0.515625\n",
      "epoch:9,step:20,loss:1.2902071475982666,acc:0.421875\n",
      "epoch:9,step:30,loss:1.0946037769317627,acc:0.515625\n",
      "epoch:9,step:40,loss:1.0340019464492798,acc:0.5\n",
      "epoch:9,step:50,loss:0.9937669038772583,acc:0.546875\n",
      "epoch:9,step:60,loss:1.1279284954071045,acc:0.46875\n",
      "epoch:9,step:70,loss:1.480067491531372,acc:0.44999998807907104\n",
      "epoch:10,step:10,loss:1.0786759853363037,acc:0.5\n",
      "epoch:10,step:20,loss:1.1073684692382812,acc:0.5\n",
      "epoch:10,step:30,loss:1.2239606380462646,acc:0.515625\n",
      "epoch:10,step:40,loss:1.1486213207244873,acc:0.546875\n",
      "epoch:10,step:50,loss:1.2823424339294434,acc:0.484375\n",
      "epoch:10,step:60,loss:1.270543098449707,acc:0.453125\n",
      "epoch:10,step:70,loss:1.1469279527664185,acc:0.44999998807907104\n",
      "epoch:11,step:10,loss:1.1043908596038818,acc:0.53125\n",
      "epoch:11,step:20,loss:1.10658597946167,acc:0.53125\n",
      "epoch:11,step:30,loss:0.9722046852111816,acc:0.625\n",
      "epoch:11,step:40,loss:1.315134048461914,acc:0.515625\n",
      "epoch:11,step:50,loss:1.194355845451355,acc:0.484375\n",
      "epoch:11,step:60,loss:1.1194547414779663,acc:0.5\n",
      "epoch:11,step:70,loss:1.2950128316879272,acc:0.550000011920929\n",
      "epoch:12,step:10,loss:1.3188652992248535,acc:0.46875\n",
      "epoch:12,step:20,loss:1.234840989112854,acc:0.46875\n",
      "epoch:12,step:30,loss:1.142690896987915,acc:0.5\n",
      "epoch:12,step:40,loss:1.207918643951416,acc:0.53125\n",
      "epoch:12,step:50,loss:1.1888681650161743,acc:0.4375\n",
      "epoch:12,step:60,loss:1.1504594087600708,acc:0.515625\n",
      "epoch:12,step:70,loss:1.3215018510818481,acc:0.5\n",
      "epoch:13,step:10,loss:1.2059895992279053,acc:0.515625\n",
      "epoch:13,step:20,loss:1.1115124225616455,acc:0.546875\n",
      "epoch:13,step:30,loss:1.129900574684143,acc:0.546875\n",
      "epoch:13,step:40,loss:1.2491228580474854,acc:0.5\n",
      "epoch:13,step:50,loss:1.0951848030090332,acc:0.578125\n",
      "epoch:13,step:60,loss:1.304785966873169,acc:0.375\n",
      "epoch:13,step:70,loss:0.8097837567329407,acc:0.8500000238418579\n",
      "epoch:14,step:10,loss:1.1464202404022217,acc:0.59375\n",
      "epoch:14,step:20,loss:1.0799493789672852,acc:0.5625\n",
      "epoch:14,step:30,loss:1.1415071487426758,acc:0.5625\n",
      "epoch:14,step:40,loss:1.0412368774414062,acc:0.53125\n",
      "epoch:14,step:50,loss:1.293980360031128,acc:0.4375\n",
      "epoch:14,step:60,loss:1.2792401313781738,acc:0.484375\n",
      "epoch:14,step:70,loss:1.2939050197601318,acc:0.5\n",
      "epoch:15,step:10,loss:1.0502820014953613,acc:0.53125\n",
      "epoch:15,step:20,loss:1.0981531143188477,acc:0.5625\n",
      "epoch:15,step:30,loss:1.331662654876709,acc:0.4375\n",
      "epoch:15,step:40,loss:1.2106328010559082,acc:0.515625\n",
      "epoch:15,step:50,loss:0.9898360371589661,acc:0.65625\n",
      "epoch:15,step:60,loss:1.101816177368164,acc:0.640625\n",
      "epoch:15,step:70,loss:1.4808475971221924,acc:0.4000000059604645\n",
      "epoch:16,step:10,loss:1.0962882041931152,acc:0.703125\n",
      "epoch:16,step:20,loss:1.1663804054260254,acc:0.53125\n",
      "epoch:16,step:30,loss:1.190194845199585,acc:0.453125\n",
      "epoch:16,step:40,loss:1.2567018270492554,acc:0.46875\n",
      "epoch:16,step:50,loss:1.0326957702636719,acc:0.5625\n",
      "epoch:16,step:60,loss:0.8749182224273682,acc:0.703125\n",
      "epoch:16,step:70,loss:0.9843810796737671,acc:0.699999988079071\n",
      "epoch:17,step:10,loss:1.1688898801803589,acc:0.5\n",
      "epoch:17,step:20,loss:1.0971705913543701,acc:0.46875\n",
      "epoch:17,step:30,loss:1.2285484075546265,acc:0.5\n",
      "epoch:17,step:40,loss:1.2312297821044922,acc:0.5\n",
      "epoch:17,step:50,loss:1.00746488571167,acc:0.671875\n",
      "epoch:17,step:60,loss:1.1008639335632324,acc:0.515625\n",
      "epoch:17,step:70,loss:1.3424592018127441,acc:0.44999998807907104\n",
      "epoch:18,step:10,loss:1.0222175121307373,acc:0.625\n",
      "epoch:18,step:20,loss:1.2798826694488525,acc:0.4375\n",
      "epoch:18,step:30,loss:1.0116418600082397,acc:0.640625\n",
      "epoch:18,step:40,loss:1.0567576885223389,acc:0.625\n",
      "epoch:18,step:50,loss:1.0706746578216553,acc:0.515625\n",
      "epoch:18,step:60,loss:1.252074956893921,acc:0.46875\n",
      "epoch:18,step:70,loss:1.0164066553115845,acc:0.6499999761581421\n",
      "epoch:19,step:10,loss:1.0844109058380127,acc:0.53125\n",
      "epoch:19,step:20,loss:1.133828043937683,acc:0.5\n",
      "epoch:19,step:30,loss:1.0737006664276123,acc:0.578125\n",
      "epoch:19,step:40,loss:1.0482070446014404,acc:0.609375\n",
      "epoch:19,step:50,loss:1.1482298374176025,acc:0.53125\n",
      "epoch:19,step:60,loss:1.133272409439087,acc:0.5\n",
      "epoch:19,step:70,loss:1.0041401386260986,acc:0.550000011920929\n"
     ]
    }
   ],
   "source": [
    "model=MyCNN()\n",
    "model.train()\n",
    "cross_entropy=paddle.nn.CrossEntropyLoss()\n",
    "opt=paddle.optimizer.SGD(learning_rate=train_parameters['learning_strategy']['lr'],parameters=model.parameters())\n",
    "\n",
    "Batch=0\n",
    "losses=[]\n",
    "accs=[]\n",
    "batchs=[]\n",
    "for pass_num in range(train_parameters['num_epochs']):\n",
    "    \n",
    "    for batch_id,data in enumerate(train_loader()):\n",
    "        x=data[0]\n",
    "        y=data[1]\n",
    "        pred=model(x)\n",
    "        # print(x)\n",
    "        # print(y)\n",
    "        loss=cross_entropy(pred,y)\n",
    "        # print(loss)\n",
    "        acc=paddle.metric.accuracy(pred,y.reshape([-1,1]))\n",
    "\n",
    "        if batch_id!=0 and batch_id%10==0:\n",
    "            Batch+=10\n",
    "            batchs.append(Batch)\n",
    "            losses.append(loss.numpy()[0])\n",
    "            accs.append(acc.numpy()[0])\n",
    "            print(\"epoch:{},step:{},loss:{},acc:{}\".format(pass_num,batch_id,loss.numpy()[0],acc.numpy()[0]))\n",
    "        \n",
    "        loss.backward()\n",
    "        opt.step()\n",
    "        opt.clear_grad()\n",
    "\n",
    "# paddle.save(model.state_dict(),'MyCNN')"
   ]
  },
  {
   "cell_type": "code",
   "execution_count": 11,
   "metadata": {
    "ExecuteTime": {
     "end_time": "2022-07-11T07:13:03.822342Z",
     "start_time": "2022-07-11T07:13:03.684568Z"
    },
    "scrolled": true,
    "tags": []
   },
   "outputs": [
    {
     "data": {
      "text/plain": [
       "[<matplotlib.lines.Line2D at 0x210efff5ef0>]"
      ]
     },
     "execution_count": 11,
     "metadata": {},
     "output_type": "execute_result"
    },
    {
     "data": {
      "image/png": "[encoded data removed]",
      "text/plain": [
       "<Figure size 432x288 with 1 Axes>"
      ]
     },
     "metadata": {
      "needs_background": "light"
     },
     "output_type": "display_data"
    }
   ],
   "source": [
    "plt.plot(batchs,accs)"
   ]
  },
  {
   "cell_type": "code",
   "execution_count": 12,
   "metadata": {
    "ExecuteTime": {
     "end_time": "2022-07-11T07:13:03.914857Z",
     "start_time": "2022-07-11T07:13:03.823376Z"
    },
    "scrolled": true,
    "tags": []
   },
   "outputs": [
    {
     "data": {
      "text/plain": [
       "[<matplotlib.lines.Line2D at 0x210efe3ef28>]"
      ]
     },
     "execution_count": 12,
     "metadata": {},
     "output_type": "execute_result"
    },
    {
     "data": {
      "image/png": "[encoded data removed]",
      "text/plain": [
       "<Figure size 432x288 with 1 Axes>"
      ]
     },
     "metadata": {
      "needs_background": "light"
     },
     "output_type": "display_data"
    }
   ],
   "source": [
    "plt.plot(batchs,losses)"
   ]
  },
  {
   "cell_type": "code",
   "execution_count": 14,
   "metadata": {
    "ExecuteTime": {
     "end_time": "2022-07-11T07:17:06.222107Z",
     "start_time": "2022-07-11T07:17:06.210220Z"
    }
   },
   "outputs": [],
   "source": [
    "paddle.save(model.state_dict(),'MyCNN')"
   ]
  },
  {
   "cell_type": "code",
   "execution_count": 15,
   "metadata": {
    "ExecuteTime": {
     "end_time": "2022-07-11T07:17:14.076658Z",
     "start_time": "2022-07-11T07:17:07.656819Z"
    },
    "scrolled": true
   },
   "outputs": [
    {
     "name": "stdout",
     "output_type": "stream",
     "text": [
      "0.4921875\n"
     ]
    }
   ],
   "source": [
    "para_state_dict=paddle.load(\"MyCNN\")\n",
    "model=MyCNN()\n",
    "model.set_state_dict(para_state_dict)\n",
    "model.eval()\n",
    "\n",
    "accs=[]\n",
    "for batch_id,data in enumerate(eval_loader()):\n",
    "    x=data[0]\n",
    "    y=data[1]\n",
    "    pred=model(x)\n",
    "    acc=paddle.metric.accuracy(pred,y)\n",
    "    accs.append(acc.numpy()[0])\n",
    "\n",
    "print(np.mean(accs))"
   ]
  },
  {
   "cell_type": "code",
   "execution_count": null,
   "metadata": {
    "scrolled": true
   },
   "outputs": [],
   "source": []
  },
  {
   "cell_type": "code",
   "execution_count": null,
   "metadata": {
    "scrolled": true
   },
   "outputs": [],
   "source": []
  }
 ],
 "metadata": {
  "kernelspec": {
   "display_name": "Python 3",
   "language": "python",
   "name": "python3"
  },
  "language_info": {
   "codemirror_mode": {
    "name": "ipython",
    "version": 3
   },
   "file_extension": ".py",
   "mimetype": "text/x-python",
   "name": "python",
   "nbconvert_exporter": "python",
   "pygments_lexer": "ipython3",
   "version": "3.6.4"
  }
 },
 "nbformat": 4,
 "nbformat_minor": 4
}
