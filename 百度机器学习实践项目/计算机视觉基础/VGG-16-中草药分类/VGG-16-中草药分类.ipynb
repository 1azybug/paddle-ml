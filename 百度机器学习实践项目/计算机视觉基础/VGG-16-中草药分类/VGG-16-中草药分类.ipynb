{
 "cells": [
  {
   "cell_type": "code",
   "execution_count": 1,
   "metadata": {
    "ExecuteTime": {
     "end_time": "2022-07-11T23:30:25.614891Z",
     "start_time": "2022-07-11T23:30:22.949342Z"
    },
    "execution": {
     "iopub.execute_input": "2022-07-11T11:03:22.548873Z",
     "iopub.status.busy": "2022-07-11T11:03:22.548657Z",
     "iopub.status.idle": "2022-07-11T11:03:24.309261Z",
     "shell.execute_reply": "2022-07-11T11:03:24.308060Z",
     "shell.execute_reply.started": "2022-07-11T11:03:22.548851Z"
    },
    "scrolled": true,
    "tags": []
   },
   "outputs": [],
   "source": [
    "import paddle\n",
    "import numpy as np\n",
    "from PIL import Image\n",
    "import cv2\n",
    "import matplotlib.pyplot as plt\n",
    "import random\n",
    "import os\n",
    "import zipfile"
   ]
  },
  {
   "cell_type": "code",
   "execution_count": 2,
   "metadata": {
    "ExecuteTime": {
     "end_time": "2022-07-11T23:30:25.630705Z",
     "start_time": "2022-07-11T23:30:25.615738Z"
    },
    "execution": {
     "iopub.execute_input": "2022-07-11T11:03:24.311017Z",
     "iopub.status.busy": "2022-07-11T11:03:24.310538Z",
     "iopub.status.idle": "2022-07-11T11:03:24.316208Z",
     "shell.execute_reply": "2022-07-11T11:03:24.315269Z",
     "shell.execute_reply.started": "2022-07-11T11:03:24.310988Z"
    },
    "scrolled": true
   },
   "outputs": [],
   "source": [
    "train_parameters={\n",
    "    \"input_size\":[3,224,224],\n",
    "    \"class_dim\":5,\n",
    "    \"src_path\":\"Chinese Medicine.zip\",\n",
    "    \"target_path\":\"dataset\",\n",
    "    \"train_list_path\":\"./train.txt\",\n",
    "    \"eval_list_path\":\"./eval.txt\",\n",
    "    \"readme_path\":\"./readme.json\",\n",
    "    \"label_dict\":{},\n",
    "    \"learning_strategy\":{\n",
    "        \"lr\":0.001\n",
    "    },\n",
    "    \"num_epochs\":10,\n",
    "    \"train_batch_size\":8,\n",
    "    \"skip_steps\":10,\n",
    "    \"save_steps\":30,\n",
    "    \"checkpoints\":\"./checkpoints\"\n",
    "}"
   ]
  },
  {
   "cell_type": "code",
   "execution_count": 3,
   "metadata": {
    "ExecuteTime": {
     "end_time": "2022-07-11T23:30:25.646826Z",
     "start_time": "2022-07-11T23:30:25.632100Z"
    },
    "execution": {
     "iopub.execute_input": "2022-07-11T11:03:24.318501Z",
     "iopub.status.busy": "2022-07-11T11:03:24.318197Z",
     "iopub.status.idle": "2022-07-11T11:03:24.323329Z",
     "shell.execute_reply": "2022-07-11T11:03:24.322445Z",
     "shell.execute_reply.started": "2022-07-11T11:03:24.318478Z"
    },
    "scrolled": true,
    "tags": []
   },
   "outputs": [],
   "source": [
    "def unzip_data(src_path,target_path):\n",
    "    if os.path.isdir(target_path):\n",
    "        print(\"文件已解压\")\n",
    "    else:\n",
    "        z=zipfile.ZipFile(src_path)\n",
    "        z.extractall(path=target_path)\n",
    "        z.close()"
   ]
  },
  {
   "cell_type": "code",
   "execution_count": 4,
   "metadata": {
    "ExecuteTime": {
     "end_time": "2022-07-11T23:30:25.662866Z",
     "start_time": "2022-07-11T23:30:25.647805Z"
    },
    "execution": {
     "iopub.execute_input": "2022-07-11T11:03:24.324431Z",
     "iopub.status.busy": "2022-07-11T11:03:24.324204Z",
     "iopub.status.idle": "2022-07-11T11:03:24.329684Z",
     "shell.execute_reply": "2022-07-11T11:03:24.328758Z",
     "shell.execute_reply.started": "2022-07-11T11:03:24.324411Z"
    },
    "scrolled": true,
    "tags": []
   },
   "outputs": [
    {
     "name": "stdout",
     "output_type": "stream",
     "text": [
      "文件已解压\n"
     ]
    }
   ],
   "source": [
    "unzip_data(train_parameters['src_path'],train_parameters['target_path'])"
   ]
  },
  {
   "cell_type": "code",
   "execution_count": 5,
   "metadata": {
    "ExecuteTime": {
     "end_time": "2022-07-11T23:30:25.694559Z",
     "start_time": "2022-07-11T23:30:25.664411Z"
    },
    "execution": {
     "iopub.execute_input": "2022-07-11T11:03:24.330787Z",
     "iopub.status.busy": "2022-07-11T11:03:24.330558Z",
     "iopub.status.idle": "2022-07-11T11:03:24.338397Z",
     "shell.execute_reply": "2022-07-11T11:03:24.337398Z",
     "shell.execute_reply.started": "2022-07-11T11:03:24.330766Z"
    },
    "scrolled": true
   },
   "outputs": [],
   "source": [
    "def get_data_list(path,train_path,eval_path):\n",
    "    path=os.path.join(path,\"Chinese Medicine\")\n",
    "    kinds=os.listdir(path)\n",
    "\n",
    "    label=0\n",
    "    cnt=0\n",
    "    train_list=[]\n",
    "    eval_list=[]\n",
    "    for kind in kinds:\n",
    "        kind_path=os.path.join(path,kind)\n",
    "        imgs=os.listdir(kind_path)\n",
    "        train_parameters['label_dict'][str(label)]=kind\n",
    "        for img in imgs:\n",
    "            img_path=os.path.join(kind_path,img)\n",
    "            cnt+=1\n",
    "            if cnt%10==0:\n",
    "                eval_list.append('%s\\t%s\\n'%(img_path,str(label)))\n",
    "            else:\n",
    "                train_list.append(\"%s\\t%s\\n\"%(img_path,str(label)))\n",
    "        label+=1\n",
    "    \n",
    "    with open(train_path,'w') as f:\n",
    "        for line in train_list:\n",
    "            f.write(line)\n",
    "    \n",
    "    with open(eval_path,'w') as f:\n",
    "        for line in eval_list:\n",
    "            f.write(line)\n",
    "\n"
   ]
  },
  {
   "cell_type": "code",
   "execution_count": 6,
   "metadata": {
    "ExecuteTime": {
     "end_time": "2022-07-11T23:30:25.709853Z",
     "start_time": "2022-07-11T23:30:25.695583Z"
    },
    "execution": {
     "iopub.execute_input": "2022-07-11T11:03:24.339988Z",
     "iopub.status.busy": "2022-07-11T11:03:24.339448Z",
     "iopub.status.idle": "2022-07-11T11:03:24.347326Z",
     "shell.execute_reply": "2022-07-11T11:03:24.346354Z",
     "shell.execute_reply.started": "2022-07-11T11:03:24.339966Z"
    },
    "scrolled": true
   },
   "outputs": [],
   "source": [
    "get_data_list(train_parameters['target_path'],train_parameters['train_list_path'],train_parameters['eval_list_path'])"
   ]
  },
  {
   "cell_type": "code",
   "execution_count": 7,
   "metadata": {
    "ExecuteTime": {
     "end_time": "2022-07-11T23:30:25.740084Z",
     "start_time": "2022-07-11T23:30:25.710356Z"
    },
    "execution": {
     "iopub.execute_input": "2022-07-11T11:03:24.348497Z",
     "iopub.status.busy": "2022-07-11T11:03:24.348264Z",
     "iopub.status.idle": "2022-07-11T11:03:24.355577Z",
     "shell.execute_reply": "2022-07-11T11:03:24.354510Z",
     "shell.execute_reply.started": "2022-07-11T11:03:24.348477Z"
    },
    "scrolled": true,
    "tags": []
   },
   "outputs": [],
   "source": [
    "class FoodDataset(paddle.io.Dataset):\n",
    "    def __init__(self,path):\n",
    "\n",
    "        self.data_list=[]\n",
    "        with open(path,'r',encoding='utf-8') as f:\n",
    "            for line in f.readlines():\n",
    "                img_path,label=line.strip().split('\\t')\n",
    "                self.data_list.append((img_path,int(label)))\n",
    "\n",
    "    def __getitem__(self,index):\n",
    "        img_path,label=self.data_list[index]\n",
    "        img=Image.open(img_path)\n",
    "        if img.mode!=\"RBG\":\n",
    "            img=img.convert(\"RGB\")\n",
    "        img=img.resize((224,224),Image.BILINEAR)\n",
    "        img=np.array(img).astype('float32')\n",
    "        img=img.transpose((2,0,1))/255.0\n",
    "        return img,np.array([label],dtype='int64')\n",
    "\n",
    "    def __len__(self):\n",
    "        return len(self.data_list)"
   ]
  },
  {
   "cell_type": "code",
   "execution_count": 8,
   "metadata": {
    "ExecuteTime": {
     "end_time": "2022-07-11T23:30:25.755276Z",
     "start_time": "2022-07-11T23:30:25.740869Z"
    },
    "execution": {
     "iopub.execute_input": "2022-07-11T11:03:24.356843Z",
     "iopub.status.busy": "2022-07-11T11:03:24.356576Z",
     "iopub.status.idle": "2022-07-11T11:03:24.363071Z",
     "shell.execute_reply": "2022-07-11T11:03:24.362152Z",
     "shell.execute_reply.started": "2022-07-11T11:03:24.356821Z"
    },
    "scrolled": true,
    "tags": []
   },
   "outputs": [],
   "source": [
    "train_dataset=FoodDataset(train_parameters['train_list_path'])\n",
    "eval_dataset=FoodDataset(train_parameters['eval_list_path'])\n",
    "train_loader=paddle.io.DataLoader(train_dataset,batch_size=train_parameters['train_batch_size'],shuffle=True)\n",
    "eval_loader=paddle.io.DataLoader(eval_dataset,batch_size=8,shuffle=False)"
   ]
  },
  {
   "cell_type": "code",
   "execution_count": 9,
   "metadata": {
    "ExecuteTime": {
     "end_time": "2022-07-11T23:30:25.786458Z",
     "start_time": "2022-07-11T23:30:25.756517Z"
    },
    "execution": {
     "iopub.execute_input": "2022-07-11T11:03:24.364611Z",
     "iopub.status.busy": "2022-07-11T11:03:24.364326Z",
     "iopub.status.idle": "2022-07-11T11:03:24.371346Z",
     "shell.execute_reply": "2022-07-11T11:03:24.370454Z",
     "shell.execute_reply.started": "2022-07-11T11:03:24.364588Z"
    },
    "scrolled": true,
    "tags": []
   },
   "outputs": [],
   "source": [
    "class ConvPool(paddle.nn.Layer):\n",
    "    def __init__(self,num_channels,num_filters,filter_size,pool_size,pool_stride,groups,conv_stride=1,conv_padding=1):\n",
    "        super(ConvPool,self).__init__()\n",
    "\n",
    "        for i in range(groups):\n",
    "            self.add_sublayer(\n",
    "                \"bb_%d\"%i,\n",
    "                paddle.nn.Conv2D(\n",
    "                    in_channels=num_channels,\n",
    "                    out_channels=num_filters,\n",
    "                    kernel_size=filter_size,\n",
    "                    stride=conv_stride,\n",
    "                    padding=conv_padding\n",
    "                )\n",
    "            )\n",
    "            self.add_sublayer(\n",
    "                'relu%d'%i,\n",
    "                paddle.nn.ReLU()\n",
    "            )\n",
    "            num_channels=num_filters#循环中下次的输入通道和上次的输出通道数相同\n",
    "        \n",
    "        self.add_sublayer(\n",
    "            'Maxpool',\n",
    "            paddle.nn.MaxPool2D(\n",
    "                kernel_size=pool_size,\n",
    "                stride=pool_stride\n",
    "            )\n",
    "        )\n",
    "    def forward(self,inputs):\n",
    "        x=inputs\n",
    "        for prefix,sub_layer in self.named_children():\n",
    "            x=sub_layer(x)\n",
    "        return x"
   ]
  },
  {
   "cell_type": "code",
   "execution_count": 10,
   "metadata": {
    "ExecuteTime": {
     "end_time": "2022-07-11T23:30:25.818089Z",
     "start_time": "2022-07-11T23:30:25.787342Z"
    },
    "execution": {
     "iopub.execute_input": "2022-07-11T11:03:24.374203Z",
     "iopub.status.busy": "2022-07-11T11:03:24.373820Z",
     "iopub.status.idle": "2022-07-11T11:03:24.381850Z",
     "shell.execute_reply": "2022-07-11T11:03:24.380828Z",
     "shell.execute_reply.started": "2022-07-11T11:03:24.374180Z"
    },
    "scrolled": true,
    "tags": []
   },
   "outputs": [],
   "source": [
    "class VGGNet(paddle.nn.Layer):\n",
    "    def __init__(self):\n",
    "        super(VGGNet,self).__init__()\n",
    "        self.convpool01=ConvPool(3,64,3,2,2,2)\n",
    "        self.convpool02=ConvPool(64,128,3,2,2,2)\n",
    "        self.convpool03=ConvPool(128,256,3,2,2,3)\n",
    "        self.convpool04=ConvPool(256,512,3,2,2,3)\n",
    "        self.convpool05=ConvPool(512,512,3,2,2,3)\n",
    "\n",
    "        self.fc01=paddle.nn.Linear(512*7*7,4096)\n",
    "        self.fc02=paddle.nn.Linear(4096,4096)\n",
    "        self.fc03=paddle.nn.Linear(4096,train_parameters['class_dim'])\n",
    "    \n",
    "    def forward(self,inputs):\n",
    "        # print('input_size:{}'.format(inputs.shape))\n",
    "        x=self.convpool01(inputs)\n",
    "        x=self.convpool02(x)\n",
    "        x=self.convpool03(x)\n",
    "        x=self.convpool04(x)\n",
    "        x=self.convpool05(x)\n",
    "        \n",
    "        x=paddle.reshape(x,[-1,512*7*7])\n",
    "        x=self.fc01(x)\n",
    "        x=self.fc02(x)\n",
    "        y=self.fc03(x)\n",
    "        return y\n"
   ]
  },
  {
   "cell_type": "code",
   "execution_count": 11,
   "metadata": {
    "ExecuteTime": {
     "end_time": "2022-07-12T08:00:37.577365Z",
     "start_time": "2022-07-11T23:30:25.818592Z"
    },
    "execution": {
     "iopub.execute_input": "2022-07-11T11:03:24.382915Z",
     "iopub.status.busy": "2022-07-11T11:03:24.382696Z",
     "iopub.status.idle": "2022-07-11T11:13:06.312248Z",
     "shell.execute_reply": "2022-07-11T11:13:06.311308Z",
     "shell.execute_reply.started": "2022-07-11T11:03:24.382895Z"
    },
    "scrolled": true,
    "tags": []
   },
   "outputs": [
    {
     "name": "stdout",
     "output_type": "stream",
     "text": [
      "epch:0,step:10,loss:1.4139494895935059,acc:0.5\n",
      "epch:0,step:20,loss:1.586788296699524,acc:0.375\n",
      "epch:0,step:30,loss:1.8272998332977295,acc:0.0\n",
      "epch:0,step:40,loss:1.7343366146087646,acc:0.125\n",
      "epch:0,step:50,loss:1.7269412279129028,acc:0.0\n",
      "epch:0,step:60,loss:1.6014437675476074,acc:0.0\n",
      "epch:0,step:70,loss:1.73050856590271,acc:0.25\n",
      "epch:0,step:80,loss:1.581191062927246,acc:0.5\n",
      "epch:0,step:90,loss:1.6115689277648926,acc:0.25\n",
      "save to ./checkpoints\\save_dir_90.pdparams\n",
      "epch:0,step:100,loss:1.5662508010864258,acc:0.25\n",
      "epch:1,step:110,loss:1.711683750152588,acc:0.125\n",
      "epch:1,step:120,loss:1.6275732517242432,acc:0.25\n",
      "epch:1,step:130,loss:1.5719404220581055,acc:0.125\n",
      "epch:1,step:140,loss:1.6309714317321777,acc:0.125\n",
      "epch:1,step:150,loss:1.5859874486923218,acc:0.125\n",
      "epch:1,step:160,loss:1.637821078300476,acc:0.25\n",
      "epch:1,step:170,loss:1.6122609376907349,acc:0.125\n",
      "epch:1,step:180,loss:1.6031335592269897,acc:0.25\n",
      "epch:1,step:190,loss:1.5974823236465454,acc:0.25\n",
      "epch:1,step:200,loss:1.6015825271606445,acc:0.125\n",
      "epch:2,step:210,loss:1.6796863079071045,acc:0.125\n",
      "epch:2,step:220,loss:1.6421200037002563,acc:0.25\n",
      "epch:2,step:230,loss:2.311789035797119,acc:0.25\n",
      "epch:2,step:240,loss:1.713646411895752,acc:0.125\n",
      "epch:2,step:250,loss:1.6802313327789307,acc:0.0\n",
      "epch:2,step:260,loss:1.6080865859985352,acc:0.125\n",
      "epch:2,step:270,loss:1.5982697010040283,acc:0.25\n",
      "epch:2,step:280,loss:1.717177391052246,acc:0.375\n",
      "epch:2,step:290,loss:1.9312388896942139,acc:0.0\n",
      "epch:2,step:300,loss:1.6563255786895752,acc:0.125\n",
      "epch:3,step:310,loss:1.6438171863555908,acc:0.25\n",
      "epch:3,step:320,loss:1.6394994258880615,acc:0.375\n",
      "epch:3,step:330,loss:1.549082636833191,acc:0.375\n",
      "save to ./checkpoints\\save_dir_330.pdparams\n",
      "epch:3,step:340,loss:1.2783650159835815,acc:0.5\n",
      "epch:3,step:350,loss:1.815422773361206,acc:0.0\n",
      "epch:3,step:360,loss:1.9161052703857422,acc:0.125\n",
      "epch:3,step:370,loss:1.935737133026123,acc:0.0\n",
      "epch:3,step:380,loss:1.6564011573791504,acc:0.125\n",
      "epch:3,step:390,loss:1.6138712167739868,acc:0.25\n",
      "epch:3,step:400,loss:1.7958996295928955,acc:0.125\n",
      "epch:4,step:410,loss:1.6113003492355347,acc:0.375\n",
      "epch:4,step:420,loss:1.5832948684692383,acc:0.25\n",
      "epch:4,step:430,loss:1.8846782445907593,acc:0.125\n",
      "epch:4,step:440,loss:1.6052799224853516,acc:0.25\n",
      "epch:4,step:450,loss:1.7606432437896729,acc:0.0\n",
      "epch:4,step:460,loss:1.6457695960998535,acc:0.125\n",
      "epch:4,step:470,loss:1.608609676361084,acc:0.25\n",
      "epch:4,step:480,loss:1.568334698677063,acc:0.375\n",
      "epch:4,step:490,loss:1.6435887813568115,acc:0.125\n",
      "epch:4,step:500,loss:1.787322998046875,acc:0.0\n",
      "epch:4,step:510,loss:1.62749445438385,acc:0.0\n",
      "epch:5,step:520,loss:1.856221318244934,acc:0.125\n",
      "epch:5,step:530,loss:1.7685960531234741,acc:0.0\n",
      "epch:5,step:540,loss:1.6840943098068237,acc:0.125\n",
      "epch:5,step:550,loss:1.5767250061035156,acc:0.375\n",
      "epch:5,step:560,loss:1.7053554058074951,acc:0.125\n",
      "epch:5,step:570,loss:1.6823594570159912,acc:0.125\n",
      "epch:5,step:580,loss:1.7368710041046143,acc:0.125\n",
      "epch:5,step:590,loss:2.0643603801727295,acc:0.0\n",
      "epch:5,step:600,loss:1.712575912475586,acc:0.0\n",
      "epch:5,step:610,loss:1.760223388671875,acc:0.125\n",
      "epch:6,step:620,loss:1.699257493019104,acc:0.0\n",
      "epch:6,step:630,loss:1.6131988763809204,acc:0.0\n",
      "epch:6,step:640,loss:1.7002489566802979,acc:0.125\n",
      "epch:6,step:650,loss:1.5477039813995361,acc:0.5\n",
      "epch:6,step:660,loss:1.5924891233444214,acc:0.25\n",
      "epch:6,step:670,loss:1.596590518951416,acc:0.25\n",
      "epch:6,step:680,loss:1.597904086112976,acc:0.25\n",
      "epch:6,step:690,loss:1.6988180875778198,acc:0.125\n",
      "epch:6,step:700,loss:1.6904047727584839,acc:0.125\n",
      "epch:6,step:710,loss:1.8105363845825195,acc:0.0\n",
      "epch:7,step:720,loss:1.6035337448120117,acc:0.25\n",
      "epch:7,step:730,loss:1.6035118103027344,acc:0.25\n",
      "epch:7,step:740,loss:1.6222028732299805,acc:0.25\n",
      "epch:7,step:750,loss:1.5610229969024658,acc:0.375\n",
      "epch:7,step:760,loss:1.5157171487808228,acc:0.5\n",
      "epch:7,step:770,loss:1.614088535308838,acc:0.125\n",
      "epch:7,step:780,loss:1.6227641105651855,acc:0.25\n",
      "epch:7,step:790,loss:1.6025937795639038,acc:0.125\n",
      "epch:7,step:800,loss:1.5475691556930542,acc:0.125\n",
      "epch:7,step:810,loss:1.6251342296600342,acc:0.125\n",
      "epch:8,step:820,loss:1.910830020904541,acc:0.25\n",
      "epch:8,step:830,loss:1.6037061214447021,acc:0.25\n",
      "epch:8,step:840,loss:2.507748603820801,acc:0.125\n",
      "epch:8,step:850,loss:1.624619483947754,acc:0.25\n",
      "epch:8,step:860,loss:1.9696294069290161,acc:0.0\n",
      "epch:8,step:870,loss:1.6487091779708862,acc:0.0\n",
      "epch:8,step:880,loss:1.6027097702026367,acc:0.0\n",
      "epch:8,step:890,loss:1.6352834701538086,acc:0.125\n",
      "epch:8,step:900,loss:1.6099374294281006,acc:0.375\n",
      "epch:8,step:910,loss:1.6236226558685303,acc:0.0\n",
      "epch:9,step:920,loss:1.5140445232391357,acc:0.625\n",
      "epch:9,step:930,loss:1.706860899925232,acc:0.125\n",
      "epch:9,step:940,loss:1.7118791341781616,acc:0.0\n",
      "epch:9,step:950,loss:1.5946993827819824,acc:0.25\n",
      "epch:9,step:960,loss:1.6383086442947388,acc:0.125\n",
      "epch:9,step:970,loss:1.808542251586914,acc:0.25\n",
      "epch:9,step:980,loss:1.717416524887085,acc:0.125\n",
      "epch:9,step:990,loss:1.620283603668213,acc:0.25\n",
      "epch:9,step:1000,loss:1.7860450744628906,acc:0.25\n",
      "epch:9,step:1010,loss:1.6802805662155151,acc:0.125\n",
      "epch:9,step:1020,loss:1.603086233139038,acc:0.25\n"
     ]
    }
   ],
   "source": [
    "model=VGGNet()\n",
    "model.train()\n",
    "\n",
    "cross_entropy=paddle.nn.CrossEntropyLoss()\n",
    "opt=paddle.optimizer.Adam(learning_rate=train_parameters['learning_strategy']['lr'],parameters=model.parameters())\n",
    "\n",
    "steps=0\n",
    "Iters,losses,accs=[],[],[]\n",
    "maxacc=0\n",
    "for epo in range(train_parameters['num_epochs']):\n",
    "    for batch_id,data in enumerate(train_loader()):\n",
    "        x=data[0]\n",
    "        y=data[1]\n",
    "        pred=model(x)\n",
    "        loss=cross_entropy(pred,y)\n",
    "        acc=paddle.metric.accuracy(pred,y)\n",
    "        loss.backward()\n",
    "        opt.step()\n",
    "        opt.clear_grad()\n",
    "\n",
    "        steps+=1\n",
    "        if steps%train_parameters['skip_steps']==0:\n",
    "            Iters.append(steps)\n",
    "            losses.append(loss.numpy()[0])\n",
    "            accs.append(acc.numpy()[0])\n",
    "            print(\"epch:{},step:{},loss:{},acc:{}\".format(epo,steps,loss.numpy()[0],acc.numpy()[0]))\n",
    "        \n",
    "        if steps%train_parameters['save_steps']==0:\n",
    "            if maxacc<acc.numpy()[0]:\n",
    "                maxacc=acc.numpy()[0]\n",
    "                save_path=os.path.join(train_parameters['checkpoints'],\"save_dir_\"+str(steps)+'.pdparams')\n",
    "                print('save to %s'%save_path)\n",
    "                paddle.save(model.state_dict(),save_path)\n",
    "    \n",
    "    paddle.save(model.state_dict(),\"MyVGGNet\")\n"
   ]
  },
  {
   "cell_type": "markdown",
   "metadata": {
    "tags": []
   },
   "source": [
    "## 模型评估"
   ]
  },
  {
   "cell_type": "code",
   "execution_count": 17,
   "metadata": {
    "ExecuteTime": {
     "end_time": "2022-07-12T08:19:19.215405Z",
     "start_time": "2022-07-12T08:19:19.121487Z"
    },
    "execution": {
     "iopub.execute_input": "2022-07-11T11:13:06.313890Z",
     "iopub.status.busy": "2022-07-11T11:13:06.313486Z",
     "iopub.status.idle": "2022-07-11T11:13:06.677453Z",
     "shell.execute_reply": "2022-07-11T11:13:06.676634Z",
     "shell.execute_reply.started": "2022-07-11T11:13:06.313861Z"
    },
    "scrolled": true,
    "tags": []
   },
   "outputs": [
    {
     "data": {
      "text/plain": [
       "[<matplotlib.lines.Line2D at 0x1af6ed589b0>]"
      ]
     },
     "execution_count": 17,
     "metadata": {},
     "output_type": "execute_result"
    },
    {
     "data": {
      "image/png": "[encoded data removed]",
      "text/plain": [
       "<Figure size 432x288 with 1 Axes>"
      ]
     },
     "metadata": {
      "needs_background": "light"
     },
     "output_type": "display_data"
    }
   ],
   "source": [
    "plt.plot(Iters,losses)"
   ]
  },
  {
   "cell_type": "code",
   "execution_count": 21,
   "metadata": {
    "ExecuteTime": {
     "end_time": "2022-07-12T08:20:14.319645Z",
     "start_time": "2022-07-12T08:20:14.308836Z"
    }
   },
   "outputs": [
    {
     "data": {
      "text/plain": [
       "(12, 102, 102)"
      ]
     },
     "execution_count": 21,
     "metadata": {},
     "output_type": "execute_result"
    }
   ],
   "source": [
    "len(accs),len(Iters),len(losses)"
   ]
  },
  {
   "cell_type": "code",
   "execution_count": 24,
   "metadata": {
    "ExecuteTime": {
     "end_time": "2022-07-12T08:21:23.341799Z",
     "start_time": "2022-07-12T08:21:23.253892Z"
    },
    "execution": {
     "iopub.execute_input": "2022-07-11T11:13:06.679127Z",
     "iopub.status.busy": "2022-07-11T11:13:06.678544Z",
     "iopub.status.idle": "2022-07-11T11:13:06.817622Z",
     "shell.execute_reply": "2022-07-11T11:13:06.816884Z",
     "shell.execute_reply.started": "2022-07-11T11:13:06.679099Z"
    },
    "scrolled": true
   },
   "outputs": [
    {
     "data": {
      "text/plain": [
       "[<matplotlib.lines.Line2D at 0x1af6ee1c978>]"
      ]
     },
     "execution_count": 24,
     "metadata": {},
     "output_type": "execute_result"
    },
    {
     "data": {
      "image/png": "[encoded data removed]",
      "text/plain": [
       "<Figure size 432x288 with 1 Axes>"
      ]
     },
     "metadata": {
      "needs_background": "light"
     },
     "output_type": "display_data"
    }
   ],
   "source": [
    "plt.plot(np.array(range(1,13)),accs)"
   ]
  },
  {
   "cell_type": "code",
   "execution_count": 25,
   "metadata": {
    "ExecuteTime": {
     "end_time": "2022-07-12T08:23:17.747180Z",
     "start_time": "2022-07-12T08:21:31.849361Z"
    },
    "execution": {
     "iopub.execute_input": "2022-07-11T11:16:52.715869Z",
     "iopub.status.busy": "2022-07-11T11:16:52.714690Z",
     "iopub.status.idle": "2022-07-11T11:16:54.733916Z",
     "shell.execute_reply": "2022-07-11T11:16:54.733080Z",
     "shell.execute_reply.started": "2022-07-11T11:16:52.715817Z"
    },
    "scrolled": true,
    "tags": []
   },
   "outputs": [
    {
     "data": {
      "text/plain": [
       "0.19791667"
      ]
     },
     "execution_count": 25,
     "metadata": {},
     "output_type": "execute_result"
    }
   ],
   "source": [
    "model_state_dict=paddle.load('MyVGGNet')\n",
    "model_eval=VGGNet()\n",
    "model.set_state_dict(model_state_dict)\n",
    "model_eval.eval()\n",
    "accs=[]\n",
    "for batch_id,data in enumerate(eval_loader()):\n",
    "    x=data[0]\n",
    "    y=data[1]\n",
    "    pred=model(x)\n",
    "    acc=paddle.metric.accuracy(pred,y)\n",
    "    accs.append(acc.numpy()[0])\n",
    "\n",
    "np.mean(accs)"
   ]
  },
  {
   "cell_type": "code",
   "execution_count": null,
   "metadata": {
    "scrolled": true
   },
   "outputs": [],
   "source": []
  }
 ],
 "metadata": {
  "kernelspec": {
   "display_name": "Python 3",
   "language": "python",
   "name": "python3"
  },
  "language_info": {
   "codemirror_mode": {
    "name": "ipython",
    "version": 3
   },
   "file_extension": ".py",
   "mimetype": "text/x-python",
   "name": "python",
   "nbconvert_exporter": "python",
   "pygments_lexer": "ipython3",
   "version": "3.6.4"
  }
 },
 "nbformat": 4,
 "nbformat_minor": 4
}
